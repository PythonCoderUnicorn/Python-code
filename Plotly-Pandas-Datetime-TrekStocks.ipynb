{
 "cells": [
  {
   "cell_type": "code",
   "execution_count": null,
   "metadata": {},
   "outputs": [],
   "source": []
  },
  {
   "cell_type": "markdown",
   "metadata": {},
   "source": [
    "This notebook will use my created Star Trek Stocks data to simulate the NASDAQ stockmarket \n",
    "financial data often used in copious tutorials\n"
   ]
  },
  {
   "cell_type": "markdown",
   "metadata": {},
   "source": [
    "Title: Star Trek Stocks & various code\n",
    "- Zane Dax\n",
    "- Nov 14, 2020\n"
   ]
  },
  {
   "cell_type": "code",
   "execution_count": 4,
   "metadata": {},
   "outputs": [
    {
     "name": "stdout",
     "output_type": "stream",
     "text": [
      "[ 7613  4817  7530  7800  3445  9445  7377  3138 10229 10725]\n",
      "[18457 13852 18075  9860  3133 12914 14385 17133  4021 13536]\n"
     ]
    }
   ],
   "source": [
    "import numpy as np\n",
    "\n",
    "# np.random.randint(1e3,2e4,100)\n",
    "x =  np.random.randint(1e3,2e4,10)\n",
    "#[int(i) for i in str(x)]\n",
    "print(x)\n",
    "\n",
    "m = np.random.randint(1e3,2e4,10)\n",
    "print(m)"
   ]
  },
  {
   "cell_type": "code",
   "execution_count": 5,
   "metadata": {},
   "outputs": [
    {
     "name": "stdout",
     "output_type": "stream",
     "text": [
      "[7613, 4817, 7530, 7800, 3445, 9445, 7377, 3138, 10229, 10725] \n",
      "\n",
      "[18457, 13852, 18075, 9860, 3133, 12914, 14385, 17133, 4021, 13536]\n"
     ]
    },
    {
     "data": {
      "text/plain": [
       "10"
      ]
     },
     "execution_count": 5,
     "metadata": {},
     "output_type": "execute_result"
    }
   ],
   "source": [
    "l = []\n",
    "k = []\n",
    "\n",
    "for i in x:\n",
    "    l.append(i)\n",
    "    \n",
    "for n in m:\n",
    "    k.append(n)\n",
    "    #print(i)\n",
    "    \n",
    "    \n",
    "print(l,'\\n')\n",
    "print(k)\n",
    "len(l)"
   ]
  },
  {
   "cell_type": "code",
   "execution_count": 6,
   "metadata": {},
   "outputs": [],
   "source": [
    "import pandas as pd"
   ]
  },
  {
   "cell_type": "code",
   "execution_count": 7,
   "metadata": {},
   "outputs": [
    {
     "data": {
      "text/plain": [
       "array([26070, 18669, 25605, 17660,  6578, 22359, 21762, 20271, 14250,\n",
       "       24261])"
      ]
     },
     "execution_count": 7,
     "metadata": {},
     "output_type": "execute_result"
    }
   ],
   "source": [
    "# type(l)\n",
    "u = l + m\n",
    "u"
   ]
  },
  {
   "cell_type": "code",
   "execution_count": 8,
   "metadata": {},
   "outputs": [
    {
     "name": "stdout",
     "output_type": "stream",
     "text": [
      "7613-7530\n"
     ]
    }
   ],
   "source": [
    "y = x[0] \n",
    "y2= x[2]\n",
    "\n",
    "print(\"{}-{}\".format(y,y2))"
   ]
  },
  {
   "cell_type": "code",
   "execution_count": 9,
   "metadata": {
    "scrolled": true
   },
   "outputs": [
    {
     "data": {
      "text/html": [
       "<div>\n",
       "<style scoped>\n",
       "    .dataframe tbody tr th:only-of-type {\n",
       "        vertical-align: middle;\n",
       "    }\n",
       "\n",
       "    .dataframe tbody tr th {\n",
       "        vertical-align: top;\n",
       "    }\n",
       "\n",
       "    .dataframe thead th {\n",
       "        text-align: right;\n",
       "    }\n",
       "</style>\n",
       "<table border=\"1\" class=\"dataframe\">\n",
       "  <thead>\n",
       "    <tr style=\"text-align: right;\">\n",
       "      <th></th>\n",
       "      <th>Promenade</th>\n",
       "      <th>QuarksBar</th>\n",
       "      <th>CargoBays</th>\n",
       "      <th>ShuttleBay</th>\n",
       "    </tr>\n",
       "  </thead>\n",
       "  <tbody>\n",
       "    <tr>\n",
       "      <th>0</th>\n",
       "      <td>3</td>\n",
       "      <td>1</td>\n",
       "      <td>4</td>\n",
       "      <td>8</td>\n",
       "    </tr>\n",
       "    <tr>\n",
       "      <th>1</th>\n",
       "      <td>0</td>\n",
       "      <td>9</td>\n",
       "      <td>9</td>\n",
       "      <td>1</td>\n",
       "    </tr>\n",
       "    <tr>\n",
       "      <th>2</th>\n",
       "      <td>0</td>\n",
       "      <td>6</td>\n",
       "      <td>6</td>\n",
       "      <td>1</td>\n",
       "    </tr>\n",
       "    <tr>\n",
       "      <th>3</th>\n",
       "      <td>7</td>\n",
       "      <td>6</td>\n",
       "      <td>9</td>\n",
       "      <td>7</td>\n",
       "    </tr>\n",
       "  </tbody>\n",
       "</table>\n",
       "</div>"
      ],
      "text/plain": [
       "   Promenade  QuarksBar  CargoBays  ShuttleBay\n",
       "0          3          1          4           8\n",
       "1          0          9          9           1\n",
       "2          0          6          6           1\n",
       "3          7          6          9           7"
      ]
     },
     "execution_count": 9,
     "metadata": {},
     "output_type": "execute_result"
    }
   ],
   "source": [
    "# DS9 crime rate\n",
    "\n",
    "ds9_crime = pd.DataFrame(np.random.randint(0,10, (4,4)),\n",
    "                          columns=['Promenade',\n",
    "                                   'QuarksBar',\n",
    "                                   'CargoBays',\n",
    "                                   'ShuttleBay'] )\n",
    "\n",
    "ds9_crime"
   ]
  },
  {
   "cell_type": "code",
   "execution_count": 10,
   "metadata": {},
   "outputs": [
    {
     "data": {
      "text/plain": [
       "DatetimeIndex(['2231-07-03', '2231-07-04', '2231-07-05', '2231-07-06',\n",
       "               '2231-07-07', '2231-07-08', '2231-07-09', '2231-07-10',\n",
       "               '2231-07-11', '2231-07-12'],\n",
       "              dtype='datetime64[ns]', freq=None)"
      ]
     },
     "execution_count": 10,
     "metadata": {},
     "output_type": "execute_result"
    }
   ],
   "source": [
    "from datetime import datetime\n",
    "\n",
    "panda_d = pd.to_datetime(\"3rd of July, 2231\") \n",
    "panda_d = panda_d + pd.to_timedelta(np.arange(10), 'D')\n",
    "panda_d"
   ]
  },
  {
   "cell_type": "raw",
   "metadata": {},
   "source": [
    "stock_values = pd.Series({\n",
    "    'TSX': np.random(0,1e6),\n",
    "    \n",
    "}\n",
    ")"
   ]
  },
  {
   "cell_type": "code",
   "execution_count": 13,
   "metadata": {
    "scrolled": true
   },
   "outputs": [
    {
     "data": {
      "text/html": [
       "<div>\n",
       "<style scoped>\n",
       "    .dataframe tbody tr th:only-of-type {\n",
       "        vertical-align: middle;\n",
       "    }\n",
       "\n",
       "    .dataframe tbody tr th {\n",
       "        vertical-align: top;\n",
       "    }\n",
       "\n",
       "    .dataframe thead th {\n",
       "        text-align: right;\n",
       "    }\n",
       "</style>\n",
       "<table border=\"1\" class=\"dataframe\">\n",
       "  <thead>\n",
       "    <tr style=\"text-align: right;\">\n",
       "      <th></th>\n",
       "      <th>TSX</th>\n",
       "      <th>ASX</th>\n",
       "      <th>BSX</th>\n",
       "      <th>RSX</th>\n",
       "      <th>REX</th>\n",
       "      <th>VMX.V</th>\n",
       "      <th>BNXR</th>\n",
       "      <th>CRXM</th>\n",
       "      <th>DRX.L</th>\n",
       "      <th>ENTX</th>\n",
       "    </tr>\n",
       "  </thead>\n",
       "  <tbody>\n",
       "    <tr>\n",
       "      <th>2231-07-03</th>\n",
       "      <td>434523095</td>\n",
       "      <td>108382095</td>\n",
       "      <td>357475196</td>\n",
       "      <td>180544360</td>\n",
       "      <td>297491943</td>\n",
       "      <td>27382953</td>\n",
       "      <td>375525010</td>\n",
       "      <td>487861779</td>\n",
       "      <td>346663966</td>\n",
       "      <td>81891488</td>\n",
       "    </tr>\n",
       "    <tr>\n",
       "      <th>2231-07-04</th>\n",
       "      <td>197005101</td>\n",
       "      <td>60506796</td>\n",
       "      <td>213264945</td>\n",
       "      <td>107283665</td>\n",
       "      <td>412472387</td>\n",
       "      <td>220245938</td>\n",
       "      <td>353495636</td>\n",
       "      <td>116940025</td>\n",
       "      <td>53502013</td>\n",
       "      <td>139382411</td>\n",
       "    </tr>\n",
       "    <tr>\n",
       "      <th>2231-07-05</th>\n",
       "      <td>370406838</td>\n",
       "      <td>97630712</td>\n",
       "      <td>150504034</td>\n",
       "      <td>177397946</td>\n",
       "      <td>214418716</td>\n",
       "      <td>14056564</td>\n",
       "      <td>135821368</td>\n",
       "      <td>320375279</td>\n",
       "      <td>12429650</td>\n",
       "      <td>69681018</td>\n",
       "    </tr>\n",
       "    <tr>\n",
       "      <th>2231-07-06</th>\n",
       "      <td>245171001</td>\n",
       "      <td>367956925</td>\n",
       "      <td>340538984</td>\n",
       "      <td>220134185</td>\n",
       "      <td>345793740</td>\n",
       "      <td>152908866</td>\n",
       "      <td>41819912</td>\n",
       "      <td>199913935</td>\n",
       "      <td>295798439</td>\n",
       "      <td>396124416</td>\n",
       "    </tr>\n",
       "    <tr>\n",
       "      <th>2231-07-07</th>\n",
       "      <td>242818607</td>\n",
       "      <td>24195727</td>\n",
       "      <td>267498228</td>\n",
       "      <td>284727982</td>\n",
       "      <td>293640429</td>\n",
       "      <td>119026220</td>\n",
       "      <td>423698146</td>\n",
       "      <td>3769014</td>\n",
       "      <td>417986183</td>\n",
       "      <td>189517458</td>\n",
       "    </tr>\n",
       "    <tr>\n",
       "      <th>2231-07-08</th>\n",
       "      <td>424057399</td>\n",
       "      <td>498639062</td>\n",
       "      <td>83711641</td>\n",
       "      <td>66884905</td>\n",
       "      <td>181830616</td>\n",
       "      <td>404121256</td>\n",
       "      <td>332017062</td>\n",
       "      <td>132660456</td>\n",
       "      <td>399157363</td>\n",
       "      <td>449265514</td>\n",
       "    </tr>\n",
       "    <tr>\n",
       "      <th>2231-07-09</th>\n",
       "      <td>189484999</td>\n",
       "      <td>358874832</td>\n",
       "      <td>55533015</td>\n",
       "      <td>423101700</td>\n",
       "      <td>374935739</td>\n",
       "      <td>219289330</td>\n",
       "      <td>320573889</td>\n",
       "      <td>279559761</td>\n",
       "      <td>262442455</td>\n",
       "      <td>202454174</td>\n",
       "    </tr>\n",
       "    <tr>\n",
       "      <th>2231-07-10</th>\n",
       "      <td>9272046</td>\n",
       "      <td>325889586</td>\n",
       "      <td>374477033</td>\n",
       "      <td>415353141</td>\n",
       "      <td>220236534</td>\n",
       "      <td>366408850</td>\n",
       "      <td>435416197</td>\n",
       "      <td>270530913</td>\n",
       "      <td>19480528</td>\n",
       "      <td>421186393</td>\n",
       "    </tr>\n",
       "    <tr>\n",
       "      <th>2231-07-11</th>\n",
       "      <td>81035425</td>\n",
       "      <td>429989250</td>\n",
       "      <td>90538974</td>\n",
       "      <td>102169541</td>\n",
       "      <td>215761175</td>\n",
       "      <td>413350621</td>\n",
       "      <td>70884382</td>\n",
       "      <td>204871931</td>\n",
       "      <td>454423716</td>\n",
       "      <td>371526208</td>\n",
       "    </tr>\n",
       "    <tr>\n",
       "      <th>2231-07-12</th>\n",
       "      <td>257127693</td>\n",
       "      <td>69760786</td>\n",
       "      <td>136730587</td>\n",
       "      <td>464236238</td>\n",
       "      <td>88337804</td>\n",
       "      <td>66394129</td>\n",
       "      <td>235350460</td>\n",
       "      <td>8003581</td>\n",
       "      <td>345550879</td>\n",
       "      <td>407377168</td>\n",
       "    </tr>\n",
       "  </tbody>\n",
       "</table>\n",
       "</div>"
      ],
      "text/plain": [
       "                  TSX        ASX        BSX        RSX        REX      VMX.V  \\\n",
       "2231-07-03  434523095  108382095  357475196  180544360  297491943   27382953   \n",
       "2231-07-04  197005101   60506796  213264945  107283665  412472387  220245938   \n",
       "2231-07-05  370406838   97630712  150504034  177397946  214418716   14056564   \n",
       "2231-07-06  245171001  367956925  340538984  220134185  345793740  152908866   \n",
       "2231-07-07  242818607   24195727  267498228  284727982  293640429  119026220   \n",
       "2231-07-08  424057399  498639062   83711641   66884905  181830616  404121256   \n",
       "2231-07-09  189484999  358874832   55533015  423101700  374935739  219289330   \n",
       "2231-07-10    9272046  325889586  374477033  415353141  220236534  366408850   \n",
       "2231-07-11   81035425  429989250   90538974  102169541  215761175  413350621   \n",
       "2231-07-12  257127693   69760786  136730587  464236238   88337804   66394129   \n",
       "\n",
       "                 BNXR       CRXM      DRX.L       ENTX  \n",
       "2231-07-03  375525010  487861779  346663966   81891488  \n",
       "2231-07-04  353495636  116940025   53502013  139382411  \n",
       "2231-07-05  135821368  320375279   12429650   69681018  \n",
       "2231-07-06   41819912  199913935  295798439  396124416  \n",
       "2231-07-07  423698146    3769014  417986183  189517458  \n",
       "2231-07-08  332017062  132660456  399157363  449265514  \n",
       "2231-07-09  320573889  279559761  262442455  202454174  \n",
       "2231-07-10  435416197  270530913   19480528  421186393  \n",
       "2231-07-11   70884382  204871931  454423716  371526208  \n",
       "2231-07-12  235350460    8003581  345550879  407377168  "
      ]
     },
     "execution_count": 13,
     "metadata": {},
     "output_type": "execute_result"
    }
   ],
   "source": [
    "import pandas as pd\n",
    "import numpy as np\n",
    "\n",
    "trek_stocks = pd.DataFrame(\n",
    "    np.random.randint(1e6,5e8,(10,10)),\n",
    "    panda_d,\n",
    "    columns=['TSX','ASX','BSX',\n",
    "             'RSX','REX','VMX.V',\n",
    "             'BNXR','CRXM','DRX.L', \n",
    "             'ENTX'],\n",
    "#     index=['Date',panda_d]\n",
    "   )\n",
    "\n",
    "trek_stocks"
   ]
  },
  {
   "cell_type": "code",
   "execution_count": 22,
   "metadata": {},
   "outputs": [],
   "source": [
    "import plotly.express as px\n",
    "\n",
    "# Function to plot interactive plot\n",
    "def plotly_plot(df, title):\n",
    "    \n",
    "    fig = px.line(title = title)\n",
    "    fig.layout.template = 'plotly_dark'\n",
    "    for i in df.columns[1:]:\n",
    "        fig.add_scatter(x = df['TSX'], y = df[i], name = i)\n",
    "    fig.show()"
   ]
  },
  {
   "cell_type": "code",
   "execution_count": 23,
   "metadata": {
    "scrolled": false
   },
   "outputs": [
    {
     "data": {
      "application/vnd.plotly.v1+json": {
       "config": {
        "plotlyServerURL": "https://plot.ly"
       },
       "data": [
        {
         "name": "ASX",
         "type": "scatter",
         "x": [
          434523095,
          197005101,
          370406838,
          245171001,
          242818607,
          424057399,
          189484999,
          9272046,
          81035425,
          257127693
         ],
         "y": [
          108382095,
          60506796,
          97630712,
          367956925,
          24195727,
          498639062,
          358874832,
          325889586,
          429989250,
          69760786
         ]
        },
        {
         "name": "BSX",
         "type": "scatter",
         "x": [
          434523095,
          197005101,
          370406838,
          245171001,
          242818607,
          424057399,
          189484999,
          9272046,
          81035425,
          257127693
         ],
         "y": [
          357475196,
          213264945,
          150504034,
          340538984,
          267498228,
          83711641,
          55533015,
          374477033,
          90538974,
          136730587
         ]
        },
        {
         "name": "RSX",
         "type": "scatter",
         "x": [
          434523095,
          197005101,
          370406838,
          245171001,
          242818607,
          424057399,
          189484999,
          9272046,
          81035425,
          257127693
         ],
         "y": [
          180544360,
          107283665,
          177397946,
          220134185,
          284727982,
          66884905,
          423101700,
          415353141,
          102169541,
          464236238
         ]
        },
        {
         "name": "REX",
         "type": "scatter",
         "x": [
          434523095,
          197005101,
          370406838,
          245171001,
          242818607,
          424057399,
          189484999,
          9272046,
          81035425,
          257127693
         ],
         "y": [
          297491943,
          412472387,
          214418716,
          345793740,
          293640429,
          181830616,
          374935739,
          220236534,
          215761175,
          88337804
         ]
        },
        {
         "name": "VMX.V",
         "type": "scatter",
         "x": [
          434523095,
          197005101,
          370406838,
          245171001,
          242818607,
          424057399,
          189484999,
          9272046,
          81035425,
          257127693
         ],
         "y": [
          27382953,
          220245938,
          14056564,
          152908866,
          119026220,
          404121256,
          219289330,
          366408850,
          413350621,
          66394129
         ]
        },
        {
         "name": "BNXR",
         "type": "scatter",
         "x": [
          434523095,
          197005101,
          370406838,
          245171001,
          242818607,
          424057399,
          189484999,
          9272046,
          81035425,
          257127693
         ],
         "y": [
          375525010,
          353495636,
          135821368,
          41819912,
          423698146,
          332017062,
          320573889,
          435416197,
          70884382,
          235350460
         ]
        },
        {
         "name": "CRXM",
         "type": "scatter",
         "x": [
          434523095,
          197005101,
          370406838,
          245171001,
          242818607,
          424057399,
          189484999,
          9272046,
          81035425,
          257127693
         ],
         "y": [
          487861779,
          116940025,
          320375279,
          199913935,
          3769014,
          132660456,
          279559761,
          270530913,
          204871931,
          8003581
         ]
        },
        {
         "name": "DRX.L",
         "type": "scatter",
         "x": [
          434523095,
          197005101,
          370406838,
          245171001,
          242818607,
          424057399,
          189484999,
          9272046,
          81035425,
          257127693
         ],
         "y": [
          346663966,
          53502013,
          12429650,
          295798439,
          417986183,
          399157363,
          262442455,
          19480528,
          454423716,
          345550879
         ]
        },
        {
         "name": "ENTX",
         "type": "scatter",
         "x": [
          434523095,
          197005101,
          370406838,
          245171001,
          242818607,
          424057399,
          189484999,
          9272046,
          81035425,
          257127693
         ],
         "y": [
          81891488,
          139382411,
          69681018,
          396124416,
          189517458,
          449265514,
          202454174,
          421186393,
          371526208,
          407377168
         ]
        }
       ],
       "layout": {
        "legend": {
         "tracegroupgap": 0
        },
        "template": {
         "data": {
          "bar": [
           {
            "error_x": {
             "color": "#f2f5fa"
            },
            "error_y": {
             "color": "#f2f5fa"
            },
            "marker": {
             "line": {
              "color": "rgb(17,17,17)",
              "width": 0.5
             }
            },
            "type": "bar"
           }
          ],
          "barpolar": [
           {
            "marker": {
             "line": {
              "color": "rgb(17,17,17)",
              "width": 0.5
             }
            },
            "type": "barpolar"
           }
          ],
          "carpet": [
           {
            "aaxis": {
             "endlinecolor": "#A2B1C6",
             "gridcolor": "#506784",
             "linecolor": "#506784",
             "minorgridcolor": "#506784",
             "startlinecolor": "#A2B1C6"
            },
            "baxis": {
             "endlinecolor": "#A2B1C6",
             "gridcolor": "#506784",
             "linecolor": "#506784",
             "minorgridcolor": "#506784",
             "startlinecolor": "#A2B1C6"
            },
            "type": "carpet"
           }
          ],
          "choropleth": [
           {
            "colorbar": {
             "outlinewidth": 0,
             "ticks": ""
            },
            "type": "choropleth"
           }
          ],
          "contour": [
           {
            "colorbar": {
             "outlinewidth": 0,
             "ticks": ""
            },
            "colorscale": [
             [
              0,
              "#0d0887"
             ],
             [
              0.1111111111111111,
              "#46039f"
             ],
             [
              0.2222222222222222,
              "#7201a8"
             ],
             [
              0.3333333333333333,
              "#9c179e"
             ],
             [
              0.4444444444444444,
              "#bd3786"
             ],
             [
              0.5555555555555556,
              "#d8576b"
             ],
             [
              0.6666666666666666,
              "#ed7953"
             ],
             [
              0.7777777777777778,
              "#fb9f3a"
             ],
             [
              0.8888888888888888,
              "#fdca26"
             ],
             [
              1,
              "#f0f921"
             ]
            ],
            "type": "contour"
           }
          ],
          "contourcarpet": [
           {
            "colorbar": {
             "outlinewidth": 0,
             "ticks": ""
            },
            "type": "contourcarpet"
           }
          ],
          "heatmap": [
           {
            "colorbar": {
             "outlinewidth": 0,
             "ticks": ""
            },
            "colorscale": [
             [
              0,
              "#0d0887"
             ],
             [
              0.1111111111111111,
              "#46039f"
             ],
             [
              0.2222222222222222,
              "#7201a8"
             ],
             [
              0.3333333333333333,
              "#9c179e"
             ],
             [
              0.4444444444444444,
              "#bd3786"
             ],
             [
              0.5555555555555556,
              "#d8576b"
             ],
             [
              0.6666666666666666,
              "#ed7953"
             ],
             [
              0.7777777777777778,
              "#fb9f3a"
             ],
             [
              0.8888888888888888,
              "#fdca26"
             ],
             [
              1,
              "#f0f921"
             ]
            ],
            "type": "heatmap"
           }
          ],
          "heatmapgl": [
           {
            "colorbar": {
             "outlinewidth": 0,
             "ticks": ""
            },
            "colorscale": [
             [
              0,
              "#0d0887"
             ],
             [
              0.1111111111111111,
              "#46039f"
             ],
             [
              0.2222222222222222,
              "#7201a8"
             ],
             [
              0.3333333333333333,
              "#9c179e"
             ],
             [
              0.4444444444444444,
              "#bd3786"
             ],
             [
              0.5555555555555556,
              "#d8576b"
             ],
             [
              0.6666666666666666,
              "#ed7953"
             ],
             [
              0.7777777777777778,
              "#fb9f3a"
             ],
             [
              0.8888888888888888,
              "#fdca26"
             ],
             [
              1,
              "#f0f921"
             ]
            ],
            "type": "heatmapgl"
           }
          ],
          "histogram": [
           {
            "marker": {
             "colorbar": {
              "outlinewidth": 0,
              "ticks": ""
             }
            },
            "type": "histogram"
           }
          ],
          "histogram2d": [
           {
            "colorbar": {
             "outlinewidth": 0,
             "ticks": ""
            },
            "colorscale": [
             [
              0,
              "#0d0887"
             ],
             [
              0.1111111111111111,
              "#46039f"
             ],
             [
              0.2222222222222222,
              "#7201a8"
             ],
             [
              0.3333333333333333,
              "#9c179e"
             ],
             [
              0.4444444444444444,
              "#bd3786"
             ],
             [
              0.5555555555555556,
              "#d8576b"
             ],
             [
              0.6666666666666666,
              "#ed7953"
             ],
             [
              0.7777777777777778,
              "#fb9f3a"
             ],
             [
              0.8888888888888888,
              "#fdca26"
             ],
             [
              1,
              "#f0f921"
             ]
            ],
            "type": "histogram2d"
           }
          ],
          "histogram2dcontour": [
           {
            "colorbar": {
             "outlinewidth": 0,
             "ticks": ""
            },
            "colorscale": [
             [
              0,
              "#0d0887"
             ],
             [
              0.1111111111111111,
              "#46039f"
             ],
             [
              0.2222222222222222,
              "#7201a8"
             ],
             [
              0.3333333333333333,
              "#9c179e"
             ],
             [
              0.4444444444444444,
              "#bd3786"
             ],
             [
              0.5555555555555556,
              "#d8576b"
             ],
             [
              0.6666666666666666,
              "#ed7953"
             ],
             [
              0.7777777777777778,
              "#fb9f3a"
             ],
             [
              0.8888888888888888,
              "#fdca26"
             ],
             [
              1,
              "#f0f921"
             ]
            ],
            "type": "histogram2dcontour"
           }
          ],
          "mesh3d": [
           {
            "colorbar": {
             "outlinewidth": 0,
             "ticks": ""
            },
            "type": "mesh3d"
           }
          ],
          "parcoords": [
           {
            "line": {
             "colorbar": {
              "outlinewidth": 0,
              "ticks": ""
             }
            },
            "type": "parcoords"
           }
          ],
          "pie": [
           {
            "automargin": true,
            "type": "pie"
           }
          ],
          "scatter": [
           {
            "marker": {
             "line": {
              "color": "#283442"
             }
            },
            "type": "scatter"
           }
          ],
          "scatter3d": [
           {
            "line": {
             "colorbar": {
              "outlinewidth": 0,
              "ticks": ""
             }
            },
            "marker": {
             "colorbar": {
              "outlinewidth": 0,
              "ticks": ""
             }
            },
            "type": "scatter3d"
           }
          ],
          "scattercarpet": [
           {
            "marker": {
             "colorbar": {
              "outlinewidth": 0,
              "ticks": ""
             }
            },
            "type": "scattercarpet"
           }
          ],
          "scattergeo": [
           {
            "marker": {
             "colorbar": {
              "outlinewidth": 0,
              "ticks": ""
             }
            },
            "type": "scattergeo"
           }
          ],
          "scattergl": [
           {
            "marker": {
             "line": {
              "color": "#283442"
             }
            },
            "type": "scattergl"
           }
          ],
          "scattermapbox": [
           {
            "marker": {
             "colorbar": {
              "outlinewidth": 0,
              "ticks": ""
             }
            },
            "type": "scattermapbox"
           }
          ],
          "scatterpolar": [
           {
            "marker": {
             "colorbar": {
              "outlinewidth": 0,
              "ticks": ""
             }
            },
            "type": "scatterpolar"
           }
          ],
          "scatterpolargl": [
           {
            "marker": {
             "colorbar": {
              "outlinewidth": 0,
              "ticks": ""
             }
            },
            "type": "scatterpolargl"
           }
          ],
          "scatterternary": [
           {
            "marker": {
             "colorbar": {
              "outlinewidth": 0,
              "ticks": ""
             }
            },
            "type": "scatterternary"
           }
          ],
          "surface": [
           {
            "colorbar": {
             "outlinewidth": 0,
             "ticks": ""
            },
            "colorscale": [
             [
              0,
              "#0d0887"
             ],
             [
              0.1111111111111111,
              "#46039f"
             ],
             [
              0.2222222222222222,
              "#7201a8"
             ],
             [
              0.3333333333333333,
              "#9c179e"
             ],
             [
              0.4444444444444444,
              "#bd3786"
             ],
             [
              0.5555555555555556,
              "#d8576b"
             ],
             [
              0.6666666666666666,
              "#ed7953"
             ],
             [
              0.7777777777777778,
              "#fb9f3a"
             ],
             [
              0.8888888888888888,
              "#fdca26"
             ],
             [
              1,
              "#f0f921"
             ]
            ],
            "type": "surface"
           }
          ],
          "table": [
           {
            "cells": {
             "fill": {
              "color": "#506784"
             },
             "line": {
              "color": "rgb(17,17,17)"
             }
            },
            "header": {
             "fill": {
              "color": "#2a3f5f"
             },
             "line": {
              "color": "rgb(17,17,17)"
             }
            },
            "type": "table"
           }
          ]
         },
         "layout": {
          "annotationdefaults": {
           "arrowcolor": "#f2f5fa",
           "arrowhead": 0,
           "arrowwidth": 1
          },
          "coloraxis": {
           "colorbar": {
            "outlinewidth": 0,
            "ticks": ""
           }
          },
          "colorscale": {
           "diverging": [
            [
             0,
             "#8e0152"
            ],
            [
             0.1,
             "#c51b7d"
            ],
            [
             0.2,
             "#de77ae"
            ],
            [
             0.3,
             "#f1b6da"
            ],
            [
             0.4,
             "#fde0ef"
            ],
            [
             0.5,
             "#f7f7f7"
            ],
            [
             0.6,
             "#e6f5d0"
            ],
            [
             0.7,
             "#b8e186"
            ],
            [
             0.8,
             "#7fbc41"
            ],
            [
             0.9,
             "#4d9221"
            ],
            [
             1,
             "#276419"
            ]
           ],
           "sequential": [
            [
             0,
             "#0d0887"
            ],
            [
             0.1111111111111111,
             "#46039f"
            ],
            [
             0.2222222222222222,
             "#7201a8"
            ],
            [
             0.3333333333333333,
             "#9c179e"
            ],
            [
             0.4444444444444444,
             "#bd3786"
            ],
            [
             0.5555555555555556,
             "#d8576b"
            ],
            [
             0.6666666666666666,
             "#ed7953"
            ],
            [
             0.7777777777777778,
             "#fb9f3a"
            ],
            [
             0.8888888888888888,
             "#fdca26"
            ],
            [
             1,
             "#f0f921"
            ]
           ],
           "sequentialminus": [
            [
             0,
             "#0d0887"
            ],
            [
             0.1111111111111111,
             "#46039f"
            ],
            [
             0.2222222222222222,
             "#7201a8"
            ],
            [
             0.3333333333333333,
             "#9c179e"
            ],
            [
             0.4444444444444444,
             "#bd3786"
            ],
            [
             0.5555555555555556,
             "#d8576b"
            ],
            [
             0.6666666666666666,
             "#ed7953"
            ],
            [
             0.7777777777777778,
             "#fb9f3a"
            ],
            [
             0.8888888888888888,
             "#fdca26"
            ],
            [
             1,
             "#f0f921"
            ]
           ]
          },
          "colorway": [
           "#636efa",
           "#EF553B",
           "#00cc96",
           "#ab63fa",
           "#FFA15A",
           "#19d3f3",
           "#FF6692",
           "#B6E880",
           "#FF97FF",
           "#FECB52"
          ],
          "font": {
           "color": "#f2f5fa"
          },
          "geo": {
           "bgcolor": "rgb(17,17,17)",
           "lakecolor": "rgb(17,17,17)",
           "landcolor": "rgb(17,17,17)",
           "showlakes": true,
           "showland": true,
           "subunitcolor": "#506784"
          },
          "hoverlabel": {
           "align": "left"
          },
          "hovermode": "closest",
          "mapbox": {
           "style": "dark"
          },
          "paper_bgcolor": "rgb(17,17,17)",
          "plot_bgcolor": "rgb(17,17,17)",
          "polar": {
           "angularaxis": {
            "gridcolor": "#506784",
            "linecolor": "#506784",
            "ticks": ""
           },
           "bgcolor": "rgb(17,17,17)",
           "radialaxis": {
            "gridcolor": "#506784",
            "linecolor": "#506784",
            "ticks": ""
           }
          },
          "scene": {
           "xaxis": {
            "backgroundcolor": "rgb(17,17,17)",
            "gridcolor": "#506784",
            "gridwidth": 2,
            "linecolor": "#506784",
            "showbackground": true,
            "ticks": "",
            "zerolinecolor": "#C8D4E3"
           },
           "yaxis": {
            "backgroundcolor": "rgb(17,17,17)",
            "gridcolor": "#506784",
            "gridwidth": 2,
            "linecolor": "#506784",
            "showbackground": true,
            "ticks": "",
            "zerolinecolor": "#C8D4E3"
           },
           "zaxis": {
            "backgroundcolor": "rgb(17,17,17)",
            "gridcolor": "#506784",
            "gridwidth": 2,
            "linecolor": "#506784",
            "showbackground": true,
            "ticks": "",
            "zerolinecolor": "#C8D4E3"
           }
          },
          "shapedefaults": {
           "line": {
            "color": "#f2f5fa"
           }
          },
          "sliderdefaults": {
           "bgcolor": "#C8D4E3",
           "bordercolor": "rgb(17,17,17)",
           "borderwidth": 1,
           "tickwidth": 0
          },
          "ternary": {
           "aaxis": {
            "gridcolor": "#506784",
            "linecolor": "#506784",
            "ticks": ""
           },
           "baxis": {
            "gridcolor": "#506784",
            "linecolor": "#506784",
            "ticks": ""
           },
           "bgcolor": "rgb(17,17,17)",
           "caxis": {
            "gridcolor": "#506784",
            "linecolor": "#506784",
            "ticks": ""
           }
          },
          "title": {
           "x": 0.05
          },
          "updatemenudefaults": {
           "bgcolor": "#506784",
           "borderwidth": 0
          },
          "xaxis": {
           "automargin": true,
           "gridcolor": "#283442",
           "linecolor": "#506784",
           "ticks": "",
           "title": {
            "standoff": 15
           },
           "zerolinecolor": "#283442",
           "zerolinewidth": 2
          },
          "yaxis": {
           "automargin": true,
           "gridcolor": "#283442",
           "linecolor": "#506784",
           "ticks": "",
           "title": {
            "standoff": 15
           },
           "zerolinecolor": "#283442",
           "zerolinewidth": 2
          }
         }
        },
        "title": {
         "text": "Plotly: Trek Stocks"
        },
        "xaxis": {
         "anchor": "y",
         "domain": [
          0,
          1
         ]
        },
        "yaxis": {
         "anchor": "x",
         "domain": [
          0,
          1
         ]
        }
       }
      },
      "text/html": [
       "<div>                            <div id=\"74cbb8a1-e68c-4d0c-90c1-bc97586c82e5\" class=\"plotly-graph-div\" style=\"height:525px; width:100%;\"></div>            <script type=\"text/javascript\">                require([\"plotly\"], function(Plotly) {                    window.PLOTLYENV=window.PLOTLYENV || {};                                    if (document.getElementById(\"74cbb8a1-e68c-4d0c-90c1-bc97586c82e5\")) {                    Plotly.newPlot(                        \"74cbb8a1-e68c-4d0c-90c1-bc97586c82e5\",                        [{\"name\": \"ASX\", \"type\": \"scatter\", \"x\": [434523095, 197005101, 370406838, 245171001, 242818607, 424057399, 189484999, 9272046, 81035425, 257127693], \"y\": [108382095, 60506796, 97630712, 367956925, 24195727, 498639062, 358874832, 325889586, 429989250, 69760786]}, {\"name\": \"BSX\", \"type\": \"scatter\", \"x\": [434523095, 197005101, 370406838, 245171001, 242818607, 424057399, 189484999, 9272046, 81035425, 257127693], \"y\": [357475196, 213264945, 150504034, 340538984, 267498228, 83711641, 55533015, 374477033, 90538974, 136730587]}, {\"name\": \"RSX\", \"type\": \"scatter\", \"x\": [434523095, 197005101, 370406838, 245171001, 242818607, 424057399, 189484999, 9272046, 81035425, 257127693], \"y\": [180544360, 107283665, 177397946, 220134185, 284727982, 66884905, 423101700, 415353141, 102169541, 464236238]}, {\"name\": \"REX\", \"type\": \"scatter\", \"x\": [434523095, 197005101, 370406838, 245171001, 242818607, 424057399, 189484999, 9272046, 81035425, 257127693], \"y\": [297491943, 412472387, 214418716, 345793740, 293640429, 181830616, 374935739, 220236534, 215761175, 88337804]}, {\"name\": \"VMX.V\", \"type\": \"scatter\", \"x\": [434523095, 197005101, 370406838, 245171001, 242818607, 424057399, 189484999, 9272046, 81035425, 257127693], \"y\": [27382953, 220245938, 14056564, 152908866, 119026220, 404121256, 219289330, 366408850, 413350621, 66394129]}, {\"name\": \"BNXR\", \"type\": \"scatter\", \"x\": [434523095, 197005101, 370406838, 245171001, 242818607, 424057399, 189484999, 9272046, 81035425, 257127693], \"y\": [375525010, 353495636, 135821368, 41819912, 423698146, 332017062, 320573889, 435416197, 70884382, 235350460]}, {\"name\": \"CRXM\", \"type\": \"scatter\", \"x\": [434523095, 197005101, 370406838, 245171001, 242818607, 424057399, 189484999, 9272046, 81035425, 257127693], \"y\": [487861779, 116940025, 320375279, 199913935, 3769014, 132660456, 279559761, 270530913, 204871931, 8003581]}, {\"name\": \"DRX.L\", \"type\": \"scatter\", \"x\": [434523095, 197005101, 370406838, 245171001, 242818607, 424057399, 189484999, 9272046, 81035425, 257127693], \"y\": [346663966, 53502013, 12429650, 295798439, 417986183, 399157363, 262442455, 19480528, 454423716, 345550879]}, {\"name\": \"ENTX\", \"type\": \"scatter\", \"x\": [434523095, 197005101, 370406838, 245171001, 242818607, 424057399, 189484999, 9272046, 81035425, 257127693], \"y\": [81891488, 139382411, 69681018, 396124416, 189517458, 449265514, 202454174, 421186393, 371526208, 407377168]}],                        {\"legend\": {\"tracegroupgap\": 0}, \"template\": {\"data\": {\"bar\": [{\"error_x\": {\"color\": \"#f2f5fa\"}, \"error_y\": {\"color\": \"#f2f5fa\"}, \"marker\": {\"line\": {\"color\": \"rgb(17,17,17)\", \"width\": 0.5}}, \"type\": \"bar\"}], \"barpolar\": [{\"marker\": {\"line\": {\"color\": \"rgb(17,17,17)\", \"width\": 0.5}}, \"type\": \"barpolar\"}], \"carpet\": [{\"aaxis\": {\"endlinecolor\": \"#A2B1C6\", \"gridcolor\": \"#506784\", \"linecolor\": \"#506784\", \"minorgridcolor\": \"#506784\", \"startlinecolor\": \"#A2B1C6\"}, \"baxis\": {\"endlinecolor\": \"#A2B1C6\", \"gridcolor\": \"#506784\", \"linecolor\": \"#506784\", \"minorgridcolor\": \"#506784\", \"startlinecolor\": \"#A2B1C6\"}, \"type\": \"carpet\"}], \"choropleth\": [{\"colorbar\": {\"outlinewidth\": 0, \"ticks\": \"\"}, \"type\": \"choropleth\"}], \"contour\": [{\"colorbar\": {\"outlinewidth\": 0, \"ticks\": \"\"}, \"colorscale\": [[0.0, \"#0d0887\"], [0.1111111111111111, \"#46039f\"], [0.2222222222222222, \"#7201a8\"], [0.3333333333333333, \"#9c179e\"], [0.4444444444444444, \"#bd3786\"], [0.5555555555555556, \"#d8576b\"], [0.6666666666666666, \"#ed7953\"], [0.7777777777777778, \"#fb9f3a\"], [0.8888888888888888, \"#fdca26\"], [1.0, \"#f0f921\"]], \"type\": \"contour\"}], \"contourcarpet\": [{\"colorbar\": {\"outlinewidth\": 0, \"ticks\": \"\"}, \"type\": \"contourcarpet\"}], \"heatmap\": [{\"colorbar\": {\"outlinewidth\": 0, \"ticks\": \"\"}, \"colorscale\": [[0.0, \"#0d0887\"], [0.1111111111111111, \"#46039f\"], [0.2222222222222222, \"#7201a8\"], [0.3333333333333333, \"#9c179e\"], [0.4444444444444444, \"#bd3786\"], [0.5555555555555556, \"#d8576b\"], [0.6666666666666666, \"#ed7953\"], [0.7777777777777778, \"#fb9f3a\"], [0.8888888888888888, \"#fdca26\"], [1.0, \"#f0f921\"]], \"type\": \"heatmap\"}], \"heatmapgl\": [{\"colorbar\": {\"outlinewidth\": 0, \"ticks\": \"\"}, \"colorscale\": [[0.0, \"#0d0887\"], [0.1111111111111111, \"#46039f\"], [0.2222222222222222, \"#7201a8\"], [0.3333333333333333, \"#9c179e\"], [0.4444444444444444, \"#bd3786\"], [0.5555555555555556, \"#d8576b\"], [0.6666666666666666, \"#ed7953\"], [0.7777777777777778, \"#fb9f3a\"], [0.8888888888888888, \"#fdca26\"], [1.0, \"#f0f921\"]], \"type\": \"heatmapgl\"}], \"histogram\": [{\"marker\": {\"colorbar\": {\"outlinewidth\": 0, \"ticks\": \"\"}}, \"type\": \"histogram\"}], \"histogram2d\": [{\"colorbar\": {\"outlinewidth\": 0, \"ticks\": \"\"}, \"colorscale\": [[0.0, \"#0d0887\"], [0.1111111111111111, \"#46039f\"], [0.2222222222222222, \"#7201a8\"], [0.3333333333333333, \"#9c179e\"], [0.4444444444444444, \"#bd3786\"], [0.5555555555555556, \"#d8576b\"], [0.6666666666666666, \"#ed7953\"], [0.7777777777777778, \"#fb9f3a\"], [0.8888888888888888, \"#fdca26\"], [1.0, \"#f0f921\"]], \"type\": \"histogram2d\"}], \"histogram2dcontour\": [{\"colorbar\": {\"outlinewidth\": 0, \"ticks\": \"\"}, \"colorscale\": [[0.0, \"#0d0887\"], [0.1111111111111111, \"#46039f\"], [0.2222222222222222, \"#7201a8\"], [0.3333333333333333, \"#9c179e\"], [0.4444444444444444, \"#bd3786\"], [0.5555555555555556, \"#d8576b\"], [0.6666666666666666, \"#ed7953\"], [0.7777777777777778, \"#fb9f3a\"], [0.8888888888888888, \"#fdca26\"], [1.0, \"#f0f921\"]], \"type\": \"histogram2dcontour\"}], \"mesh3d\": [{\"colorbar\": {\"outlinewidth\": 0, \"ticks\": \"\"}, \"type\": \"mesh3d\"}], \"parcoords\": [{\"line\": {\"colorbar\": {\"outlinewidth\": 0, \"ticks\": \"\"}}, \"type\": \"parcoords\"}], \"pie\": [{\"automargin\": true, \"type\": \"pie\"}], \"scatter\": [{\"marker\": {\"line\": {\"color\": \"#283442\"}}, \"type\": \"scatter\"}], \"scatter3d\": [{\"line\": {\"colorbar\": {\"outlinewidth\": 0, \"ticks\": \"\"}}, \"marker\": {\"colorbar\": {\"outlinewidth\": 0, \"ticks\": \"\"}}, \"type\": \"scatter3d\"}], \"scattercarpet\": [{\"marker\": {\"colorbar\": {\"outlinewidth\": 0, \"ticks\": \"\"}}, \"type\": \"scattercarpet\"}], \"scattergeo\": [{\"marker\": {\"colorbar\": {\"outlinewidth\": 0, \"ticks\": \"\"}}, \"type\": \"scattergeo\"}], \"scattergl\": [{\"marker\": {\"line\": {\"color\": \"#283442\"}}, \"type\": \"scattergl\"}], \"scattermapbox\": [{\"marker\": {\"colorbar\": {\"outlinewidth\": 0, \"ticks\": \"\"}}, \"type\": \"scattermapbox\"}], \"scatterpolar\": [{\"marker\": {\"colorbar\": {\"outlinewidth\": 0, \"ticks\": \"\"}}, \"type\": \"scatterpolar\"}], \"scatterpolargl\": [{\"marker\": {\"colorbar\": {\"outlinewidth\": 0, \"ticks\": \"\"}}, \"type\": \"scatterpolargl\"}], \"scatterternary\": [{\"marker\": {\"colorbar\": {\"outlinewidth\": 0, \"ticks\": \"\"}}, \"type\": \"scatterternary\"}], \"surface\": [{\"colorbar\": {\"outlinewidth\": 0, \"ticks\": \"\"}, \"colorscale\": [[0.0, \"#0d0887\"], [0.1111111111111111, \"#46039f\"], [0.2222222222222222, \"#7201a8\"], [0.3333333333333333, \"#9c179e\"], [0.4444444444444444, \"#bd3786\"], [0.5555555555555556, \"#d8576b\"], [0.6666666666666666, \"#ed7953\"], [0.7777777777777778, \"#fb9f3a\"], [0.8888888888888888, \"#fdca26\"], [1.0, \"#f0f921\"]], \"type\": \"surface\"}], \"table\": [{\"cells\": {\"fill\": {\"color\": \"#506784\"}, \"line\": {\"color\": \"rgb(17,17,17)\"}}, \"header\": {\"fill\": {\"color\": \"#2a3f5f\"}, \"line\": {\"color\": \"rgb(17,17,17)\"}}, \"type\": \"table\"}]}, \"layout\": {\"annotationdefaults\": {\"arrowcolor\": \"#f2f5fa\", \"arrowhead\": 0, \"arrowwidth\": 1}, \"coloraxis\": {\"colorbar\": {\"outlinewidth\": 0, \"ticks\": \"\"}}, \"colorscale\": {\"diverging\": [[0, \"#8e0152\"], [0.1, \"#c51b7d\"], [0.2, \"#de77ae\"], [0.3, \"#f1b6da\"], [0.4, \"#fde0ef\"], [0.5, \"#f7f7f7\"], [0.6, \"#e6f5d0\"], [0.7, \"#b8e186\"], [0.8, \"#7fbc41\"], [0.9, \"#4d9221\"], [1, \"#276419\"]], \"sequential\": [[0.0, \"#0d0887\"], [0.1111111111111111, \"#46039f\"], [0.2222222222222222, \"#7201a8\"], [0.3333333333333333, \"#9c179e\"], [0.4444444444444444, \"#bd3786\"], [0.5555555555555556, \"#d8576b\"], [0.6666666666666666, \"#ed7953\"], [0.7777777777777778, \"#fb9f3a\"], [0.8888888888888888, \"#fdca26\"], [1.0, \"#f0f921\"]], \"sequentialminus\": [[0.0, \"#0d0887\"], [0.1111111111111111, \"#46039f\"], [0.2222222222222222, \"#7201a8\"], [0.3333333333333333, \"#9c179e\"], [0.4444444444444444, \"#bd3786\"], [0.5555555555555556, \"#d8576b\"], [0.6666666666666666, \"#ed7953\"], [0.7777777777777778, \"#fb9f3a\"], [0.8888888888888888, \"#fdca26\"], [1.0, \"#f0f921\"]]}, \"colorway\": [\"#636efa\", \"#EF553B\", \"#00cc96\", \"#ab63fa\", \"#FFA15A\", \"#19d3f3\", \"#FF6692\", \"#B6E880\", \"#FF97FF\", \"#FECB52\"], \"font\": {\"color\": \"#f2f5fa\"}, \"geo\": {\"bgcolor\": \"rgb(17,17,17)\", \"lakecolor\": \"rgb(17,17,17)\", \"landcolor\": \"rgb(17,17,17)\", \"showlakes\": true, \"showland\": true, \"subunitcolor\": \"#506784\"}, \"hoverlabel\": {\"align\": \"left\"}, \"hovermode\": \"closest\", \"mapbox\": {\"style\": \"dark\"}, \"paper_bgcolor\": \"rgb(17,17,17)\", \"plot_bgcolor\": \"rgb(17,17,17)\", \"polar\": {\"angularaxis\": {\"gridcolor\": \"#506784\", \"linecolor\": \"#506784\", \"ticks\": \"\"}, \"bgcolor\": \"rgb(17,17,17)\", \"radialaxis\": {\"gridcolor\": \"#506784\", \"linecolor\": \"#506784\", \"ticks\": \"\"}}, \"scene\": {\"xaxis\": {\"backgroundcolor\": \"rgb(17,17,17)\", \"gridcolor\": \"#506784\", \"gridwidth\": 2, \"linecolor\": \"#506784\", \"showbackground\": true, \"ticks\": \"\", \"zerolinecolor\": \"#C8D4E3\"}, \"yaxis\": {\"backgroundcolor\": \"rgb(17,17,17)\", \"gridcolor\": \"#506784\", \"gridwidth\": 2, \"linecolor\": \"#506784\", \"showbackground\": true, \"ticks\": \"\", \"zerolinecolor\": \"#C8D4E3\"}, \"zaxis\": {\"backgroundcolor\": \"rgb(17,17,17)\", \"gridcolor\": \"#506784\", \"gridwidth\": 2, \"linecolor\": \"#506784\", \"showbackground\": true, \"ticks\": \"\", \"zerolinecolor\": \"#C8D4E3\"}}, \"shapedefaults\": {\"line\": {\"color\": \"#f2f5fa\"}}, \"sliderdefaults\": {\"bgcolor\": \"#C8D4E3\", \"bordercolor\": \"rgb(17,17,17)\", \"borderwidth\": 1, \"tickwidth\": 0}, \"ternary\": {\"aaxis\": {\"gridcolor\": \"#506784\", \"linecolor\": \"#506784\", \"ticks\": \"\"}, \"baxis\": {\"gridcolor\": \"#506784\", \"linecolor\": \"#506784\", \"ticks\": \"\"}, \"bgcolor\": \"rgb(17,17,17)\", \"caxis\": {\"gridcolor\": \"#506784\", \"linecolor\": \"#506784\", \"ticks\": \"\"}}, \"title\": {\"x\": 0.05}, \"updatemenudefaults\": {\"bgcolor\": \"#506784\", \"borderwidth\": 0}, \"xaxis\": {\"automargin\": true, \"gridcolor\": \"#283442\", \"linecolor\": \"#506784\", \"ticks\": \"\", \"title\": {\"standoff\": 15}, \"zerolinecolor\": \"#283442\", \"zerolinewidth\": 2}, \"yaxis\": {\"automargin\": true, \"gridcolor\": \"#283442\", \"linecolor\": \"#506784\", \"ticks\": \"\", \"title\": {\"standoff\": 15}, \"zerolinecolor\": \"#283442\", \"zerolinewidth\": 2}}}, \"title\": {\"text\": \"Plotly: Trek Stocks\"}, \"xaxis\": {\"anchor\": \"y\", \"domain\": [0.0, 1.0]}, \"yaxis\": {\"anchor\": \"x\", \"domain\": [0.0, 1.0]}},                        {\"responsive\": true}                    ).then(function(){\n",
       "                            \n",
       "var gd = document.getElementById('74cbb8a1-e68c-4d0c-90c1-bc97586c82e5');\n",
       "var x = new MutationObserver(function (mutations, observer) {{\n",
       "        var display = window.getComputedStyle(gd).display;\n",
       "        if (!display || display === 'none') {{\n",
       "            console.log([gd, 'removed!']);\n",
       "            Plotly.purge(gd);\n",
       "            observer.disconnect();\n",
       "        }}\n",
       "}});\n",
       "\n",
       "// Listen for the removal of the full notebook cells\n",
       "var notebookContainer = gd.closest('#notebook-container');\n",
       "if (notebookContainer) {{\n",
       "    x.observe(notebookContainer, {childList: true});\n",
       "}}\n",
       "\n",
       "// Listen for the clearing of the current output cell\n",
       "var outputEl = gd.closest('.output');\n",
       "if (outputEl) {{\n",
       "    x.observe(outputEl, {childList: true});\n",
       "}}\n",
       "\n",
       "                        })                };                });            </script>        </div>"
      ]
     },
     "metadata": {},
     "output_type": "display_data"
    }
   ],
   "source": [
    "# Plot interactive chart\n",
    "plotly_plot(trek_stocks, 'Plotly: Trek Stocks')"
   ]
  },
  {
   "cell_type": "code",
   "execution_count": null,
   "metadata": {},
   "outputs": [],
   "source": []
  },
  {
   "cell_type": "raw",
   "metadata": {},
   "source": [
    "(BNXR)for Financial Time Series to be fun, think of \n",
    "The Ferengi Market Exchange was a center of Ferengi commerce throughout the Alpha Quadrant. commodities, such as latinum and duranium, and securities.\n",
    "\n",
    "The Exchange was viewed as a significant indicator of the overall financial health of the Ferengi Alliance. Consequently, a drastic change in the Exchange could have political as well as economic repercussions within the Alliance. Grand Nagus Smeet, the only Nagus ever assassinated, oversaw the greatest drop in the value of the Exchange prior to 2373 when a single-day drop of 199 points nearly caused the overthrow of Grand Nagus Zek.\n",
    "\n",
    "## exoplanetary stock market:\n",
    "Trill Stock Exchange (TSX)\n",
    "Andoria (ASX)\n",
    "Bolarus IX (BSX)\n",
    "Risa (RSX)\n",
    "Remus (REX)\n",
    "Valt Minor (VMX.V)\n",
    "Benthans (BNXR)\n",
    "Cravic (CRXM)\n",
    "Drayan (DRX.L)\n",
    "Entharans (ENTX)\n",
    "\n",
    "\n",
    "\n",
    "\n",
    "\n",
    "\n",
    "\n"
   ]
  },
  {
   "cell_type": "code",
   "execution_count": 289,
   "metadata": {
    "scrolled": true
   },
   "outputs": [],
   "source": [
    "import pandas as pd\n",
    "import ssl\n",
    "ssl._create_default_https_context = ssl._create_unverified_context\n",
    "\n",
    "s = pd.read_html('https://en.wikipedia.org/wiki/List_of_S%26P_500_companies#S&P_500_component_stocks')\n"
   ]
  },
  {
   "cell_type": "raw",
   "metadata": {},
   "source": [
    "s[0]"
   ]
  },
  {
   "cell_type": "code",
   "execution_count": 304,
   "metadata": {},
   "outputs": [
    {
     "data": {
      "text/html": [
       "<div>\n",
       "<style scoped>\n",
       "    .dataframe tbody tr th:only-of-type {\n",
       "        vertical-align: middle;\n",
       "    }\n",
       "\n",
       "    .dataframe tbody tr th {\n",
       "        vertical-align: top;\n",
       "    }\n",
       "\n",
       "    .dataframe thead th {\n",
       "        text-align: right;\n",
       "    }\n",
       "</style>\n",
       "<table border=\"1\" class=\"dataframe\">\n",
       "  <thead>\n",
       "    <tr style=\"text-align: right;\">\n",
       "      <th></th>\n",
       "      <th>Symbol</th>\n",
       "      <th>Security</th>\n",
       "      <th>SEC filings</th>\n",
       "      <th>GICS Sector</th>\n",
       "      <th>GICS Sub-Industry</th>\n",
       "      <th>Headquarters Location</th>\n",
       "      <th>Date first added</th>\n",
       "      <th>CIK</th>\n",
       "      <th>Founded</th>\n",
       "    </tr>\n",
       "  </thead>\n",
       "  <tbody>\n",
       "    <tr>\n",
       "      <th>500</th>\n",
       "      <td>YUM</td>\n",
       "      <td>Yum! Brands Inc</td>\n",
       "      <td>reports</td>\n",
       "      <td>Consumer Discretionary</td>\n",
       "      <td>Restaurants</td>\n",
       "      <td>Louisville, Kentucky</td>\n",
       "      <td>1997-10-06</td>\n",
       "      <td>1041061</td>\n",
       "      <td>1997</td>\n",
       "    </tr>\n",
       "    <tr>\n",
       "      <th>501</th>\n",
       "      <td>ZBRA</td>\n",
       "      <td>Zebra Technologies</td>\n",
       "      <td>reports</td>\n",
       "      <td>Information Technology</td>\n",
       "      <td>Electronic Equipment &amp; Instruments</td>\n",
       "      <td>Lincolnshire, Illinois</td>\n",
       "      <td>2019-12-23</td>\n",
       "      <td>877212</td>\n",
       "      <td>1969</td>\n",
       "    </tr>\n",
       "    <tr>\n",
       "      <th>502</th>\n",
       "      <td>ZBH</td>\n",
       "      <td>Zimmer Biomet</td>\n",
       "      <td>reports</td>\n",
       "      <td>Health Care</td>\n",
       "      <td>Health Care Equipment</td>\n",
       "      <td>Warsaw, Indiana</td>\n",
       "      <td>2001-08-07</td>\n",
       "      <td>1136869</td>\n",
       "      <td>1927</td>\n",
       "    </tr>\n",
       "    <tr>\n",
       "      <th>503</th>\n",
       "      <td>ZION</td>\n",
       "      <td>Zions Bancorp</td>\n",
       "      <td>reports</td>\n",
       "      <td>Financials</td>\n",
       "      <td>Regional Banks</td>\n",
       "      <td>Salt Lake City, Utah</td>\n",
       "      <td>2001-06-22</td>\n",
       "      <td>109380</td>\n",
       "      <td>1873</td>\n",
       "    </tr>\n",
       "    <tr>\n",
       "      <th>504</th>\n",
       "      <td>ZTS</td>\n",
       "      <td>Zoetis</td>\n",
       "      <td>reports</td>\n",
       "      <td>Health Care</td>\n",
       "      <td>Pharmaceuticals</td>\n",
       "      <td>Florham Park, New Jersey</td>\n",
       "      <td>2013-06-21</td>\n",
       "      <td>1555280</td>\n",
       "      <td>1952</td>\n",
       "    </tr>\n",
       "  </tbody>\n",
       "</table>\n",
       "</div>"
      ],
      "text/plain": [
       "    Symbol            Security SEC filings             GICS Sector  \\\n",
       "500    YUM     Yum! Brands Inc     reports  Consumer Discretionary   \n",
       "501   ZBRA  Zebra Technologies     reports  Information Technology   \n",
       "502    ZBH       Zimmer Biomet     reports             Health Care   \n",
       "503   ZION       Zions Bancorp     reports              Financials   \n",
       "504    ZTS              Zoetis     reports             Health Care   \n",
       "\n",
       "                      GICS Sub-Industry     Headquarters Location  \\\n",
       "500                         Restaurants      Louisville, Kentucky   \n",
       "501  Electronic Equipment & Instruments    Lincolnshire, Illinois   \n",
       "502               Health Care Equipment           Warsaw, Indiana   \n",
       "503                      Regional Banks      Salt Lake City, Utah   \n",
       "504                     Pharmaceuticals  Florham Park, New Jersey   \n",
       "\n",
       "    Date first added      CIK Founded  \n",
       "500       1997-10-06  1041061    1997  \n",
       "501       2019-12-23   877212    1969  \n",
       "502       2001-08-07  1136869    1927  \n",
       "503       2001-06-22   109380    1873  \n",
       "504       2013-06-21  1555280    1952  "
      ]
     },
     "execution_count": 304,
     "metadata": {},
     "output_type": "execute_result"
    }
   ],
   "source": [
    "df = s[0] \n",
    "df.tail()"
   ]
  },
  {
   "cell_type": "raw",
   "metadata": {},
   "source": [
    "df.columns"
   ]
  },
  {
   "cell_type": "raw",
   "metadata": {},
   "source": [
    "df.iloc[0]"
   ]
  },
  {
   "cell_type": "raw",
   "metadata": {},
   "source": [
    "df = df.to_csv('S&P_Stocks.csv', index=False) # index=False IMPORTANT!"
   ]
  },
  {
   "cell_type": "code",
   "execution_count": null,
   "metadata": {},
   "outputs": [],
   "source": []
  },
  {
   "cell_type": "code",
   "execution_count": 105,
   "metadata": {},
   "outputs": [
    {
     "data": {
      "text/plain": [
       "8"
      ]
     },
     "execution_count": 105,
     "metadata": {},
     "output_type": "execute_result"
    }
   ],
   "source": [
    "# What's special about 277777788888899?\n",
    "\n",
    "# 5428  => (5*2)*(4*8)\n",
    "# 327\n",
    "x = 3*2 #5*2 \n",
    "y = x*7 #4*8\n",
    "y\n",
    "\n",
    "\n",
    "#z = x * y\n",
    "#z\n",
    "\n",
    "\n",
    "t = 4 #3\n",
    "w = 2\n",
    "#j = 0\n",
    "h = t*w#*j\n",
    "h\n"
   ]
  },
  {
   "cell_type": "code",
   "execution_count": 164,
   "metadata": {},
   "outputs": [],
   "source": [
    "# function that finds  multiplicative persistence.\n",
    "\n",
    "def mult_persist(n, steps=0):\n",
    "    if len(str(n)) ==1:\n",
    "        print('result {}'.format(n))\n",
    "        print(\"Total steps: \", str(steps))\n",
    "        return 99\n",
    "\n",
    "    steps +=1\n",
    "    digits = [int(i) for i in str(n)]\n",
    "    result = 1\n",
    "    for j in digits:\n",
    "        result *=j\n",
    "        print(j,':',result,'...')\n",
    "\n",
    "    mult_persist(result,steps)"
   ]
  },
  {
   "cell_type": "code",
   "execution_count": 165,
   "metadata": {
    "scrolled": true
   },
   "outputs": [
    {
     "name": "stdout",
     "output_type": "stream",
     "text": [
      "9 : 9 ...\n",
      "9 : 81 ...\n",
      "9 : 729 ...\n",
      "9 : 6561 ...\n",
      "6 : 6 ...\n",
      "5 : 30 ...\n",
      "6 : 180 ...\n",
      "1 : 180 ...\n",
      "1 : 1 ...\n",
      "8 : 8 ...\n",
      "0 : 0 ...\n",
      "result 0\n",
      "Total steps:  3\n"
     ]
    }
   ],
   "source": [
    "mult_persist(9999)"
   ]
  },
  {
   "cell_type": "markdown",
   "metadata": {},
   "source": [
    "## parker square"
   ]
  },
  {
   "cell_type": "code",
   "execution_count": 51,
   "metadata": {},
   "outputs": [
    {
     "data": {
      "text/html": [
       "<div>\n",
       "<style scoped>\n",
       "    .dataframe tbody tr th:only-of-type {\n",
       "        vertical-align: middle;\n",
       "    }\n",
       "\n",
       "    .dataframe tbody tr th {\n",
       "        vertical-align: top;\n",
       "    }\n",
       "\n",
       "    .dataframe thead th {\n",
       "        text-align: right;\n",
       "    }\n",
       "</style>\n",
       "<table border=\"1\" class=\"dataframe\">\n",
       "  <thead>\n",
       "    <tr style=\"text-align: right;\">\n",
       "      <th></th>\n",
       "      <th>one</th>\n",
       "      <th>two</th>\n",
       "      <th>three</th>\n",
       "    </tr>\n",
       "  </thead>\n",
       "  <tbody>\n",
       "    <tr>\n",
       "      <th>one</th>\n",
       "      <td>81</td>\n",
       "      <td>16</td>\n",
       "      <td>36</td>\n",
       "    </tr>\n",
       "    <tr>\n",
       "      <th>two</th>\n",
       "      <td>9</td>\n",
       "      <td>16</td>\n",
       "      <td>25</td>\n",
       "    </tr>\n",
       "    <tr>\n",
       "      <th>three</th>\n",
       "      <td>25</td>\n",
       "      <td>9</td>\n",
       "      <td>25</td>\n",
       "    </tr>\n",
       "  </tbody>\n",
       "</table>\n",
       "</div>"
      ],
      "text/plain": [
       "       one  two  three\n",
       "one     81   16     36\n",
       "two      9   16     25\n",
       "three   25    9     25"
      ]
     },
     "execution_count": 51,
     "metadata": {},
     "output_type": "execute_result"
    }
   ],
   "source": [
    "import pandas as pd\n",
    "import numpy as np\n",
    "\n",
    "random_state = 100\n",
    "n0= np.random.randint(2,10)\n",
    "n1 = np.random.randint(2,10)\n",
    "n2 = np.random.randint(2,10)\n",
    "n3 = np.random.randint(2,10)\n",
    "n4 = np.random.randint(2,10)\n",
    "n5 = np.random.randint(2,10)\n",
    "n6 = np.random.randint(2,10)\n",
    "n7 = np.random.randint(2,10)\n",
    "n8 = np.random.randint(2,10)\n",
    "#n9 = np.random.randint(2,10)\n",
    "\n",
    "p = pd.DataFrame({\n",
    "    'one': [n0**2, n1**2, n2**2],\n",
    "    'two': [n3**2, n4**2, n5**2],\n",
    "    'three': [n6**2, n7**2, n8**2]\n",
    "    },\n",
    "    index=['one','two','three']\n",
    ")\n",
    "p"
   ]
  },
  {
   "cell_type": "code",
   "execution_count": 57,
   "metadata": {},
   "outputs": [
    {
     "data": {
      "text/html": [
       "<div>\n",
       "<style scoped>\n",
       "    .dataframe tbody tr th:only-of-type {\n",
       "        vertical-align: middle;\n",
       "    }\n",
       "\n",
       "    .dataframe tbody tr th {\n",
       "        vertical-align: top;\n",
       "    }\n",
       "\n",
       "    .dataframe thead th {\n",
       "        text-align: right;\n",
       "    }\n",
       "</style>\n",
       "<table border=\"1\" class=\"dataframe\">\n",
       "  <thead>\n",
       "    <tr style=\"text-align: right;\">\n",
       "      <th></th>\n",
       "      <th>Column 1 sum</th>\n",
       "      <th>Column 2 sum</th>\n",
       "      <th>Column 3 sum</th>\n",
       "    </tr>\n",
       "  </thead>\n",
       "  <tbody>\n",
       "    <tr>\n",
       "      <th>row 1 sum</th>\n",
       "      <td>19</td>\n",
       "      <td>11</td>\n",
       "      <td>14</td>\n",
       "    </tr>\n",
       "    <tr>\n",
       "      <th>row 2 sum</th>\n",
       "      <td>19</td>\n",
       "      <td>11</td>\n",
       "      <td>14</td>\n",
       "    </tr>\n",
       "    <tr>\n",
       "      <th>row 3 sum</th>\n",
       "      <td>19</td>\n",
       "      <td>11</td>\n",
       "      <td>14</td>\n",
       "    </tr>\n",
       "  </tbody>\n",
       "</table>\n",
       "</div>"
      ],
      "text/plain": [
       "           Column 1 sum  Column 2 sum  Column 3 sum\n",
       "row 1 sum            19            11            14\n",
       "row 2 sum            19            11            14\n",
       "row 3 sum            19            11            14"
      ]
     },
     "execution_count": 57,
     "metadata": {},
     "output_type": "execute_result"
    }
   ],
   "source": [
    "# print(n0,n3,n6)\n",
    "# print(n8,n4,n7)\n",
    "# print(n2,n5,n1)\n",
    "\n",
    "#\n",
    "\n",
    "col_1 = [n0,n8,n2]\n",
    "col_1_1 = [col_1[0] + col_1[1] + col_1[2]]\n",
    "# print('column 1 sum :',col_1_1)\n",
    "\n",
    "col_2 = [n3,n4,n5]\n",
    "col_2_2 = [col_2[0] + col_2[1] + col_2[2]]\n",
    "# print('column 2 sum: ',col_2_2)\n",
    "\n",
    "col_3 = [n6,n7,n1]\n",
    "col_3_3 = [col_3[0] + col_3[1] + col_3[2]]\n",
    "# print('column 3 sum: ',col_3_3)\n",
    "\n",
    "#=============================\n",
    "row_1 = [n0,n3,n6]\n",
    "row_1_1 = [row_1[0] + row_1[1] + row_1[2]]\n",
    "# print('row 1 sum :',row_1_1)\n",
    "\n",
    "row_2 = [n8,n4,n7]\n",
    "row_2_2 = [row_2[0] + row_2[1] + row_2[2]]\n",
    "# print('row 2 sum: ',row_2_2)\n",
    "\n",
    "row_3 = [n2,n5,n1]\n",
    "row_3_3 = [row_3[0] + row_3[1] + row_3[2]]\n",
    "# print('row 2 sum: ',row_3_3)\n",
    "\n",
    "# diagonal sum\n",
    "diag_L2R = [n0,n4,n1]\n",
    "diag_L2R_sum = [diag_L2R[0] + diag_L2R[1] + diag_L2R[2]]\n",
    "# print(\"diagonal L to R (top-down): \",diag_L2R_sum )\n",
    "\n",
    "# diagonal sum\n",
    "diag_R2L = [n2,n4,n6]\n",
    "diag_R2L_sum = [diag_R2L[0] + diag_R2L[1] + diag_R2L[2]]\n",
    "# print(\"diagonal R to L (down-up): \",diag_R2L_sum )\n",
    "\n",
    "\n",
    "\n",
    "sqr= pd.DataFrame(\n",
    "    {'Column 1 sum': col_1_1,\n",
    "     'Column 2 sum': col_2_2,\n",
    "     'Column 3 sum': col_3_3},\n",
    "    {'row 1 sum': row_1_1,\n",
    "     'row 2 sum': row_2_2,\n",
    "     'row 3 sum': row_3_3},\n",
    "#      index=[diag_L2R_sum ,diag_R2L_sum ]\n",
    "    \n",
    ")\n",
    "sqr"
   ]
  },
  {
   "cell_type": "code",
   "execution_count": null,
   "metadata": {},
   "outputs": [],
   "source": []
  },
  {
   "cell_type": "code",
   "execution_count": null,
   "metadata": {},
   "outputs": [],
   "source": []
  },
  {
   "cell_type": "code",
   "execution_count": 254,
   "metadata": {},
   "outputs": [
    {
     "data": {
      "text/plain": [
       "1.25"
      ]
     },
     "execution_count": 254,
     "metadata": {},
     "output_type": "execute_result"
    }
   ],
   "source": [
    "# periodic \n",
    "c = -29/16\n",
    "z = -7/4\n",
    "zee = (z**2) + c\n",
    "zee"
   ]
  },
  {
   "cell_type": "code",
   "execution_count": 279,
   "metadata": {},
   "outputs": [
    {
     "name": "stdout",
     "output_type": "stream",
     "text": [
      "[10 22 28  3  8 29 23 27  9 27  6 20 22 11 25  3 21  6 14 13 11  7  3 11\n",
      "  5 13  9 25  8 21  6 26  5 13 13 19  7 12 12  8  3 28 28  3  6 27 26  8\n",
      " 12 19 20 18  5 11 19 11  3 27 21 15 24 15  8  7  3 17 19 13 25  4 24 18\n",
      "  7 18 27 16  9 20  4 24  4  3 17  4  7  7  4  4 21  8 10 25  5 13 23 11\n",
      " 13 28 29 18] \n",
      " [17 41 53  3 13 55 43 51 15 51  9 37 41 19 47  3 39  9 25 23 19 11  3 19\n",
      "  7 23 15 47 13 39  9 49  7 23 23 35 11 21 21 13  3 53 53  3  9 51 49 13\n",
      " 21 35 37 33  7 19 35 19  3 51 39 27 45 27 13 11  3 31 35 23 47  5 45 33\n",
      " 11 33 51 29 15 37  5 45  5  3 31  5 11 11  5  5 39 13 17 47  7 23 43 19\n",
      " 23 53 55 33]\n"
     ]
    },
    {
     "data": {
      "text/plain": [
       "-1.75"
      ]
     },
     "execution_count": 279,
     "metadata": {},
     "output_type": "execute_result"
    }
   ],
   "source": [
    "# f(x) = 2x +1   Mersenne Square\n",
    "x = np.random.randint(3,30,100)\n",
    "m = (2 * x) +1\n",
    "m\n",
    "\n",
    "# f(x) = 2x+3\n",
    "x = np.random.randint(3,30,100)\n",
    "m = (2 * x) - 3\n",
    "print(x,'\\n',m)\n",
    "\n",
    "# f(x)= 2x -7/4\n",
    "x = 0\n",
    "m = (x**2) - 7/4\n",
    "m"
   ]
  },
  {
   "cell_type": "code",
   "execution_count": null,
   "metadata": {},
   "outputs": [],
   "source": [
    "# 4900  PYRAMID SQUARE: n(n+1)(2n+1)/6 = m^2   \n",
    "# canon ball stacking pyramid\n",
    "# both square AND a pyramid\n",
    "\n",
    "# tree(3)\n",
    "# node1, node2, node3\n",
    "\n",
    "# sum to infinity, n=0 Sigma 1/2x\n",
    "#  make 7 even => remove the 's'\n",
    "# what 0 told 8, nice belt!\n"
   ]
  },
  {
   "cell_type": "code",
   "execution_count": 315,
   "metadata": {},
   "outputs": [
    {
     "data": {
      "text/plain": [
       "array([366, 300, 247,  64,  92, 103, 326,  63, 270, 237])"
      ]
     },
     "execution_count": 315,
     "metadata": {},
     "output_type": "execute_result"
    }
   ],
   "source": [
    "n = np.random.randint(20, 400, 10)\n",
    "n"
   ]
  },
  {
   "cell_type": "raw",
   "metadata": {},
   "source": [
    "highly composite number (antiprime)\n",
    "more factor or divisors than smaller than it d(n)\n",
    "\n",
    "5040 = 60 factors (1,2,...10)\n",
    "\n",
    "   n: 1 2 3 4 5 6 7 8 9 10 11 12 \n",
    "d(n): 1 2 2 3 2 4 2 2 3 4   2  6\n",
    "\n",
    "p = prime\n",
    "factors of n = pow(p1,1), pow(p2,2) ... pow(pk,n)\n",
    "d(n) = (a1 +1) * (a2 +1) *(a3+1)\n",
    "  \n",
    "powers decrease and end at 1\n",
    "5040 = 2^4 * 3^2 * 5^1 * 7^1\n",
    "\n",
    "d(60)= 2^2 * 3 * 5\n",
    "except: 4=2^2, 36=2^2*3^2"
   ]
  },
  {
   "cell_type": "code",
   "execution_count": 1,
   "metadata": {},
   "outputs": [
    {
     "name": "stdout",
     "output_type": "stream",
     "text": [
      "60\n",
      "550\n",
      "5040\n"
     ]
    }
   ],
   "source": [
    "import math\n",
    "\n",
    "n = pow(2,2) * 3 * 5\n",
    "print(n)\n",
    "n1 = pow(5,2) * 2 * 11\n",
    "print(n1)\n",
    "n2 = pow(2,4) * pow(3,2) * pow(5,1) * pow(7,1)\n",
    "print(n2)"
   ]
  },
  {
   "cell_type": "code",
   "execution_count": null,
   "metadata": {},
   "outputs": [],
   "source": []
  },
  {
   "cell_type": "code",
   "execution_count": 342,
   "metadata": {},
   "outputs": [
    {
     "data": {
      "text/plain": [
       "43046721"
      ]
     },
     "execution_count": 342,
     "metadata": {},
     "output_type": "execute_result"
    }
   ],
   "source": [
    "n =pow(3,2)\n",
    "n1 =pow(n,2)\n",
    "n2=pow(n1,2)\n",
    "n3=pow(n2,2)\n",
    "n3"
   ]
  },
  {
   "cell_type": "raw",
   "metadata": {},
   "source": [
    "n =[1,2,3,4,5,6,7,8,9]\n",
    "for i in n:\n",
    "    m =pow(i,2)\n",
    "    n.append(m)\n",
    "    print(n)"
   ]
  },
  {
   "cell_type": "code",
   "execution_count": 71,
   "metadata": {},
   "outputs": [
    {
     "name": "stdout",
     "output_type": "stream",
     "text": [
      "for $1 interest for 52 weeks is $2.71\n"
     ]
    }
   ],
   "source": [
    "# interest, Bernoulli formula\n",
    "\n",
    "# money amount\n",
    "money = 1\n",
    "\n",
    "# n = days (365=year), weeks (52=year) months (12), year\n",
    "# n = 52\n",
    "n =365\n",
    "\n",
    "# interest formula\n",
    "f = (1 + (1/n))\n",
    "formula = pow(f, n)\n",
    "\n",
    "interest = money * formula\n",
    "print(\"for ${} interest for 52 weeks is ${:.2f}\".format(1,interest)) "
   ]
  },
  {
   "cell_type": "raw",
   "metadata": {},
   "source": [
    "Euler took on the work of Bernoulli years later after his death\n",
    "\n",
    "Euler worked out formula: y= e^x\n",
    "#  n = facorial_num (n!), n increases ...\n",
    "e = 1 + (1/n) + (1/n) + ...\n",
    "\n",
    "EULER formula = e^i*pi + 1 = 0\n",
    "\n",
    "e = 2.71828182845904523536028"
   ]
  },
  {
   "cell_type": "code",
   "execution_count": 2,
   "metadata": {
    "scrolled": true
   },
   "outputs": [
    {
     "name": "stdout",
     "output_type": "stream",
     "text": [
      "\n",
      " [1.0, 0.5, 0.16666666666666666, 0.041666666666666664, 0.008333333333333333, 0.001388888888888889, 0.0001984126984126984, 2.48015873015873e-05, 2.7557319223985893e-06, 2.755731922398589e-07, 2.505210838544172e-08, 2.08767569878681e-09, 1.6059043836821613e-10, 1.1470745597729725e-11, 7.647163731819816e-13, 4.779477332387385e-14, 2.8114572543455206e-15, 1.5619206968586225e-16, 8.22063524662433e-18, 4.110317623312165e-19, 1.9572941063391263e-20, 8.896791392450574e-22, 3.868170170630684e-23, 1.6117375710961184e-24]\n"
     ]
    }
   ],
   "source": [
    "import numpy as np\n",
    "x_ = np.arange(1,25)\n",
    "e1 = []\n",
    "for i in x_:\n",
    "    k = (1/math.factorial(i))\n",
    "    e1.append(k)\n",
    "#     print(k) \n",
    "    \n",
    "    \n",
    "print('\\n',e1)"
   ]
  },
  {
   "cell_type": "code",
   "execution_count": 147,
   "metadata": {},
   "outputs": [
    {
     "data": {
      "text/plain": [
       "list"
      ]
     },
     "execution_count": 147,
     "metadata": {},
     "output_type": "execute_result"
    }
   ],
   "source": [
    "# 2.71828182845904523536028\n",
    "# type(x_)\n",
    "type(e1)\n",
    "# e[3] "
   ]
  },
  {
   "cell_type": "code",
   "execution_count": 4,
   "metadata": {},
   "outputs": [
    {
     "name": "stdout",
     "output_type": "stream",
     "text": [
      "1\n",
      "2\n",
      "6\n",
      "24\n",
      "120\n",
      "720\n",
      "5040\n",
      "40320\n",
      "362880\n",
      "3628800\n",
      "39916800\n",
      "479001600\n",
      "6227020800\n",
      "87178291200\n",
      "1307674368000\n",
      "20922789888000\n",
      "355687428096000\n",
      "6402373705728000\n",
      "121645100408832000\n",
      "2432902008176640000\n",
      "51090942171709440000\n",
      "1124000727777607680000\n",
      "25852016738884976640000\n",
      "620448401733239439360000\n"
     ]
    }
   ],
   "source": [
    "y_ = np.arange(1,25)\n",
    "e2 = []\n",
    "for i in y_:\n",
    "    y = math.factorial(i)\n",
    "    e2.append(y)\n",
    "    print(y) \n",
    "# print(e2)\n",
    "\n",
    "\n",
    "# for i in n:\n",
    "#     k = (1/math.factorial(i))\n",
    "#     e.append(k)\n",
    "#     print(k) "
   ]
  },
  {
   "cell_type": "code",
   "execution_count": 151,
   "metadata": {},
   "outputs": [
    {
     "data": {
      "text/plain": [
       "list"
      ]
     },
     "execution_count": 151,
     "metadata": {},
     "output_type": "execute_result"
    }
   ],
   "source": [
    "# type(y_)\n",
    "type(e2)"
   ]
  },
  {
   "cell_type": "code",
   "execution_count": 169,
   "metadata": {},
   "outputs": [
    {
     "data": {
      "text/plain": [
       "[<matplotlib.lines.Line2D at 0x7fbcc9e9b490>]"
      ]
     },
     "execution_count": 169,
     "metadata": {},
     "output_type": "execute_result"
    },
    {
     "data": {
      "image/png": "[encoded data removed]",
      "text/plain": [
       "<Figure size 432x288 with 1 Axes>"
      ]
     },
     "metadata": {
      "needs_background": "light"
     },
     "output_type": "display_data"
    }
   ],
   "source": [
    "import matplotlib.pyplot as plt\n",
    "\n",
    "x = x_\n",
    "y = y_\n",
    "plt.plot(x,y)\n",
    "# https://en.wikipedia.org/wiki/Factorial\n",
    "#  the plot works fine and is exactly what Wiki has"
   ]
  },
  {
   "cell_type": "code",
   "execution_count": null,
   "metadata": {},
   "outputs": [],
   "source": []
  },
  {
   "cell_type": "code",
   "execution_count": 7,
   "metadata": {},
   "outputs": [
    {
     "name": "stdout",
     "output_type": "stream",
     "text": [
      "1! = [1]\n",
      "2! = [1, 2]\n",
      "3! = [1, 2, 6]\n",
      "4! = [1, 2, 6, 24]\n",
      "5! = [1, 2, 6, 24, 120]\n",
      "6! = [1, 2, 6, 24, 120, 720]\n",
      "7! = [1, 2, 6, 24, 120, 720, 5040]\n",
      "8! = [1, 2, 6, 24, 120, 720, 5040, 40320]\n",
      "9! = [1, 2, 6, 24, 120, 720, 5040, 40320, 362880]\n",
      "10! = [1, 2, 6, 24, 120, 720, 5040, 40320, 362880, 3628800]\n",
      "11! = [1, 2, 6, 24, 120, 720, 5040, 40320, 362880, 3628800, 39916800]\n",
      "12! = [1, 2, 6, 24, 120, 720, 5040, 40320, 362880, 3628800, 39916800, 479001600]\n",
      "13! = [1, 2, 6, 24, 120, 720, 5040, 40320, 362880, 3628800, 39916800, 479001600, 6227020800]\n",
      "14! = [1, 2, 6, 24, 120, 720, 5040, 40320, 362880, 3628800, 39916800, 479001600, 6227020800, 87178291200]\n",
      "15! = [1, 2, 6, 24, 120, 720, 5040, 40320, 362880, 3628800, 39916800, 479001600, 6227020800, 87178291200, 1307674368000]\n",
      "16! = [1, 2, 6, 24, 120, 720, 5040, 40320, 362880, 3628800, 39916800, 479001600, 6227020800, 87178291200, 1307674368000, 20922789888000]\n",
      "17! = [1, 2, 6, 24, 120, 720, 5040, 40320, 362880, 3628800, 39916800, 479001600, 6227020800, 87178291200, 1307674368000, 20922789888000, 355687428096000]\n",
      "18! = [1, 2, 6, 24, 120, 720, 5040, 40320, 362880, 3628800, 39916800, 479001600, 6227020800, 87178291200, 1307674368000, 20922789888000, 355687428096000, 6402373705728000]\n",
      "19! = [1, 2, 6, 24, 120, 720, 5040, 40320, 362880, 3628800, 39916800, 479001600, 6227020800, 87178291200, 1307674368000, 20922789888000, 355687428096000, 6402373705728000, 121645100408832000]\n",
      "20! = [1, 2, 6, 24, 120, 720, 5040, 40320, 362880, 3628800, 39916800, 479001600, 6227020800, 87178291200, 1307674368000, 20922789888000, 355687428096000, 6402373705728000, 121645100408832000, 2432902008176640000]\n"
     ]
    }
   ],
   "source": [
    "\n",
    "import math\n",
    "\n",
    "e = []\n",
    "for i in range(1,21):\n",
    "    x = math.factorial(i)\n",
    "    e.append(x)\n",
    "    print('{}! = {}'.format(i, e))\n"
   ]
  },
  {
   "cell_type": "code",
   "execution_count": 9,
   "metadata": {},
   "outputs": [
    {
     "data": {
      "text/plain": [
       "2432902008176640000"
      ]
     },
     "execution_count": 9,
     "metadata": {},
     "output_type": "execute_result"
    }
   ],
   "source": [
    "\n",
    "e[-1]\n"
   ]
  },
  {
   "cell_type": "code",
   "execution_count": 27,
   "metadata": {},
   "outputs": [
    {
     "data": {
      "text/html": [
       "<div>\n",
       "<style scoped>\n",
       "    .dataframe tbody tr th:only-of-type {\n",
       "        vertical-align: middle;\n",
       "    }\n",
       "\n",
       "    .dataframe tbody tr th {\n",
       "        vertical-align: top;\n",
       "    }\n",
       "\n",
       "    .dataframe thead th {\n",
       "        text-align: right;\n",
       "    }\n",
       "</style>\n",
       "<table border=\"1\" class=\"dataframe\">\n",
       "  <thead>\n",
       "    <tr style=\"text-align: right;\">\n",
       "      <th></th>\n",
       "      <th>Name</th>\n",
       "      <th>Scale</th>\n",
       "    </tr>\n",
       "  </thead>\n",
       "  <tbody>\n",
       "    <tr>\n",
       "      <th>0</th>\n",
       "      <td>Million</td>\n",
       "      <td>1e+07</td>\n",
       "    </tr>\n",
       "    <tr>\n",
       "      <th>1</th>\n",
       "      <td>Billion</td>\n",
       "      <td>1e+10</td>\n",
       "    </tr>\n",
       "    <tr>\n",
       "      <th>2</th>\n",
       "      <td>Trillion</td>\n",
       "      <td>1e+13</td>\n",
       "    </tr>\n",
       "    <tr>\n",
       "      <th>3</th>\n",
       "      <td>Quadrillion</td>\n",
       "      <td>1e+16</td>\n",
       "    </tr>\n",
       "    <tr>\n",
       "      <th>4</th>\n",
       "      <td>Quintillion</td>\n",
       "      <td>1e+19</td>\n",
       "    </tr>\n",
       "    <tr>\n",
       "      <th>...</th>\n",
       "      <td>...</td>\n",
       "      <td>...</td>\n",
       "    </tr>\n",
       "    <tr>\n",
       "      <th>63</th>\n",
       "      <td>Sescentillion</td>\n",
       "      <td>inf</td>\n",
       "    </tr>\n",
       "    <tr>\n",
       "      <th>64</th>\n",
       "      <td>Septingentillion</td>\n",
       "      <td>inf</td>\n",
       "    </tr>\n",
       "    <tr>\n",
       "      <th>65</th>\n",
       "      <td>Octingentillion</td>\n",
       "      <td>inf</td>\n",
       "    </tr>\n",
       "    <tr>\n",
       "      <th>66</th>\n",
       "      <td>Nongentillion</td>\n",
       "      <td>inf</td>\n",
       "    </tr>\n",
       "    <tr>\n",
       "      <th>67</th>\n",
       "      <td>Millinillion</td>\n",
       "      <td>inf</td>\n",
       "    </tr>\n",
       "  </tbody>\n",
       "</table>\n",
       "<p>68 rows × 2 columns</p>\n",
       "</div>"
      ],
      "text/plain": [
       "                Name  Scale\n",
       "0            Million  1e+07\n",
       "1            Billion  1e+10\n",
       "2           Trillion  1e+13\n",
       "3        Quadrillion  1e+16\n",
       "4        Quintillion  1e+19\n",
       "..               ...    ...\n",
       "63     Sescentillion    inf\n",
       "64  Septingentillion    inf\n",
       "65   Octingentillion    inf\n",
       "66     Nongentillion    inf\n",
       "67      Millinillion    inf\n",
       "\n",
       "[68 rows x 2 columns]"
      ]
     },
     "execution_count": 27,
     "metadata": {},
     "output_type": "execute_result"
    }
   ],
   "source": [
    "import pandas as pd\n",
    "import ssl\n",
    "ssl._create_default_https_context = ssl._create_unverified_context\n",
    "\n",
    "df = pd.read_html('https://en.wikipedia.org/wiki/Names_of_large_numbers#Standard_dictionary_numbers')\n",
    "df[0:2]\n",
    "\n",
    "numbers = pd.DataFrame(\n",
    "    {'Name': ['Million','Billion','Trillion',\n",
    "              'Quadrillion','Quintillion','Sextillion',\n",
    "              'Septillion','Octillion','Nonillion',\n",
    "              'Decillion','Undecillion','Duodecillion',\n",
    "              'Tredecillion','Quattuordecillion','Quindecillion',\n",
    "              'Sexdecillion','Septendecillion','Octodecillion',\n",
    "              'Novemdecillion','Vigintillion','Unvigintillion',\n",
    "              'Duovigintillion','Tresvigintillion','Quattuorvigintillion',\n",
    "              'Quinvigintillion','Sesvigintillion','Septemvigintillion',\n",
    "              'Octovigintillion','Novemvigintillion','Trigintillion',\n",
    "              'Untrigintillion','Duotrigintillion','{Googol}',\n",
    "              'Trestrigintillion','Quattuortrigintillion','Quintrigintillion',\n",
    "              'Sestrigintillion','Septentrigintillion','Octotrigintillion',\n",
    "              'Noventrigintillion','Quadragintillion','Quinquagintillion',\n",
    "              'Sexagintillion','Septuagintillion','Octogintillion',\n",
    "              'Nonagintillion','Centillion','Uncentillion',\n",
    "              'Decicentillion','Undecicentillion','Viginticentillion',\n",
    "              'Unviginticentillion','Trigintacentillion','Quadragintacentillion',\n",
    "              'Quinquagintacentillion','Sexagintacentillion','Septuagintacentillion',\n",
    "              'Octogintacentillion','Nonagintacentillion','Ducentillion',\n",
    "              'Trecentillion','Quadringentillion','Quingentillion',\n",
    "              'Sescentillion','Septingentillion','Octingentillion',\n",
    "              'Nongentillion','Millinillion'\n",
    "             ],\n",
    "     'Scale': [10e6, 10e9,10e12,10e15,10e18,10e21,10e24,10e27,\n",
    "               10e30, 10e33, 10e36,10e39,10e42,10e45,10e48,\n",
    "               10e51,10e54,10e57,10e60,10e63,10e66,10e69,10e72,\n",
    "               10e75,10e78,10e81,10e84,10e87,10e90,10e93,10e96,\n",
    "               10e99,'10e100',10e102,10e105,10e108,10e111,10e114,\n",
    "               10e117,10e120,10e123,10e153,10e183,10e213,10e243,\n",
    "               10e273,10e303,10e306,10e333,10e336,10e363,10e366,\n",
    "               10e393,10e423,10e453,10e483,10e513,10e543,10e573,\n",
    "               10e603,10e903,10e1203,10e1503,10e1803,10e2103,\n",
    "               10e2403,10e2703,10e3003\n",
    "              ]\n",
    "    },\n",
    "    columns=['Name','Scale']\n",
    ")\n",
    "# 'Centillion'\n",
    "# https://en.wikipedia.org/wiki/Order_of_magnitude\n",
    "\n",
    "numbers"
   ]
  },
  {
   "cell_type": "code",
   "execution_count": null,
   "metadata": {},
   "outputs": [],
   "source": []
  },
  {
   "cell_type": "raw",
   "metadata": {},
   "source": [
    "# https://en.wikipedia.org/wiki/Order_of_magnitude#Uses\n",
    "magnitude = pd.read_html('https://en.wikipedia.org/wiki/Order_of_magnitude#Uses')\n",
    "magnitude\n",
    "\n",
    "#https://www.machinelearningplus.com/data-manipulation/101-python-datatable-exercises-pydatatable/"
   ]
  },
  {
   "cell_type": "markdown",
   "metadata": {},
   "source": [
    "Prefix (Symbol)                     Decimal  Powerof ten  \n",
    " 0                        yocto- (y)  0.000000000000000000000001        10−24   \n",
    " 1                        zepto- (z)     0.000000000000000000001        10−21   \n",
    " 2                         atto- (a)        0.000000000000000001        10−18   \n",
    " 3                        femto- (f)           0.000000000000001        10−15   \n",
    " 4                         pico- (p)              0.000000000001        10−12   \n",
    " 5                         nano- (n)                 0.000000001         10−9   \n",
    " 6   micro- (µ)(lowercase Mu symbol)                    0.000001         10−6   \n",
    " 7                        milli- (m)                       0.001         10−3   \n",
    " 8                        centi- (c)                        0.01         10−2   \n",
    " 9                         deci- (d)                         0.1         10−1   \n",
    " 10                              NaN                           1          100   \n",
    " 11             deca- (da)U+3372 (㍲)                          10          10\n",
    "  12                       hecto- (h)                         100          102   \n",
    " 13                        kilo- (k)                        1000          103   \n",
    " 14                        mega- (M)                     1000000          106   \n",
    " 15                        giga- (G)                  1000000000          109   \n",
    " 16                        tera- (T)               1000000000000         1012   \n",
    " 17                        peta- (P)            1000000000000000         1015   \n",
    " 18                         exa- (E)         1000000000000000000         1018   \n",
    " 19                       zetta- (Z)      1000000000000000000000         1021   \n",
    " 20                       yotta- (Y)   1000000000000000000000000         1024 "
   ]
  },
  {
   "cell_type": "code",
   "execution_count": 86,
   "metadata": {},
   "outputs": [
    {
     "name": "stdout",
     "output_type": "stream",
     "text": [
      "(1, 2, 3) (1, 3, 2) (2, 1, 3) (2, 3, 1) (3, 1, 2) (3, 2, 1)\n"
     ]
    }
   ],
   "source": [
    "# 20_922_789_888_000\n",
    "\n",
    "# PERMUTATIONS\n",
    "from itertools import permutations \n",
    "l = list(permutations(range(1, 4))) \n",
    "print(*l)  \n"
   ]
  },
  {
   "cell_type": "code",
   "execution_count": 196,
   "metadata": {},
   "outputs": [
    {
     "name": "stdout",
     "output_type": "stream",
     "text": [
      "[('A', 'C', 'G', 'T'), ('A', 'C', 'T', 'G'), ('A', 'G', 'C', 'T'), ('A', 'G', 'T', 'C'), ('A', 'T', 'C', 'G'), ('A', 'T', 'G', 'C'), ('C', 'A', 'G', 'T'), ('C', 'A', 'T', 'G'), ('C', 'G', 'A', 'T'), ('C', 'G', 'T', 'A'), ('C', 'T', 'A', 'G'), ('C', 'T', 'G', 'A'), ('G', 'A', 'C', 'T'), ('G', 'A', 'T', 'C'), ('G', 'C', 'A', 'T'), ('G', 'C', 'T', 'A'), ('G', 'T', 'A', 'C'), ('G', 'T', 'C', 'A'), ('T', 'A', 'C', 'G'), ('T', 'A', 'G', 'C'), ('T', 'C', 'A', 'G'), ('T', 'C', 'G', 'A'), ('T', 'G', 'A', 'C'), ('T', 'G', 'C', 'A')]\n",
      "24\n"
     ]
    }
   ],
   "source": [
    "# 'adenine', 'cytosine', 'guanine','thymine'\n",
    "#  1,2,3,4\n",
    "gene_bases = 'A', 'C', 'G','T'\n",
    "p = list(permutations(gene_bases))\n",
    "print(p)\n",
    "print(len(p))"
   ]
  },
  {
   "cell_type": "code",
   "execution_count": 10,
   "metadata": {
    "scrolled": true
   },
   "outputs": [
    {
     "name": "stdout",
     "output_type": "stream",
     "text": [
      "A C G T\n",
      "A C T G\n",
      "A G C T\n",
      "A G T C\n",
      "A T C G\n",
      "A T G C\n",
      "C A G T\n",
      "C A T G\n",
      "C G A T\n",
      "C G T A\n",
      "C T A G\n",
      "C T G A\n",
      "G A C T\n",
      "G A T C\n",
      "G C A T\n",
      "G C T A\n",
      "G T A C\n",
      "G T C A\n",
      "T A C G\n",
      "T A G C\n",
      "T C A G\n",
      "T C G A\n",
      "T G A C\n",
      "T G C A\n"
     ]
    }
   ],
   "source": [
    "import itertools\n",
    " \n",
    "# st = \"ABC\"\n",
    "gene_bases = ['A', 'C', 'G','T']\n",
    "per = itertools.permutations(gene_bases)\n",
    " \n",
    "for val in per:\n",
    "    print(*val) "
   ]
  },
  {
   "cell_type": "code",
   "execution_count": 246,
   "metadata": {},
   "outputs": [
    {
     "name": "stdout",
     "output_type": "stream",
     "text": [
      "2\n"
     ]
    }
   ],
   "source": [
    "coin_flips = 'H', 'T'\n",
    "per = itertools.permutations(coin_flips)\n",
    "flips =[]\n",
    "for val in per:\n",
    "    flips.append(f)\n",
    "#     print(val)\n",
    "    \n",
    "print(len(flips))"
   ]
  },
  {
   "cell_type": "code",
   "execution_count": 253,
   "metadata": {},
   "outputs": [
    {
     "name": "stdout",
     "output_type": "stream",
     "text": [
      "20 coin flips = 1048576 permutations\n"
     ]
    }
   ],
   "source": [
    "n= 2\n",
    "flips = 20\n",
    "coin_flips = pow(n,flips)\n",
    "print(\"{} coin flips = {} permutations\".format(flips,coin_flips))"
   ]
  },
  {
   "cell_type": "raw",
   "metadata": {},
   "source": [
    "plt.plot(val)"
   ]
  },
  {
   "cell_type": "code",
   "execution_count": 15,
   "metadata": {},
   "outputs": [
    {
     "name": "stdout",
     "output_type": "stream",
     "text": [
      "A C\n",
      "A G\n",
      "A T\n",
      "C G\n",
      "C T\n",
      "G T\n"
     ]
    }
   ],
   "source": [
    "#  COMBINATIONS\n",
    "import itertools\n",
    " \n",
    "# st = \"ABCDE\"\n",
    "gene_bases = ['A', 'C', 'G','T']\n",
    "com = itertools.combinations(gene_bases, 2)\n",
    " \n",
    "for val in com:\n",
    "    print(*val)"
   ]
  },
  {
   "cell_type": "code",
   "execution_count": 17,
   "metadata": {},
   "outputs": [
    {
     "name": "stdout",
     "output_type": "stream",
     "text": [
      "('H', 'T')\n",
      "('H', 'H')\n",
      "('H', 'T')\n",
      "('T', 'H')\n",
      "('T', 'T')\n",
      "('H', 'T')\n"
     ]
    }
   ],
   "source": [
    "import itertools\n",
    " \n",
    "# values = [1, 2, 3, 4]\n",
    "values = 'H','T','H','T'\n",
    "# values = np.arange(5)\n",
    "com = itertools.combinations(values, 2)\n",
    " \n",
    "for val in com:\n",
    "    print(val)"
   ]
  },
  {
   "cell_type": "code",
   "execution_count": null,
   "metadata": {},
   "outputs": [],
   "source": []
  }
 ],
 "metadata": {
  "interpreter": {
   "hash": "ebd98edf37c882abfc3c2c2e22e82f39cf4b7404a946780827c22fb95e639f1c"
  },
  "kernelspec": {
   "display_name": "Python 3.8.5 64-bit ('base': conda)",
   "name": "python3"
  },
  "language_info": {
   "name": "python",
   "version": ""
  }
 },
 "nbformat": 4,
 "nbformat_minor": 4
}