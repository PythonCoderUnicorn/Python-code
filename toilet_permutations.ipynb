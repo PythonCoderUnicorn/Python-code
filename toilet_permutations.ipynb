{
 "cells": [
  {
   "cell_type": "markdown",
   "metadata": {},
   "source": [
    "# This is the mathematical problem dealing with which portable bathroom to select in Python\n",
    "\n",
    "## This is my code following the YouTube Numberphile video \n",
    "\n",
    "- by: Zane Dax\n",
    "- Date: Dec 5, 2020"
   ]
  },
  {
   "cell_type": "raw",
   "metadata": {},
   "source": [
    "\n",
    "# choosing a toilet\n",
    "# 1st toilet is a mess, 2nd is bit metter, ...\n",
    "\n",
    "Goal: find optimum /best clean toilet\n",
    "Rules: can't go back to previous toilet\n",
    "\n",
    "toilets_total = 3  # 3! = 6\n",
    "# clean order, 1= best, 2= okay, 3= nasty/dirty\n",
    "clean_level = [1,2,3]\n",
    "\n",
    "\n",
    "* reject 1st toilet, select next best\n",
    "..................\n",
    "t1[]  t2[]   t3[]\n",
    ".................. permutations\n",
    "(-1,  -2,  3)  = reject 1st, t2 < t1, select t3\n",
    "(-1,  -3,  2)  = reject 1st, t2 < t1, select t3\n",
    "(-2,  1,   3)  = reject 1st, t2 > t1, select t2 = 1\n",
    "(-2,  -3,  1)  = reject 1st, t2 < t1, select t3 = 1\n",
    "(-3,  1,   2)  = reject 1st, t2 > t1, select t2 = 1\n",
    "(-3,   2,   1) = reject 1st, t2 > t1, select t2\n",
    "\n",
    "how many times was the best toilet selected? 3 times, 3/6 = 50% chance\n",
    "\n",
    "--------------------- num of toilets = 4  4! = 24\n",
    "how many times was the best toilet selected?  11 times, 11/24 = 46% chance\n",
    "\n",
    "\n",
    "** as the num of toilet increases, the % of selecting best toilet decreases\n",
    "\n",
    "festivals have 100s of toilets\n",
    "\n"
   ]
  },
  {
   "cell_type": "raw",
   "metadata": {},
   "source": [
    "p(k) = sum_of_p(in position n) * p(being selected in position p)\n",
    "k = the numbered toilet you stopped at\n",
    "if <k: reject toilets\n",
    "else: >= k: select next best toilt or reject \n",
    "\n",
    "\n",
    "k toilets: 1,2,k   \n",
    "k toilets| k+1, k+2,... N\n",
    "\n",
    "p(in position n) = 1/N toilets\n",
    "p(toilet selected) = 1/k+1\n",
    "\n",
    "open & reject 37%  of the 100 toilets,\n",
    "then take first best-so-far \n",
    "k = 37%, k+1 = select/reject "
   ]
  },
  {
   "cell_type": "code",
   "execution_count": 5,
   "metadata": {},
   "outputs": [
    {
     "data": {
      "text/plain": [
       "6"
      ]
     },
     "execution_count": 5,
     "metadata": {},
     "output_type": "execute_result"
    }
   ],
   "source": [
    "import math\n",
    "import itertools\n",
    "\n",
    "\n",
    "math.factorial(3)"
   ]
  },
  {
   "cell_type": "code",
   "execution_count": 26,
   "metadata": {
    "scrolled": true
   },
   "outputs": [
    {
     "name": "stdout",
     "output_type": "stream",
     "text": [
      "(1, 2, 3, 4)\n",
      "(1, 2, 4, 3)\n",
      "(1, 3, 2, 4)\n",
      "(1, 3, 4, 2)\n",
      "(1, 4, 2, 3)\n",
      "(1, 4, 3, 2)\n",
      "(2, 1, 3, 4)\n",
      "(2, 1, 4, 3)\n",
      "(2, 3, 1, 4)\n",
      "(2, 3, 4, 1)\n",
      "(2, 4, 1, 3)\n",
      "(2, 4, 3, 1)\n",
      "(3, 1, 2, 4)\n",
      "(3, 1, 4, 2)\n",
      "(3, 2, 1, 4)\n",
      "(3, 2, 4, 1)\n",
      "(3, 4, 1, 2)\n",
      "(3, 4, 2, 1)\n",
      "(4, 1, 2, 3)\n",
      "(4, 1, 3, 2)\n",
      "(4, 2, 1, 3)\n",
      "(4, 2, 3, 1)\n",
      "(4, 3, 1, 2)\n",
      "(4, 3, 2, 1)\n"
     ]
    }
   ],
   "source": [
    "import itertools\n",
    " \n",
    "values = [1, 2, 3, 4]\n",
    " \n",
    "per = itertools.permutations(values)\n",
    "p = [] \n",
    "\n",
    "for val in per:\n",
    "    print(val) \n",
    "    m = p.append(val)\n",
    "\n",
    "# print('permutations: ',len(p)) \n",
    "# print('...',p)"
   ]
  },
  {
   "cell_type": "code",
   "execution_count": 27,
   "metadata": {},
   "outputs": [
    {
     "data": {
      "text/plain": [
       "0.4583333333333333"
      ]
     },
     "execution_count": 27,
     "metadata": {},
     "output_type": "execute_result"
    }
   ],
   "source": [
    "11/24"
   ]
  },
  {
   "cell_type": "code",
   "execution_count": null,
   "metadata": {},
   "outputs": [],
   "source": [
    "# cheryl's birthday\n"
   ]
  }
 ],
 "metadata": {
  "interpreter": {
   "hash": "ebd98edf37c882abfc3c2c2e22e82f39cf4b7404a946780827c22fb95e639f1c"
  },
  "kernelspec": {
   "display_name": "Python 3.8.5 64-bit ('base': conda)",
   "name": "python3"
  },
  "language_info": {
   "name": "python",
   "version": ""
  }
 },
 "nbformat": 4,
 "nbformat_minor": 4
}