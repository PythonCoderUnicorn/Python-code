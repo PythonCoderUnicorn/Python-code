{
 "cells": [
  {
   "cell_type": "code",
   "execution_count": null,
   "metadata": {},
   "outputs": [],
   "source": []
  },
  {
   "cell_type": "code",
   "execution_count": 1,
   "metadata": {},
   "outputs": [],
   "source": [
    "import pandas as pd\n",
    "import numpy as np"
   ]
  },
  {
   "cell_type": "code",
   "execution_count": 10,
   "metadata": {},
   "outputs": [
    {
     "data": {
      "text/html": [
       "<div>\n",
       "<style scoped>\n",
       "    .dataframe tbody tr th:only-of-type {\n",
       "        vertical-align: middle;\n",
       "    }\n",
       "\n",
       "    .dataframe tbody tr th {\n",
       "        vertical-align: top;\n",
       "    }\n",
       "\n",
       "    .dataframe thead th {\n",
       "        text-align: right;\n",
       "    }\n",
       "</style>\n",
       "<table border=\"1\" class=\"dataframe\">\n",
       "  <thead>\n",
       "    <tr style=\"text-align: right;\">\n",
       "      <th></th>\n",
       "      <th>Number</th>\n",
       "      <th>Rule</th>\n",
       "    </tr>\n",
       "  </thead>\n",
       "  <tbody>\n",
       "    <tr>\n",
       "      <th>0</th>\n",
       "      <td>1</td>\n",
       "      <td>once you have their money, you never give it back</td>\n",
       "    </tr>\n",
       "    <tr>\n",
       "      <th>1</th>\n",
       "      <td>2</td>\n",
       "      <td>The best deal is the one that brings the most ...</td>\n",
       "    </tr>\n",
       "    <tr>\n",
       "      <th>2</th>\n",
       "      <td>3</td>\n",
       "      <td>Never spend more for an acquisition than you h...</td>\n",
       "    </tr>\n",
       "    <tr>\n",
       "      <th>3</th>\n",
       "      <td>4</td>\n",
       "      <td>Time and Latinum are precious.</td>\n",
       "    </tr>\n",
       "    <tr>\n",
       "      <th>4</th>\n",
       "      <td>5</td>\n",
       "      <td>Always exaggerate your estimate.</td>\n",
       "    </tr>\n",
       "    <tr>\n",
       "      <th>...</th>\n",
       "      <td>...</td>\n",
       "      <td>...</td>\n",
       "    </tr>\n",
       "    <tr>\n",
       "      <th>282</th>\n",
       "      <td>283</td>\n",
       "      <td>Greed cannot overreach itself.</td>\n",
       "    </tr>\n",
       "    <tr>\n",
       "      <th>283</th>\n",
       "      <td>284</td>\n",
       "      <td>The value of something is not in its use, but...</td>\n",
       "    </tr>\n",
       "    <tr>\n",
       "      <th>284</th>\n",
       "      <td>285</td>\n",
       "      <td>An individual is smart, a group is not.</td>\n",
       "    </tr>\n",
       "    <tr>\n",
       "      <th>285</th>\n",
       "      <td>286</td>\n",
       "      <td>Deep down, everyone's a Ferengi.</td>\n",
       "    </tr>\n",
       "    <tr>\n",
       "      <th>286</th>\n",
       "      <td>287</td>\n",
       "      <td>No good deed ever goes unpunished.</td>\n",
       "    </tr>\n",
       "  </tbody>\n",
       "</table>\n",
       "<p>287 rows × 2 columns</p>\n",
       "</div>"
      ],
      "text/plain": [
       "     Number                                               Rule\n",
       "0         1  once you have their money, you never give it back\n",
       "1         2  The best deal is the one that brings the most ...\n",
       "2         3  Never spend more for an acquisition than you h...\n",
       "3         4                     Time and Latinum are precious.\n",
       "4         5                   Always exaggerate your estimate.\n",
       "..      ...                                                ...\n",
       "282     283                     Greed cannot overreach itself.\n",
       "283     284   The value of something is not in its use, but...\n",
       "284     285            An individual is smart, a group is not.\n",
       "285     286                   Deep down, everyone's a Ferengi.\n",
       "286     287                 No good deed ever goes unpunished.\n",
       "\n",
       "[287 rows x 2 columns]"
      ]
     },
     "execution_count": 10,
     "metadata": {},
     "output_type": "execute_result"
    }
   ],
   "source": [
    "dict3 = { \n",
    "        'Number': num,\n",
    "        'Rule': the_Rules.values(),\n",
    "        }\n",
    "        #'Number': the_Rules.keys(),\n",
    "    \n",
    "\n",
    "df2 = pd.DataFrame(dict3)\n",
    "df2"
   ]
  },
  {
   "cell_type": "code",
   "execution_count": 19,
   "metadata": {
    "scrolled": true
   },
   "outputs": [
    {
     "data": {
      "text/plain": [
       "Number                                  36\n",
       "Rule      Neutrality is good for business.\n",
       "Name: 35, dtype: object"
      ]
     },
     "execution_count": 19,
     "metadata": {},
     "output_type": "execute_result"
    }
   ],
   "source": [
    "df2.iloc[35]"
   ]
  },
  {
   "cell_type": "code",
   "execution_count": 20,
   "metadata": {},
   "outputs": [],
   "source": [
    "df2 =df2.to_csv('FerengiAcquisitionRules.csv', index=False)"
   ]
  },
  {
   "cell_type": "code",
   "execution_count": null,
   "metadata": {},
   "outputs": [],
   "source": []
  },
  {
   "cell_type": "code",
   "execution_count": null,
   "metadata": {},
   "outputs": [],
   "source": []
  },
  {
   "cell_type": "code",
   "execution_count": null,
   "metadata": {},
   "outputs": [],
   "source": []
  },
  {
   "cell_type": "code",
   "execution_count": null,
   "metadata": {},
   "outputs": [],
   "source": []
  },
  {
   "cell_type": "code",
   "execution_count": null,
   "metadata": {},
   "outputs": [],
   "source": []
  },
  {
   "cell_type": "code",
   "execution_count": 2,
   "metadata": {},
   "outputs": [],
   "source": [
    "the_Rules = {1: \"once you have their money, you never give it back\", 2: \"The best deal is the one that brings the most profit.\", 3: \"Never spend more for an acquisition than you have to.\", 4: \"Time and Latinum are precious.\", 5: \"Always exaggerate your estimate.\", 6: \"Never allow family to stand in the way of opportunity.\", 7: \"Keep your ears open.\", 8: \"Small print leads to large risk.\", 9: \"Opportunity plus instinct equals profit\", 10: \"Greed is eternal.\", \\\n",
    "    11: \"Even if its free, you can always buy it cheaper.\", 12: \"Anything worth selling is worth selling twice.\", 13: \"Anything worth doing is worth doing for money.\", 14: \"Keep your family close; keep your Latinum closer.\", 15: \"Dead men close no deals\", 16: \"A deal is a deal, until a better one comes along.\", 17: \"A contract is a contract is a contract: but only between Ferengi.\", 18: \"A Ferengi without profit is no Ferengi at all.\", 19: \"Satisfaction is not guaranteed.\", \n",
    "    20: \"He who dives under the table today, lives to profit tomorrow.\",\\\n",
    "\t21: \"Never place friendship before profit.\", 22: \"A wise man can hear profit in the wind.\", 23: \"Nothing is more important than health, except money.\", 24: \"Latinum can\\'t buy happiness, but you can sure have a blast renting it.\", 25: \"You pay for it, it\\'s your idea.\", 26: \"As the customers go, so goes the wise profiteer.\", 27: \"There\\'s nothing more dangerous than an honest businessman.\", 28: \"Whisper your way to success.\", 29: \"Always ask, \\'Whats in it for me?\\' \",  30: \"Talk is cheap, synthehol isnt.\",\\\n",
    "\t31: \"Never make fun of a Ferengi\\'s mother.\", 32: \"Be careful what you sell, it may do exactly what the customer expects.\", 33: \"It never hurts to suck up to the boss.\", 34: \"War is good for business.\", 35: \"Peace is good for business.\", 36: \"Neutrality is good for business.\", 37: \"If it\\'s free, take it and worry about hidden costs later.\", 38: \"Everyone needs something.\", 39: \"Friendship is temporary; profit is forever.\", 40: \"She can touch your lobes, but never your Latinum.\", \\\n",
    "    41: \"Profit is its own reward.\", 42: \"What\\'s mine is mine.\", 43: \"Whats yours can be mine.\", 44: \"Never confuse wisdom with luck.\", 45: \"Expand or Die.\", 46: \"Make your shop easy to find.\", 47: \"Don\\'t trust a man wearing a better suit than your own.\", 48: \"The bigger the smile, the sharper the knife.\", 49: \"Everything is worth something to somebody.\", 50: \"Gratitude can bring on generosity.\", \\\n",
    "    51: \"Reward anyone who adds to your profits so they will continue to do so.\", 52: \"Never ask when you can take.\", 53: \" Never trust anybody taller than you.\", 54: \" Never trust a Ferengi with bigger lobes.\", 55: \" Advertise.\", 56: \" Be discreet.\", 57: \" Good customers are as rare as Latinum; treasure them.\", 58: \" There is no substitute for success.\", 59: \" Free advice is seldom cheap.\", 60: \" Keep your lies consistent.\", \\\n",
    "    61: \" Never underestimate the power of bribery.\", 62: \" The riskier the road, the greater the profit.\", 63: \" Share only what isn\\'t yours.\", 64: \" You don\\'t need a store front to set up shop.\", 65: \" Win or lose, there\\'s always Huyperian beetle snuff.\", 66: \" Double the price, then sell it half off.\", 67: \" Always inspect the merchandise.\", 68: \" A little ear stroking goes a long way.\", 69: \" Ferengi are not responsible for the stupidity of other races.\", \\\n",
    "    70: \"Ferengi are not responsible for the stupidity of other Ferengi.\", 71: \" Close the deal, and then answer questions.\", 72: \" Never trust your customers.\", 73: \" If it gets you profit, sell your own mother.\", 74: \" Knowledge equals profit.\", 75: \" Home is where the heart is, but the stars are made of Latinum.\", 76: \"Every once in a while, declare peace. It confuses the hell out of your enemies\", 77: \"It\\'s better to swallow your pride than to lose your profit.\", 78: \" When the going gets tough, the tough change the Rules.\", 79: \" Beware of the Vulcan greed for knowledge.\", 80: \" Greed is known by many names.\", \\\n",
    "    81: \"There\\'s a difference between being a coward and running away.\", 82: \" The flimsier the product, the higher the price.\", 83: \" Even the wealth of the Nagus started with one slip of Latinum.\", 84: \"A friend is not a friend if he asks for a discount.\", 85: \" Never let the competition know what you\\'re thinking.\", 86: \" When the odds are against you never give up; just quit.\", 87: \" A friend in need means three times the profit.\", 88: \" It ain\\'t over untill it\\'s over.\", 89: \" Ask not what your profits can do for you, ask what you can do for your profits.\", 90: \" The Divine Treasury awaits.\", \\\n",
    "    91: \"Hear all, trust nothing.\", 92: \" There are many paths to profit.\", 93: \"Act without delay! The sharp knife cuts quickly.\", 94: \" Females and finances don\\'t mix.\", 95: \" Prejudice only eliminates customers.\", 96: \" For every Rule, there is an equal and opposite Rule (except when there\\'s not.)\", 97: \" Enough... is never enough.\", 98: \" Every man has his price.\", 99: \" Trust is the biggest liability of all.\", 100: \" If they take your first offer, you either asked too little, or offered too much.\", \\\n",
    "    101: \"The only value of a collectible is what you can get somebody else to pay forit.\", 102: \"Nature decays, but Latinum lasts forever.\", 103: \" Sleep can interfere with negotiations.\", 104: \" Faith moves mountains of inventory.\", 105: \" Don\\'t trust anyone who trusts you.\", 106: \" There is no honor in poverty.\", 107: \" A warranty is valid only if they can find you.\", 108: \" Don\\'t buy what you can\\'t sell.\", 109: \" Dignity and an empty sack is worth the sack.\", 110: \" Playing dumb is often smart.\", \\\n",
    "    111: \"Treat people in your debt like family, exploit them [ruthlessly].\", 112: \" Never have sex with the boss\\'s sister.\", 113: \"Always have sex with the boss.\", 114: \" The one in power defines morality.\", 115: \" The best contract always has a lot of fine print.\", 116: \" There\\'s always a catch.\", 117: \" Profit is the better part of valor.\", 118: \" There is no profit in revenge.\", 119: \" Never judge a customer by the size of his wallet, sometimes, good thing come in small packages.\", 120: \" Borrow on a handshake, lend in writing.\", \\\n",
    "    121: \"Everything is for sale, including friendship.\", 122: \" Do not forsake your profits and they will watch over you.\", 123: \"Even a blind man can recognize the glow of Latinum.\", 124: \" Diligent hands bring wealth.\", 125: \" You can\\'t make a deal if you\\'re dead.\", 126: \" Count it.\", 127: \" Stay neutral in conflict so that you can sell supplies to both sides.\", 128: \" Secrets are commodities, sell them.\", 129: \" The fear of poverty is the beginning of knowledge.\", 130: \" Never pay for sentiment, always charge for it.\", \\\n",
    "    131: \" Information is profit\", 132: \" Never take no from someone who wasn\\'t authorized to give you yes.\", 133: \"Only those ideas that lead to profit are good.\", 134: \"One good turn requires another.\", 135: \" Never trust a beneficiary.\", 136: \" Seek profit first and everything else will follow.\", 137: \" Everything is negotiable\", 138: \" Wealth brings satisfaction.\", 139: \" Wives serve, brothers inherit.\", 140: \" Better great treasure with trouble than peace with poverty.\", \\\n",
    "    141: \" Only fools pay retail\", 142: \" There\\'s no such thing as an unfair advantage.\", 143: \" Risk is part of the game... play it for all it\\'s worth.\", 144: \" There\\'s nothing wrong with charity...as long as it winds up in your pocket.\", 145: \" A little and often fills your pockets.\", 146: \"Necessity is the mother of invention. Profit is the father.\", 147: \" In all worthwhile labor there is profit.\", 148: \" Wealth enables experience.\", 149: \" Profit is encouragement to industry and enterprise.\", 150: \" The way to become rich is to put all your Latinum in one sack, then watch the sack.\", \\\n",
    "    151: \"The man is richest who\\'s pleasures are cheapest.\", 152: \" A lie is a way to tell the truth to someone who doesn\\'t know.\", 153: \" Sell the sizzle, not the steak.\", 154: \"Work hard so you don\\'t have to.\", 155: \" When you have only 2 slips of Latinum left, buy bread with one, and bet the other.\", 156: \" Pain passes, but profits remain.\", 157: \" Power is 50%' what you have and 50%' what people think you have.\", 158: \" Rainy days are good for business.\", 159: \" Common sense is the collection of the customer\\'s prejudices.\", 160: \" The first principle of a rigid businessman is to always be flexible.\", \\\n",
    "    161: \"There are no creeds in mathematics.\", 162: \" Happiness is not mere possession of profit, but joy of acquisition.\", 163: \" Beyond the mountains there are more mountains.\", 164: \" Even in the worst of times, someone turns a profit.\", 165: \" When a friend makes profit, you don\\'t.\", 166: \" Life does not guarantee equality of conditions, only of opportunity.\", 167: \" Never let your sense of morals get in the way of opportunity.\", 168: \" The success of any great transaction does not depend on odds.\", 169: \" Earning is not only a duty it\\'s a privilege.\", 170: \" Whisper your way to success.\", \\\n",
    "    171: \" Competition and fair play are mutually exclusive.\", 172: \" The hand that feeds could be bitten.\", 173: \" Blood is thicker than water, and Latinum is thicker than both.\", 174: \" Chances aren\\'t what they used to be.\", 175: \" Dream, plan, believe, act.\", 176: \" If you can\\'t buy it, find someone who can.\", 177: \" Gratitude is expensive.\", 178: \" The wind always favors the best navigator.\", 179: \" Know your enemies... but do business with them always.\", 180: \" Power, leisure, and liberty are all words for profit.\", \\\n",
    "    181: \"Opportunity may bring profit, friendship rarely does.\", 182:\" Never discuss an opportunity with someone wealthier than you.\", 183:\" Not even dishonesty can tarnish the shine of profit.\", 184:\" The cost for profit is never too high.\", 185:\" When it\\'s a question of profit, everyone is of one belief.\", 186:\" In the middle of difficulty lies opportunity.\", 187:\" Small opportunities are often the beginning of great enterprises.\", 188:\" There is no security, only opportunity.\", 189:\" The philosophy of one is the common sense of another.\", 190:\" A fool and his money are the best customer.\",\\\n",
    "\t191: \"Let others keep their reputation. You keep their money.\", 192:\" Hear all, trust nothing.\", 193:\" A Ferengi waits to bid until his opponents have exhausted themselves.\", 194:\" Never cheat a Klingon... unless you\\'re sure you can get away with it.\", 195:\" Restlessness and discontent are the first necessities of desire.\", 196:\" It\\'s always good business to know about new customers before they walk in your door.\", 197:\" You can\\'t jump a 20 foot gorge in two 10 foot jumps.\", 198:\" Listen to advice; then do what you want anyway.\", 199:\" Pickbattles big enough to matter, but small enough to win.\", 200:\"You can\\'t shake hands with a fist.\",\\\n",
    "    201: \"The universe is not as difficult to comprehend as a Vulcan.\", 202: \" A Ferengi chooses no side but his own.\", 203: \" Wisdom consists of the anticipation of costs and consequences.\", 204: \" The justification of profit is profit.\", 205: \" New customers are like razor-backed Gree-worms... They can be succulent, but sometimes they bite back!\", 206: \" It takes a Ferengi to cheat a Ferengi.\", 207: \" Trust can be expensive\", 208: \"Distrust can be expensive.\", 209: \" Sense without education is better than education without sense.\", 210: \" Sometimes the only thing more dangerous than a question, is an answer.\", \\\n",
    "    211: \" To many lobes spoil the deal.\", 212: \" Always be smarter than the people you hire.\", 213: \" Employees are the rungs on the ladder of success... don\\'t hesitate to step on them.\", 214: \" You and your Latinum are all you\\'ve got.\", 215: \" Those who concede to sell for less understand the value of business.\", 216: \" Never begin a business negotiation on an empty stomach.\", 217: \" Profit may not bring happiness, but there is no happiness without profit.\", 218: \"Never gamble with an empath.\", 219: \" You can\\'t free a fish from water.\", 220: \" Always know what you\\'re buying.\", \\\n",
    "    221: \" Possession is 11/10 of the law.\", 222: \" Listen what they say while watching what they do.\", 223: \" Computers can only give you the answers.\", 224: \" The right to be heard does not automatically include the right to be believed.\", 225: \" Beware the man who doesn\\'t make time for oo-mox.\", 226: \" Listen to your lobes.\", 227: \" Always follow one step ahead.\", 228: \" Learn the language; translators malfunction.\", 229: \" Emulation with profit is better than innovation with none.\", 230: \" Bid high and bid often.\", \\\n",
    "    231: \" Latinum lasts longer than lust.\", 232: \" If they\\'re smarter than you, make them a lesser partner.\", 233: \" There\\'s a customer born every minute; be sure you\\'re the first to find each one.\", 234: \" Deal only with select clientele. (Those who are rich and not so bright.)\", 235: \" Latinum doesn\\'t grow on trees.\", 236: \" There\\'s nothing wrong with a good delusion.\", 237: \" Duck; death is tall.\", 238: \" You can\\'t buy fate.\", 239: \" It\\'s good to want things, especially things you can\\'t have.\", 240: \" How I handle my business is none of yours.\", \\\n",
    "    241: \"Never be afraid to mislabel a product.\", 242: \" Do it yourself and keep it yourself.\", 243: \" Never trust a hardworking employee.\", 244: \"More is good... all is better.\", 245: \" The more good will you can generate, the longer your customers stay.\", 246: \" Because something\\'s priceless doesn\\'t mean it\\'s not worthless.\", 247: \" Benevolence is 50/50.\", 248: \" Innocence is expensive.\", 249: \" Don\\'t negotiate with the underlings.\", 250: \" Profit is in the details.\", \\\n",
    "    251: \" Once it\\'s sold stop selling.\", 252: \" Precious things are for those that can prize them.\", 253: \" Don\\'t miss the opportunity by grabbing at the shadow.\", 254: \"Little steps may prove great profit.\", 255: \" Synthehol is the lubricant of choice for a customer\\'s stuck purse.\", 256: \" Better a fat slave than to starve free.\", 257: \" A wife is a luxury... a smart accountant, a necessity.\", 258: \" Accountants do not play the game; they only keep the score.\", 259: \"Despise the things you cannot have.\", 260: \" A slip in the hand is better than a bar in sight.\", \\\n",
    "    261: \"Wealth not yours might well as not exist.\", 262: \" Life\\'s not fair. How else would you turn a profit?\", 263: \" A wealthy man can afford anything except a conscience.\", 264: \" A verbal contract isn\\'t worth the paper it\\'s written on.\", 265: \" Never allow doubt to tarnish your lust for Latinum.\", 266: \" Distrust interested advice.\", 267: \" The customer is always right... until you get their Latinum.\", 268: \" When in doubt, lie.\", 269: \" If you believe it, they believe it.\", 270: \" Hold on to what you have, but plan for future luck.\", \\\n",
    "    271: \"Trying to please an enemy makes you the loser everytime.\", 272:\" In business deals, a disruptor can be almost as important as a calculator.\", 273:\" What we want is not always the most profitable.\", 274:\" Think twice before leaping once.\", 275:\" Don\\'t waste your breath arguing with a Klingon; save it for the running you may have to do.\", 276:\" Consider your next transaction while counting your Latinum.\", 277:\" Foolish investment based on foolish advice is still foolish investment.\", 278:\" Overbooking is standard practice.\", 279:\" Anything worth fighting for is worth hiding from.\",\\\n",
    "\t280: \"Appearances are deceptive. Dress above yourself.\", 281:\" Necessity knows no price.\", 282:\" If it ain\\'t broke, don\\'t fix it.\", 283:\" Greed cannot overreach itself.\", 284:\" The value of something is not in its use, but in its price.\", 285:\" An individual is smart, a group is not.\", 286:\" Deep down, everyone\\'s a Ferengi.\", 287:\" No good deed ever goes unpunished.\"}"
   ]
  },
  {
   "cell_type": "code",
   "execution_count": 9,
   "metadata": {},
   "outputs": [
    {
     "data": {
      "text/plain": [
       "array([  1,   2,   3,   4,   5,   6,   7,   8,   9,  10,  11,  12,  13,\n",
       "        14,  15,  16,  17,  18,  19,  20,  21,  22,  23,  24,  25,  26,\n",
       "        27,  28,  29,  30,  31,  32,  33,  34,  35,  36,  37,  38,  39,\n",
       "        40,  41,  42,  43,  44,  45,  46,  47,  48,  49,  50,  51,  52,\n",
       "        53,  54,  55,  56,  57,  58,  59,  60,  61,  62,  63,  64,  65,\n",
       "        66,  67,  68,  69,  70,  71,  72,  73,  74,  75,  76,  77,  78,\n",
       "        79,  80,  81,  82,  83,  84,  85,  86,  87,  88,  89,  90,  91,\n",
       "        92,  93,  94,  95,  96,  97,  98,  99, 100, 101, 102, 103, 104,\n",
       "       105, 106, 107, 108, 109, 110, 111, 112, 113, 114, 115, 116, 117,\n",
       "       118, 119, 120, 121, 122, 123, 124, 125, 126, 127, 128, 129, 130,\n",
       "       131, 132, 133, 134, 135, 136, 137, 138, 139, 140, 141, 142, 143,\n",
       "       144, 145, 146, 147, 148, 149, 150, 151, 152, 153, 154, 155, 156,\n",
       "       157, 158, 159, 160, 161, 162, 163, 164, 165, 166, 167, 168, 169,\n",
       "       170, 171, 172, 173, 174, 175, 176, 177, 178, 179, 180, 181, 182,\n",
       "       183, 184, 185, 186, 187, 188, 189, 190, 191, 192, 193, 194, 195,\n",
       "       196, 197, 198, 199, 200, 201, 202, 203, 204, 205, 206, 207, 208,\n",
       "       209, 210, 211, 212, 213, 214, 215, 216, 217, 218, 219, 220, 221,\n",
       "       222, 223, 224, 225, 226, 227, 228, 229, 230, 231, 232, 233, 234,\n",
       "       235, 236, 237, 238, 239, 240, 241, 242, 243, 244, 245, 246, 247,\n",
       "       248, 249, 250, 251, 252, 253, 254, 255, 256, 257, 258, 259, 260,\n",
       "       261, 262, 263, 264, 265, 266, 267, 268, 269, 270, 271, 272, 273,\n",
       "       274, 275, 276, 277, 278, 279, 280, 281, 282, 283, 284, 285, 286,\n",
       "       287])"
      ]
     },
     "execution_count": 9,
     "metadata": {},
     "output_type": "execute_result"
    }
   ],
   "source": [
    "num = np.arange(1,288)\n",
    "num"
   ]
  },
  {
   "cell_type": "code",
   "execution_count": null,
   "metadata": {},
   "outputs": [],
   "source": []
  }
 ],
 "metadata": {
  "kernelspec": {
   "display_name": "Python 3",
   "language": "python",
   "name": "python3"
  },
  "language_info": {
   "codemirror_mode": {
    "name": "ipython",
    "version": 3
   },
   "file_extension": ".py",
   "mimetype": "text/x-python",
   "name": "python",
   "nbconvert_exporter": "python",
   "pygments_lexer": "ipython3",
   "version": "3.7.4"
  }
 },
 "nbformat": 4,
 "nbformat_minor": 2
}
