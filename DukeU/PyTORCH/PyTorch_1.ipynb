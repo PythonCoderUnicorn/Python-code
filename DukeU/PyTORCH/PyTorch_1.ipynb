{
 "cells": [
  {
   "cell_type": "markdown",
   "id": "traditional-paintball",
   "metadata": {},
   "source": [
    "# PyTorch Tutorial - *Duke University*"
   ]
  },
  {
   "cell_type": "code",
   "execution_count": 1,
   "id": "cooked-strengthening",
   "metadata": {},
   "outputs": [
    {
     "name": "stdout",
     "output_type": "stream",
     "text": [
      "1.8.1\n",
      "tensor([[0.5600, 0.9465, 0.1332],\n",
      "        [0.2671, 0.7182, 0.9530]])\n"
     ]
    }
   ],
   "source": [
    "import torch\n",
    "print(torch.__version__)\n",
    "x = torch.rand(2,3)\n",
    "print(x)"
   ]
  },
  {
   "cell_type": "markdown",
   "id": "italic-symposium",
   "metadata": {},
   "source": [
    "Given training data and a model to fit, how do we learn the parameters?\n",
    "\n",
    "Risk Minimization\n",
    "- loss function is the penalty for poor prediction\n",
    "- want to minimize average loss\n",
    "\n",
    "Loss function:\n",
    "- $\\sigma(z)$ = predicted probability\n",
    "- y = true label\n",
    "\n",
    "![](LogRegFunc.png)"
   ]
  },
  {
   "cell_type": "markdown",
   "id": "ecological-cisco",
   "metadata": {},
   "source": [
    "## **Logistic Regression** \n",
    "- using MNIST for digit classification"
   ]
  },
  {
   "cell_type": "code",
   "execution_count": 2,
   "id": "parallel-dublin",
   "metadata": {},
   "outputs": [],
   "source": [
    "# tqdm is a progress bar function library\n",
    "from tqdm import tqdm \n",
    "\n",
    "%matplotlib inline\n",
    "\n",
    "import numpy as np\n",
    "import matplotlib.pyplot as plt\n",
    "import torch"
   ]
  },
  {
   "cell_type": "markdown",
   "id": "going-gibson",
   "metadata": {},
   "source": [
    "``torchvision`` package makes it easy to do data processing for the data to fit in a model"
   ]
  },
  {
   "cell_type": "markdown",
   "id": "ethical-showcase",
   "metadata": {},
   "source": [
    "Download the MNIST dataset and do the TRAIN/TEST split"
   ]
  },
  {
   "cell_type": "code",
   "execution_count": 3,
   "id": "embedded-isaac",
   "metadata": {
    "scrolled": true
   },
   "outputs": [],
   "source": [
    "from torchvision import datasets, transforms\n",
    "\n",
    "mnist_train = datasets.MNIST(root=\"./datasets\", \n",
    "                             train=True, \n",
    "                             transform=transforms.ToTensor(), \n",
    "                             download=True)\n",
    "\n",
    "mnist_test = datasets.MNIST(root=\"./datasets\", \n",
    "                            train=False, \n",
    "                            transform=transforms.ToTensor(), \n",
    "                            download=True)\n"
   ]
  },
  {
   "cell_type": "code",
   "execution_count": 4,
   "id": "incredible-google",
   "metadata": {},
   "outputs": [
    {
     "name": "stdout",
     "output_type": "stream",
     "text": [
      "Number of MNIST training examples: 60000\n",
      "Number of MNIST test examples: 10000\n"
     ]
    }
   ],
   "source": [
    "print(\"Number of MNIST training examples: {}\".format(len(mnist_train)))\n",
    "print(\"Number of MNIST test examples: {}\".format(len(mnist_test)))"
   ]
  },
  {
   "cell_type": "code",
   "execution_count": 5,
   "id": "exclusive-voltage",
   "metadata": {},
   "outputs": [
    {
     "name": "stdout",
     "output_type": "stream",
     "text": [
      "Default image shape: torch.Size([1, 28, 28])\n",
      "Reshaped image shape: torch.Size([28, 28])\n",
      "The label for this image: 1\n"
     ]
    },
    {
     "data": {
      "image/png": "[encoded data removed]",
      "text/plain": [
       "<Figure size 432x288 with 1 Axes>"
      ]
     },
     "metadata": {
      "needs_background": "light"
     },
     "output_type": "display_data"
    }
   ],
   "source": [
    "# Pick out the 4th (0-indexed) example from the training set\n",
    "image, label = mnist_train[3]\n",
    "\n",
    "# Plot the image\n",
    "print(\"Default image shape: {}\".format(image.shape))\n",
    "image = image.reshape([28,28])\n",
    "print(\"Reshaped image shape: {}\".format(image.shape))\n",
    "plt.imshow(image, cmap=\"pink\")\n",
    "\n",
    "# Print the label\n",
    "print(\"The label for this image: {}\".format(label))"
   ]
  },
  {
   "cell_type": "markdown",
   "id": "thermal-fence",
   "metadata": {},
   "source": [
    "to work directly with the data as a torchvision.dataset, we'll find it useful to use a DataLoader, which will take care of shuffling and batching:"
   ]
  },
  {
   "cell_type": "code",
   "execution_count": 6,
   "id": "chinese-manner",
   "metadata": {},
   "outputs": [],
   "source": [
    "train_loader = torch.utils.data.DataLoader(mnist_train, \n",
    "                                           batch_size=100, \n",
    "                                           shuffle=True)\n",
    "\n",
    "test_loader = torch.utils.data.DataLoader(mnist_test, \n",
    "                                          batch_size=100, \n",
    "                                          shuffle=False)"
   ]
  },
  {
   "cell_type": "markdown",
   "id": "prospective-julian",
   "metadata": {},
   "source": [
    "draw a minibatch from DataLoader"
   ]
  },
  {
   "cell_type": "code",
   "execution_count": 7,
   "id": "elegant-behalf",
   "metadata": {},
   "outputs": [
    {
     "name": "stdout",
     "output_type": "stream",
     "text": [
      "Shape of the minibatch of images: torch.Size([100, 1, 28, 28])\n",
      "Shape of the minibatch of labels: torch.Size([100])\n"
     ]
    }
   ],
   "source": [
    "data_train_iter = iter(train_loader)\n",
    "images, labels = data_train_iter.next()\n",
    "\n",
    "print(\"Shape of the minibatch of images: {}\".format(images.shape))\n",
    "print(\"Shape of the minibatch of labels: {}\".format(labels.shape))"
   ]
  },
  {
   "cell_type": "code",
   "execution_count": null,
   "id": "connected-attribute",
   "metadata": {},
   "outputs": [],
   "source": []
  },
  {
   "cell_type": "markdown",
   "id": "cognitive-advertising",
   "metadata": {},
   "source": [
    "## Forward Pass\n",
    "- data inputs (x) are images (2D) = vectors\n",
    "- flatten the vectors and use ``view()`` which is the same as NumPy ``reshape()``\n",
    "- using a -1 is for replace 1 of the dimensions of the reshape"
   ]
  },
  {
   "cell_type": "code",
   "execution_count": 8,
   "id": "personal-walter",
   "metadata": {},
   "outputs": [
    {
     "name": "stdout",
     "output_type": "stream",
     "text": [
      "The shape of input x: torch.Size([100, 784])\n"
     ]
    }
   ],
   "source": [
    "x = images.view(-1, 28*28)\n",
    "print(\"The shape of input x: {}\".format(x.shape))"
   ]
  },
  {
   "cell_type": "code",
   "execution_count": 9,
   "id": "white-calcium",
   "metadata": {},
   "outputs": [],
   "source": [
    "# Randomly initialize weights W\n",
    "W = torch.randn(784, 10)/np.sqrt(784)\n",
    "W.requires_grad_()\n",
    "\n",
    "# Initialize bias b as 0s\n",
    "b = torch.zeros(10, requires_grad=True)"
   ]
  },
  {
   "cell_type": "code",
   "execution_count": 10,
   "id": "amended-desktop",
   "metadata": {},
   "outputs": [],
   "source": [
    "# Linear transformation with W and b\n",
    "y = torch.matmul(x, W) + b"
   ]
  },
  {
   "cell_type": "code",
   "execution_count": 11,
   "id": "level-income",
   "metadata": {},
   "outputs": [
    {
     "name": "stdout",
     "output_type": "stream",
     "text": [
      "tensor([ 0.1401, -0.4544,  0.0767,  0.3943,  0.2586, -0.3085, -0.7737, -0.1666,\n",
      "         0.3639,  0.4040], grad_fn=<SliceBackward>)\n"
     ]
    }
   ],
   "source": [
    "print(y[0,:])"
   ]
  },
  {
   "cell_type": "code",
   "execution_count": 12,
   "id": "hydraulic-porter",
   "metadata": {},
   "outputs": [
    {
     "name": "stdout",
     "output_type": "stream",
     "text": [
      "py[0] from equation: tensor([0.1083, 0.0598, 0.1016, 0.1396, 0.1219, 0.0691, 0.0434, 0.0797, 0.1355,\n",
      "        0.1410], grad_fn=<SelectBackward>)\n"
     ]
    }
   ],
   "source": [
    "# Option 1: Softmax to probabilities from equation\n",
    "py_eq = torch.exp(y) / torch.sum(torch.exp(y), dim=1, keepdim=True)\n",
    "print(\"py[0] from equation: {}\".format(py_eq[0]))"
   ]
  },
  {
   "cell_type": "code",
   "execution_count": 13,
   "id": "ordered-holly",
   "metadata": {},
   "outputs": [
    {
     "name": "stdout",
     "output_type": "stream",
     "text": [
      "py[0] with torch.nn.functional.softmax: tensor([0.1083, 0.0598, 0.1016, 0.1396, 0.1219, 0.0691, 0.0434, 0.0797, 0.1355,\n",
      "        0.1410], grad_fn=<SelectBackward>)\n"
     ]
    }
   ],
   "source": [
    "# Option 2: Softmax to probabilities with torch.nn.functional\n",
    "import torch.nn.functional as F\n",
    "py = F.softmax(y, dim=1)\n",
    "print(\"py[0] with torch.nn.functional.softmax: {}\".format(py[0])) "
   ]
  },
  {
   "cell_type": "code",
   "execution_count": 14,
   "id": "collect-amino",
   "metadata": {},
   "outputs": [
    {
     "name": "stdout",
     "output_type": "stream",
     "text": [
      "torch.Size([100])\n"
     ]
    }
   ],
   "source": [
    "print(labels.shape)"
   ]
  },
  {
   "cell_type": "code",
   "execution_count": 15,
   "id": "unlimited-porcelain",
   "metadata": {},
   "outputs": [
    {
     "name": "stdout",
     "output_type": "stream",
     "text": [
      "cross entropy from equation: 2.286677598953247\n",
      "cross entropy with torch.nn.functional.cross_entropy: 2.286677360534668\n"
     ]
    }
   ],
   "source": [
    "# Cross-entropy loss from equation\n",
    "cross_entropy_eq = torch.mean(-torch.log(py_eq)[range(labels.shape[0]),labels])\n",
    "print(\"cross entropy from equation: {}\".format(cross_entropy_eq))\n",
    "\n",
    "# Option 2: cross-entropy loss with torch.nn.functional\n",
    "cross_entropy = F.cross_entropy(y, labels)\n",
    "print(\"cross entropy with torch.nn.functional.cross_entropy: {}\".format(cross_entropy))"
   ]
  },
  {
   "cell_type": "markdown",
   "id": "collaborative-graduate",
   "metadata": {},
   "source": [
    "backward pass"
   ]
  },
  {
   "cell_type": "code",
   "execution_count": 17,
   "id": "heard-detection",
   "metadata": {},
   "outputs": [
    {
     "data": {
      "text/plain": [
       "tensor([-0.0020,  0.0075, -0.0063,  0.0038,  0.0005,  0.0004,  0.0012, -0.0047,\n",
       "         0.0014, -0.0017], requires_grad=True)"
      ]
     },
     "execution_count": 17,
     "metadata": {},
     "output_type": "execute_result"
    }
   ],
   "source": [
    "# Optimizer\n",
    "optimizer = torch.optim.SGD([W,b], lr=0.1)\n",
    "\n",
    "cross_entropy.backward()\n",
    "\n",
    "b.grad\n",
    "\n",
    "optimizer.step()\n",
    "\n",
    "b"
   ]
  },
  {
   "cell_type": "code",
   "execution_count": 18,
   "id": "controlling-submission",
   "metadata": {},
   "outputs": [
    {
     "name": "stdout",
     "output_type": "stream",
     "text": [
      "b.grad before zero_grad(): tensor([ 0.0200, -0.0749,  0.0628, -0.0379, -0.0054, -0.0035, -0.0116,  0.0471,\n",
      "        -0.0141,  0.0175])\n",
      "b.grad after zero_grad(): tensor([0., 0., 0., 0., 0., 0., 0., 0., 0., 0.])\n"
     ]
    }
   ],
   "source": [
    "print(\"b.grad before zero_grad(): {}\".format(b.grad))\n",
    "optimizer.zero_grad()\n",
    "print(\"b.grad after zero_grad(): {}\".format(b.grad))"
   ]
  },
  {
   "cell_type": "markdown",
   "id": "turkish-fifteen",
   "metadata": {},
   "source": [
    "model training\n",
    "\n",
    "To train the model, we just need repeat what we just did for more minibatches from the training set. As a recap, the steps were:\n",
    "\n",
    "Draw a minibatch\n",
    "Zero the gradients in the buffers for W and b\n",
    "Perform the forward pass (compute prediction, calculate loss)\n",
    "Perform the backward pass (compute gradients, perform SGD step)\n",
    "Going through the entire dataset once is referred to as an epoch. In many cases, we train neural networks for multiple epochs, but here, a single epoch is enough. We also wrap the train_loader with tqdm. This isn't neccessary, but it adds a handy progress bar so we can track our training progress."
   ]
  },
  {
   "cell_type": "code",
   "execution_count": 19,
   "id": "median-church",
   "metadata": {},
   "outputs": [
    {
     "name": "stderr",
     "output_type": "stream",
     "text": [
      "100%|██████████| 600/600 [00:04<00:00, 125.56it/s]\n"
     ]
    }
   ],
   "source": [
    "# Iterate through train set minibatchs \n",
    "for images, labels in tqdm(train_loader):\n",
    "    # Zero out the gradients\n",
    "    optimizer.zero_grad()\n",
    "    \n",
    "    # Forward pass\n",
    "    x = images.view(-1, 28*28)\n",
    "    y = torch.matmul(x, W) + b\n",
    "    cross_entropy = F.cross_entropy(y, labels)\n",
    "    # Backward pass\n",
    "    cross_entropy.backward()\n",
    "    optimizer.step()"
   ]
  },
  {
   "cell_type": "markdown",
   "id": "patient-metro",
   "metadata": {},
   "source": [
    "testing\n",
    "\n",
    "Now let's see how we did! For every image in our test set, we run the data through the model, and take the digit in which we have the highest confidence as our answer. We then compute an accuracy by seeing how many we got correct. We're going to wrap evaluation with torch.no_grad(), as we're not interested in computing gradients during evaluation. By turning off the autograd engine, we can speed up evaluation."
   ]
  },
  {
   "cell_type": "code",
   "execution_count": 20,
   "id": "composite-carolina",
   "metadata": {},
   "outputs": [
    {
     "name": "stderr",
     "output_type": "stream",
     "text": [
      "100%|██████████| 100/100 [00:00<00:00, 130.77it/s]"
     ]
    },
    {
     "name": "stdout",
     "output_type": "stream",
     "text": [
      "Test accuracy: 0.9027000069618225\n"
     ]
    },
    {
     "name": "stderr",
     "output_type": "stream",
     "text": [
      "\n"
     ]
    }
   ],
   "source": [
    "correct = 0\n",
    "total = len(mnist_test)\n",
    "\n",
    "with torch.no_grad():\n",
    "    # Iterate through test set minibatchs \n",
    "    for images, labels in tqdm(test_loader):\n",
    "        # Forward pass\n",
    "        x = images.view(-1, 28*28)\n",
    "        y = torch.matmul(x, W) + b\n",
    "        \n",
    "        predictions = torch.argmax(y, dim=1)\n",
    "        correct += torch.sum((predictions == labels).float())\n",
    "    \n",
    "print('Test accuracy: {}'.format(correct/total))"
   ]
  },
  {
   "cell_type": "code",
   "execution_count": 21,
   "id": "annual-louisville",
   "metadata": {},
   "outputs": [
    {
     "data": {
      "image/png": "[encoded data removed]",
      "text/plain": [
       "<Figure size 1440x144 with 10 Axes>"
      ]
     },
     "metadata": {
      "needs_background": "light"
     },
     "output_type": "display_data"
    }
   ],
   "source": [
    "# Get weights\n",
    "fig, ax = plt.subplots(1, 10, figsize=(20, 2))\n",
    "\n",
    "for digit in range(10):\n",
    "    ax[digit].imshow(W[:,digit].detach().view(28,28), cmap='pink')"
   ]
  },
  {
   "cell_type": "code",
   "execution_count": null,
   "id": "opponent-material",
   "metadata": {},
   "outputs": [],
   "source": []
  },
  {
   "cell_type": "code",
   "execution_count": null,
   "id": "printable-operation",
   "metadata": {},
   "outputs": [],
   "source": []
  },
  {
   "cell_type": "code",
   "execution_count": null,
   "id": "thrown-beauty",
   "metadata": {},
   "outputs": [],
   "source": []
  },
  {
   "cell_type": "code",
   "execution_count": 22,
   "id": "charitable-charm",
   "metadata": {},
   "outputs": [
    {
     "data": {
      "application/vnd.jupyter.widget-view+json": {
       "model_id": "308d31553a8043879c13fffbca0dee55",
       "version_major": 2,
       "version_minor": 0
      },
      "text/plain": [
       "  0%|          | 0/600 [00:00<?, ?it/s]"
      ]
     },
     "metadata": {},
     "output_type": "display_data"
    },
    {
     "data": {
      "application/vnd.jupyter.widget-view+json": {
       "model_id": "c6d536e5c04c47689c5c100d21bd83a4",
       "version_major": 2,
       "version_minor": 0
      },
      "text/plain": [
       "  0%|          | 0/100 [00:00<?, ?it/s]"
      ]
     },
     "metadata": {},
     "output_type": "display_data"
    },
    {
     "name": "stdout",
     "output_type": "stream",
     "text": [
      "Test accuracy: 0.9035000205039978\n"
     ]
    }
   ],
   "source": [
    "import numpy as np\n",
    "import torch\n",
    "import torch.nn as nn\n",
    "import torch.nn.functional as F\n",
    "from torchvision import datasets, transforms\n",
    "from tqdm.notebook import tqdm\n",
    "\n",
    "class MNIST_Logistic_Regression(nn.Module):\n",
    "    def __init__(self):\n",
    "        super().__init__()\n",
    "        self.lin = nn.Linear(784, 10)\n",
    "\n",
    "    def forward(self, x):\n",
    "        return self.lin(x)\n",
    "\n",
    "# Load the data\n",
    "mnist_train = datasets.MNIST(root=\"./datasets\", train=True, transform=transforms.ToTensor(), download=True)\n",
    "mnist_test = datasets.MNIST(root=\"./datasets\", train=False, transform=transforms.ToTensor(), download=True)\n",
    "train_loader = torch.utils.data.DataLoader(mnist_train, batch_size=100, shuffle=True)\n",
    "test_loader = torch.utils.data.DataLoader(mnist_test, batch_size=100, shuffle=False)\n",
    "\n",
    "## Training\n",
    "# Instantiate model\n",
    "model = MNIST_Logistic_Regression()\n",
    "\n",
    "# Loss and Optimizer\n",
    "criterion = nn.CrossEntropyLoss()\n",
    "optimizer = torch.optim.SGD(model.parameters(), lr=0.1)\n",
    "\n",
    "# Iterate through train set minibatchs \n",
    "for images, labels in tqdm(train_loader):\n",
    "    # Zero out the gradients\n",
    "    optimizer.zero_grad()\n",
    "    \n",
    "    # Forward pass\n",
    "    x = images.view(-1, 28*28)\n",
    "    y = model(x)\n",
    "    loss = criterion(y, labels)\n",
    "    # Backward pass\n",
    "    loss.backward()\n",
    "    optimizer.step()\n",
    "\n",
    "## Testing\n",
    "correct = 0\n",
    "total = len(mnist_test)\n",
    "\n",
    "with torch.no_grad():\n",
    "    # Iterate through test set minibatchs \n",
    "    for images, labels in tqdm(test_loader):\n",
    "        # Forward pass\n",
    "        x = images.view(-1, 28*28)\n",
    "        y = model(x)\n",
    "        \n",
    "        predictions = torch.argmax(y, dim=1)\n",
    "        correct += torch.sum((predictions == labels).float())\n",
    "    \n",
    "print('Test accuracy: {}'.format(correct/total))"
   ]
  },
  {
   "cell_type": "code",
   "execution_count": null,
   "id": "welsh-interface",
   "metadata": {},
   "outputs": [],
   "source": []
  },
  {
   "cell_type": "code",
   "execution_count": null,
   "id": "utility-cholesterol",
   "metadata": {},
   "outputs": [],
   "source": []
  },
  {
   "cell_type": "code",
   "execution_count": null,
   "id": "leading-motion",
   "metadata": {},
   "outputs": [],
   "source": []
  },
  {
   "cell_type": "code",
   "execution_count": null,
   "id": "greater-voltage",
   "metadata": {},
   "outputs": [],
   "source": []
  }
 ],
 "metadata": {
  "kernelspec": {
   "display_name": "Python 3",
   "language": "python",
   "name": "python3"
  },
  "language_info": {
   "codemirror_mode": {
    "name": "ipython",
    "version": 3
   },
   "file_extension": ".py",
   "mimetype": "text/x-python",
   "name": "python",
   "nbconvert_exporter": "python",
   "pygments_lexer": "ipython3",
   "version": "3.7.4"
  }
 },
 "nbformat": 4,
 "nbformat_minor": 5
}
