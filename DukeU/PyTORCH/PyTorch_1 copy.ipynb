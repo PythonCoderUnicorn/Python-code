{
 "cells": [
  {
   "cell_type": "markdown",
   "id": "fifty-damage",
   "metadata": {},
   "source": [
    "# PyTorch Tutorial - *Duke University*"
   ]
  },
  {
   "cell_type": "code",
   "execution_count": 3,
   "id": "unlimited-effort",
   "metadata": {},
   "outputs": [
    {
     "name": "stdout",
     "output_type": "stream",
     "text": [
      "1.8.1\n",
      "tensor([[0.0387, 0.2822, 0.7364],\n",
      "        [0.6623, 0.2950, 0.3638]])\n"
     ]
    }
   ],
   "source": [
    "from IPython.display import Image\n",
    "import torch\n",
    "print(torch.__version__)\n",
    "x = torch.rand(2,3)\n",
    "print(x)"
   ]
  },
  {
   "cell_type": "markdown",
   "id": "verified-crown",
   "metadata": {},
   "source": [
    "Given training data and a model to fit, how do we learn the parameters?\n",
    "\n",
    "Risk Minimization\n",
    "- loss function is the penalty for poor prediction\n",
    "- want to minimize average loss\n",
    "\n",
    "Loss function:\n",
    "- $\\sigma(z)$ = predicted probability\n",
    "- y = true label\n",
    "\n",
    "Image(filename='LogRegFunc.png')"
   ]
  },
  {
   "cell_type": "code",
   "execution_count": null,
   "id": "prepared-dayton",
   "metadata": {},
   "outputs": [],
   "source": []
  }
 ],
 "metadata": {
  "kernelspec": {
   "display_name": "Python 3",
   "language": "python",
   "name": "python3"
  },
  "language_info": {
   "codemirror_mode": {
    "name": "ipython",
    "version": 3
   },
   "file_extension": ".py",
   "mimetype": "text/x-python",
   "name": "python",
   "nbconvert_exporter": "python",
   "pygments_lexer": "ipython3",
   "version": "3.7.4"
  }
 },
 "nbformat": 4,
 "nbformat_minor": 5
}
