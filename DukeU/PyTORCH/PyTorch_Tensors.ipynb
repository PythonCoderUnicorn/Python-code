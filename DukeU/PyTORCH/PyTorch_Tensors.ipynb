{
 "cells": [
  {
   "cell_type": "markdown",
   "id": "interstate-worst",
   "metadata": {},
   "source": [
    "# PyTorch Tensors "
   ]
  },
  {
   "cell_type": "code",
   "execution_count": 1,
   "id": "literary-oriental",
   "metadata": {},
   "outputs": [],
   "source": [
    "%matplotlib inline\n",
    "import torch\n",
    "import numpy as np"
   ]
  },
  {
   "cell_type": "markdown",
   "id": "wanted-broadway",
   "metadata": {},
   "source": [
    "Tensors are a specialized data structure that are very similar to arrays and matrices.\n",
    "\n",
    "Numpy arrays and Torch are alike"
   ]
  },
  {
   "cell_type": "code",
   "execution_count": 9,
   "id": "forced-cream",
   "metadata": {},
   "outputs": [
    {
     "name": "stdout",
     "output_type": "stream",
     "text": [
      "tensor([[1, 2],\n",
      "        [3, 4]])\n",
      "tensor([[1, 2],\n",
      "        [3, 4]])\n"
     ]
    }
   ],
   "source": [
    "v = [[1, 2],[3, 4]]\n",
    "x_data = torch.tensor(v)\n",
    "print(x_data)\n",
    "\n",
    "np_array = np.array(v)\n",
    "x_np = torch.from_numpy(np_array)\n",
    "print(x_np)"
   ]
  },
  {
   "cell_type": "code",
   "execution_count": 4,
   "id": "behind-scroll",
   "metadata": {},
   "outputs": [
    {
     "name": "stdout",
     "output_type": "stream",
     "text": [
      "Ones Tensor: \n",
      " tensor([[1, 1],\n",
      "        [1, 1]]) \n",
      "\n",
      "Random Tensor: \n",
      " tensor([[0.0081, 0.1626],\n",
      "        [0.2152, 0.9130]]) \n",
      "\n"
     ]
    }
   ],
   "source": [
    "x_ones = torch.ones_like(x_data) # retains the properties of x_data\n",
    "print(f\"Ones Tensor: \\n {x_ones} \\n\")\n",
    "\n",
    "x_rand = torch.rand_like(x_data, dtype=torch.float) # overrides the datatype of x_data\n",
    "print(f\"Random Tensor: \\n {x_rand} \\n\")"
   ]
  },
  {
   "cell_type": "code",
   "execution_count": 5,
   "id": "finnish-release",
   "metadata": {},
   "outputs": [
    {
     "name": "stdout",
     "output_type": "stream",
     "text": [
      "Random Tensor: \n",
      " tensor([[0.0220, 0.5692, 0.3254],\n",
      "        [0.4056, 0.6404, 0.0292]]) \n",
      "\n",
      "Ones Tensor: \n",
      " tensor([[1., 1., 1.],\n",
      "        [1., 1., 1.]]) \n",
      "\n",
      "Zeros Tensor: \n",
      " tensor([[0., 0., 0.],\n",
      "        [0., 0., 0.]])\n"
     ]
    }
   ],
   "source": [
    "shape = (2,3,)\n",
    "rand_tensor = torch.rand(shape)\n",
    "ones_tensor = torch.ones(shape)\n",
    "zeros_tensor = torch.zeros(shape)\n",
    "\n",
    "print(f\"Random Tensor: \\n {rand_tensor} \\n\")\n",
    "print(f\"Ones Tensor: \\n {ones_tensor} \\n\")\n",
    "print(f\"Zeros Tensor: \\n {zeros_tensor}\")"
   ]
  },
  {
   "cell_type": "code",
   "execution_count": 15,
   "id": "developing-copyright",
   "metadata": {},
   "outputs": [
    {
     "name": "stdout",
     "output_type": "stream",
     "text": [
      "tensor([[0.7573, 0.3509, 0.5836, 0.3394],\n",
      "        [0.3505, 0.8346, 0.4507, 0.4440],\n",
      "        [0.4477, 0.5730, 0.0577, 0.9101]])\n",
      "\n",
      "Shape of tensor: \n",
      "torch.Size([3, 4]),       torch.float32,       cpu\n"
     ]
    }
   ],
   "source": [
    "#  random tensor\n",
    "tensor = torch.rand(3,4)\n",
    "print(tensor)\n",
    "print(f\"\\nShape of tensor: \\n{tensor.shape}, \\\n",
    "      {tensor.dtype}, \\\n",
    "      {tensor.device}\")"
   ]
  },
  {
   "cell_type": "markdown",
   "id": "quantitative-poison",
   "metadata": {},
   "source": [
    "## Numpy-like Slice & Indexing"
   ]
  },
  {
   "cell_type": "code",
   "execution_count": 20,
   "id": "functioning-lease",
   "metadata": {},
   "outputs": [
    {
     "name": "stdout",
     "output_type": "stream",
     "text": [
      "First row:  tensor([1., 1., 1., 1.])\n",
      "First column:  tensor([1., 1., 1., 1.])\n",
      "Last column: tensor([1., 1., 1., 1.])\n",
      "\n",
      " tensor([[ 1., 99.,  1.,  1.],\n",
      "        [ 1., 99.,  1.,  1.],\n",
      "        [ 1., 99.,  1.,  1.],\n",
      "        [ 1., 99.,  1.,  1.]])\n"
     ]
    }
   ],
   "source": [
    "tensor = torch.ones(4, 4)\n",
    "print('First row: ',tensor[0])\n",
    "print('First column: ', tensor[:, 0])\n",
    "print('Last column:', tensor[..., -1])\n",
    "\n",
    "# modify a column, setting to 0 \n",
    "tensor[:,1] = 99\n",
    "print('\\n',tensor) "
   ]
  },
  {
   "cell_type": "markdown",
   "id": "desirable-ranch",
   "metadata": {},
   "source": [
    "## torch.cat and torch.stack"
   ]
  },
  {
   "cell_type": "code",
   "execution_count": 24,
   "id": "flexible-picnic",
   "metadata": {},
   "outputs": [
    {
     "name": "stdout",
     "output_type": "stream",
     "text": [
      "tensor array: \n",
      "tensor([[1., 1., 1.],\n",
      "        [1., 1., 1.],\n",
      "        [1., 1., 1.]])\n",
      "torchedCat :\n",
      "tensor([[1., 1., 1., 1., 1., 1.],\n",
      "        [1., 1., 1., 1., 1., 1.],\n",
      "        [1., 1., 1., 1., 1., 1.]])\n"
     ]
    }
   ],
   "source": [
    "tensor = torch.ones(3,3)\n",
    "print(f'tensor array: \\n{tensor}')\n",
    "\n",
    "torchedCat = torch.cat([tensor, tensor], dim=1)\n",
    "print(f'torchedCat :\\n{torchedCat}')"
   ]
  },
  {
   "cell_type": "code",
   "execution_count": 25,
   "id": "sitting-assumption",
   "metadata": {},
   "outputs": [
    {
     "data": {
      "text/plain": [
       "tensor([[[1., 1., 1.],\n",
       "         [1., 1., 1.],\n",
       "         [1., 1., 1.]],\n",
       "\n",
       "        [[1., 1., 1.],\n",
       "         [1., 1., 1.],\n",
       "         [1., 1., 1.]]])"
      ]
     },
     "execution_count": 25,
     "metadata": {},
     "output_type": "execute_result"
    }
   ],
   "source": [
    "tstack = torch.stack([tensor, tensor])\n",
    "tstack"
   ]
  },
  {
   "cell_type": "code",
   "execution_count": 27,
   "id": "senior-purple",
   "metadata": {},
   "outputs": [
    {
     "data": {
      "text/plain": [
       "tensor([[3., 3., 3.],\n",
       "        [3., 3., 3.],\n",
       "        [3., 3., 3.]])"
      ]
     },
     "execution_count": 27,
     "metadata": {},
     "output_type": "execute_result"
    }
   ],
   "source": [
    "y1 = tensor @ tensor.T\n",
    "y2 = tensor.matmul(tensor.T)\n",
    "y3 = torch.rand_like(tensor)\n",
    "torch.matmul(tensor, tensor.T, out=y3)"
   ]
  },
  {
   "cell_type": "code",
   "execution_count": 29,
   "id": "creative-spirit",
   "metadata": {},
   "outputs": [
    {
     "name": "stdout",
     "output_type": "stream",
     "text": [
      "tensor(9.)\n",
      "9.0\n"
     ]
    }
   ],
   "source": [
    "# sum values in a tensor\n",
    "sumValues = tensor.sum()\n",
    "print(sumValues)\n",
    "aggValues = sumValues.item() # aggregate value by itself\n",
    "print(aggValues)"
   ]
  },
  {
   "cell_type": "code",
   "execution_count": 30,
   "id": "emotional-queens",
   "metadata": {},
   "outputs": [
    {
     "name": "stdout",
     "output_type": "stream",
     "text": [
      "tensor([[1., 1., 1.],\n",
      "        [1., 1., 1.],\n",
      "        [1., 1., 1.]]) \n",
      "\n",
      "tensor([[96., 96., 96.],\n",
      "        [96., 96., 96.],\n",
      "        [96., 96., 96.]])\n"
     ]
    }
   ],
   "source": [
    "print(tensor, \"\\n\")\n",
    "tensor.add_(95)\n",
    "print(tensor) # perm change"
   ]
  },
  {
   "cell_type": "code",
   "execution_count": 31,
   "id": "amino-grill",
   "metadata": {},
   "outputs": [
    {
     "data": {
      "text/plain": [
       "tensor([[96., 96., 96.],\n",
       "        [96., 96., 96.],\n",
       "        [96., 96., 96.]])"
      ]
     },
     "execution_count": 31,
     "metadata": {},
     "output_type": "execute_result"
    }
   ],
   "source": [
    "tensor"
   ]
  },
  {
   "cell_type": "code",
   "execution_count": null,
   "id": "stylish-exhibit",
   "metadata": {},
   "outputs": [],
   "source": []
  },
  {
   "cell_type": "code",
   "execution_count": null,
   "id": "dressed-jefferson",
   "metadata": {},
   "outputs": [],
   "source": []
  },
  {
   "cell_type": "code",
   "execution_count": null,
   "id": "thermal-provision",
   "metadata": {},
   "outputs": [],
   "source": []
  },
  {
   "cell_type": "code",
   "execution_count": null,
   "id": "southwest-quick",
   "metadata": {},
   "outputs": [],
   "source": []
  },
  {
   "cell_type": "code",
   "execution_count": null,
   "id": "automatic-wagner",
   "metadata": {},
   "outputs": [],
   "source": []
  }
 ],
 "metadata": {
  "kernelspec": {
   "display_name": "Python 3",
   "language": "python",
   "name": "python3"
  },
  "language_info": {
   "codemirror_mode": {
    "name": "ipython",
    "version": 3
   },
   "file_extension": ".py",
   "mimetype": "text/x-python",
   "name": "python",
   "nbconvert_exporter": "python",
   "pygments_lexer": "ipython3",
   "version": "3.7.4"
  }
 },
 "nbformat": 4,
 "nbformat_minor": 5
}
