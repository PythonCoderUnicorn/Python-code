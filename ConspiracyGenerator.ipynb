{
 "cells": [
  {
   "cell_type": "markdown",
   "metadata": {},
   "source": [
    "# Conspiracy Theory Selector\n",
    "\n",
    "## by: Zane Dax\n",
    "Notes: This Conspiracy Generator is to make fun of Conspiracy theory believers "
   ]
  },
  {
   "cell_type": "code",
   "execution_count": null,
   "metadata": {},
   "outputs": [],
   "source": []
  },
  {
   "cell_type": "code",
   "execution_count": 1,
   "metadata": {},
   "outputs": [],
   "source": [
    "import numpy as np\n",
    "import pandas as pd\n",
    "import datetime\n",
    "import random "
   ]
  },
  {
   "cell_type": "code",
   "execution_count": null,
   "metadata": {},
   "outputs": [],
   "source": []
  },
  {
   "cell_type": "code",
   "execution_count": 3,
   "metadata": {},
   "outputs": [
    {
     "output_type": "error",
     "ename": "NameError",
     "evalue": "name 'Conspiracy' is not defined",
     "traceback": [
      "\u001b[0;31m---------------------------------------------------------------------------\u001b[0m",
      "\u001b[0;31mNameError\u001b[0m                                 Traceback (most recent call last)",
      "\u001b[0;32m<ipython-input-3-1c12f0705452>\u001b[0m in \u001b[0;36m<module>\u001b[0;34m\u001b[0m\n\u001b[0;32m----> 1\u001b[0;31m \u001b[0mConspiracy\u001b[0m\u001b[0;34m(\u001b[0m\u001b[0;34m)\u001b[0m\u001b[0;34m\u001b[0m\u001b[0;34m\u001b[0m\u001b[0m\n\u001b[0m",
      "\u001b[0;31mNameError\u001b[0m: name 'Conspiracy' is not defined"
     ]
    }
   ],
   "source": [
    "Conspiracy() "
   ]
  },
  {
   "cell_type": "code",
   "execution_count": null,
   "metadata": {},
   "outputs": [],
   "source": []
  },
  {
   "cell_type": "code",
   "execution_count": null,
   "metadata": {},
   "outputs": [],
   "source": []
  },
  {
   "cell_type": "code",
   "execution_count": null,
   "metadata": {},
   "outputs": [],
   "source": []
  },
  {
   "cell_type": "code",
   "execution_count": 9,
   "metadata": {},
   "outputs": [],
   "source": [
    "def Conspiracy():\n",
    "    print(\"- -\"*15)\n",
    "    bday_month = int(input(\"Enter month number of birth: \"))\n",
    "    color = str(input(\"Enter a rainbow color name (Ex. red) : \")) \n",
    "    initial = str(input(\"Enter your first name letter: \"))\n",
    "    print(\"- -\"*15)\n",
    "    \n",
    "    def birthday():\n",
    "        birth_month = np.arange(1,13) \n",
    "        \n",
    "#         bday_month = int(input(\"Enter month of birth: \")) \n",
    "    \n",
    "        if bday_month in birth_month:\n",
    "            pass\n",
    "        else:\n",
    "            print(\"Enter a integer value\")\n",
    "            return birthday()\n",
    "    \n",
    "        subject = [\"Hilary\",\"Obama\",\"George Soros\",\"Hunter Biden\",\"Non white people\",\\\n",
    "                   \"Anderson Cooper\",\"The Deep State\",\"Nancy Pelosi\",\"Tom Hanks\",\"Bill Gates\",\\\n",
    "                   \"AOC\",\"The Media\"]\n",
    "        if bday_month == 1:\n",
    "            print(subject[0]) \n",
    "        if bday_month == 2:\n",
    "            print(subject[1])\n",
    "        if bday_month == 3:                \n",
    "            print(subject[2])\n",
    "        if bday_month == 4:\n",
    "            print(subject[3])\n",
    "        if bday_month == 5:               \n",
    "            print(subject[4]) \n",
    "        if bday_month == 6:\n",
    "            print(subject[5]) \n",
    "        if bday_month == 7:\n",
    "            print(subject[6])\n",
    "        if bday_month == 8:\n",
    "            print(subject[7])\n",
    "        if bday_month == 9:\n",
    "            print(subject[8])\n",
    "        if bday_month == 10:\n",
    "            print(subject[9])\n",
    "        if bday_month == 11:\n",
    "            print(subject[10])\n",
    "        if bday_month == 12:\n",
    "            print(subject[11]) \n",
    "    \n",
    "    def Color():\n",
    "        fave_color = ['red','orange','yellow','green','blue','purple','grey','gray',\\\n",
    "              'black','pink','silver','indigo','magenta']\n",
    "            \n",
    "#         color = str(input(\"Enter a rainbow color: \"))\n",
    "    \n",
    "        if color.lower() in fave_color:\n",
    "            pass\n",
    "        else:\n",
    "            print(\"Enter rainbow color\")\n",
    "            return Color()\n",
    "    \n",
    "        action = [\"bought stock in Antifa\",\"collects data from microchips\",\"bankrolls GMO farms\",\\\n",
    "                     \"has a body double\",\"profits off covid masks\",\"uses the MyPillow pillow\",\\\n",
    "                      \"got hacked by unionized bots\",\"harvests human organs\",\"secretly a lizard person\",\\\n",
    "                      \"built a space laser\",\"is part of an elite cabal\",\"sponsored by BIG PHARMA\",\n",
    "                     ]\n",
    "        \n",
    "        if color.lower() ==(\"red\"):\n",
    "            print(action[0])\n",
    "        if color.lower() ==(\"orange\"):\n",
    "            print(action[1])\n",
    "        if color.lower() ==(\"yellow\"):\n",
    "            print(action[2])\n",
    "        if color.lower() ==(\"green\"):\n",
    "            print(action[3])\n",
    "        if color.lower() ==(\"blue\"):\n",
    "            print(action[4])\n",
    "        if color.lower() ==(\"purple\"):\n",
    "            print(action[5])\n",
    "        if color.lower() ==(\"grey\" or \"gray\"):\n",
    "            print(action[6])\n",
    "        if color.lower() ==(\"black\"):\n",
    "            print(action[7])\n",
    "        if color.lower() ==(\"pink\"):\n",
    "            print(action[8])\n",
    "        if color.lower() ==(\"silver\"):\n",
    "            print(action[9])\n",
    "        if color.lower() ==(\"indigo\"):\n",
    "            print(action[10])\n",
    "        if color.lower() ==(\"magenta\"):\n",
    "            print(action[11])\n",
    "                \n",
    "    def name_initials():\n",
    "        name_initial = ['a','b','c','d','e','f','g','h','i','j',\\\n",
    "                'k','l','m','n','o','p','q','r','s','t','u','v','x','y','z']\n",
    "            \n",
    "#         initial = str(input(\"Enter your name initial: \"))\n",
    "\n",
    "        if initial.lower() in name_initial:\n",
    "            pass\n",
    "        else:\n",
    "            print(\"Enter valid letter\")\n",
    "            return name_initials()\n",
    "\n",
    "        cause = [\"while wearing a 'support the troops' pin\", \"in support of Marxist Socialism\",\\\n",
    "                    \"to keep the middle class poor\",  \"while denying the rights of others\",\\\n",
    "                     \"dared to by the radical left\",  \"in the name of Conservate idealogy\",\\\n",
    "                     \"while saluting the patriotc flag\", \"for the alien living on dark side of the moon\",\\\n",
    "                     \"to please the Ancient Aliens\",  \"because everyone is a secretive socialist\", \\\n",
    "                     \"in a teflon protected hat\",  \"fighting the 5G network\"\n",
    "                    ]\n",
    "            \n",
    "        if initial.lower() == name_initial[0]:\n",
    "            print(cause[0])\n",
    "        elif initial.lower() == name_initial[1]:\n",
    "            print(cause[0])\n",
    "        elif initial.lower() == name_initial[2]:\n",
    "            print(cause[1])\n",
    "        elif initial.lower() == name_initial[3]:\n",
    "            print(cause[1]) \n",
    "        elif initial.lower() == 'e':\n",
    "            print(cause[2])\n",
    "        elif initial.lower() == 'f':\n",
    "            print(cause[2])\n",
    "        elif initial.lower() == 'g':\n",
    "            print(cause[3])\n",
    "        elif initial.lower() == 'h':\n",
    "            print(cause[3])\n",
    "        elif initial.lower() == 'i':\n",
    "            print(cause[4])\n",
    "        elif initial.lower() == 'j':\n",
    "            print(cause[4])\n",
    "        elif initial.lower() == 'k':\n",
    "            print(cause[5])\n",
    "        elif initial.lower() == 'l':\n",
    "            print(cause[5])\n",
    "        elif initial.lower() == 'm':\n",
    "            print(cause[6])\n",
    "        elif initial.lower() == 'n':\n",
    "            print(cause[6])\n",
    "        elif initial.lower() == 'o':\n",
    "            print(cause[7])\n",
    "        elif initial.lower() == 'p':\n",
    "            print(cause[7])\n",
    "        elif initial.lower() == 'q':\n",
    "            print(cause[8])\n",
    "        elif initial.lower() == 'r':\n",
    "            print(cause[8])\n",
    "        elif initial.lower() == 's':\n",
    "            print(cause[9])\n",
    "        elif initial.lower() == 't':\n",
    "            print(cause[9])\n",
    "        elif initial.lower() == 'u':\n",
    "            print(cause[10])\n",
    "        elif initial.lower() == 'v':\n",
    "            print(cause[10])\n",
    "        elif initial.lower() == 'w':\n",
    "            print(cause[10])\n",
    "        elif initial.lower() == 'x':\n",
    "            print(cause[11])\n",
    "        elif initial.lower() == 'y':\n",
    "            print(cause[11])\n",
    "        elif initial.lower() == 'z':\n",
    "            print(cause[11])\n",
    "        else:\n",
    "            return name_initials() \n",
    "        \n",
    "    \n",
    "#     -----------------------------\n",
    "    birthday() \n",
    "    Color() \n",
    "    name_initials() \n",
    "    "
   ]
  },
  {
   "cell_type": "code",
   "execution_count": 10,
   "metadata": {
    "tags": []
   },
   "outputs": [
    {
     "output_type": "stream",
     "name": "stdout",
     "text": [
      "- -- -- -- -- -- -- -- -- -- -- -- -- -- -- -\n",
      "- -- -- -- -- -- -- -- -- -- -- -- -- -- -- -\n",
      "Obama\n",
      "has a body double\n",
      "in the name of Conservate idealogy\n"
     ]
    }
   ],
   "source": [
    "Conspiracy() "
   ]
  },
  {
   "cell_type": "code",
   "execution_count": null,
   "metadata": {},
   "outputs": [],
   "source": []
  },
  {
   "cell_type": "code",
   "execution_count": 28,
   "metadata": {},
   "outputs": [],
   "source": []
  },
  {
   "cell_type": "code",
   "execution_count": null,
   "metadata": {},
   "outputs": [],
   "source": []
  },
  {
   "cell_type": "code",
   "execution_count": 21,
   "metadata": {},
   "outputs": [],
   "source": []
  },
  {
   "cell_type": "code",
   "execution_count": null,
   "metadata": {},
   "outputs": [],
   "source": []
  }
 ],
 "metadata": {
  "kernelspec": {
   "name": "python3",
   "display_name": "Python 3.9.4 64-bit"
  },
  "language_info": {
   "codemirror_mode": {
    "name": "ipython",
    "version": 3
   },
   "file_extension": ".py",
   "mimetype": "text/x-python",
   "name": "python",
   "nbconvert_exporter": "python",
   "pygments_lexer": "ipython3",
   "version": "3.9.4"
  },
  "interpreter": {
   "hash": "aee8b7b246df8f9039afb4144a1f6fd8d2ca17a180786b69acc140d282b71a49"
  }
 },
 "nbformat": 4,
 "nbformat_minor": 2
}