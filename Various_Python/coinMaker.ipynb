{
 "cells": [
  {
   "cell_type": "code",
   "execution_count": 8,
   "metadata": {},
   "outputs": [
    {
     "name": "stdin",
     "output_type": "stream",
     "text": [
      " Enter a dollar amount in ¢:  244\n"
     ]
    },
    {
     "name": "stdout",
     "output_type": "stream",
     "text": [
      " twoonies:   1\n",
      " loonies:    2\n",
      " quarters:   9\n",
      " dimes:      24\n",
      " nickels:    48\n",
      " pennies:    244\n"
     ]
    }
   ],
   "source": [
    "# change counter to make a dollar\n",
    "import math \n",
    "\n",
    "pennies = 1\n",
    "nickel = 5\n",
    "dime = 10\n",
    "quarter = 25\n",
    "loonie = 100\n",
    "twoonie = 200\n",
    "\n",
    "amount =0\n",
    "user_pennies =0\n",
    "user_nickels =0\n",
    "user_dime =0\n",
    "user_quarter =0\n",
    "user_loonie =0\n",
    "user_twoonie =0\n",
    "\n",
    "# -------- user input\n",
    "amount = float(input(\" Enter a dollar amount in ¢: \")) \n",
    "\n",
    "# amount01 = (amount % pennies)\n",
    "user_pennies =(amount / pennies)\n",
    "\n",
    "#amount = (amount % nickel)\n",
    "user_nickels =(amount / nickel)\n",
    "\n",
    "\n",
    "#amount10 = (amount % dime)\n",
    "user_dime = (amount / dime)\n",
    "\n",
    "\n",
    "#amount25 = (amount % quarter)\n",
    "user_quarter =(amount / quarter)\n",
    "\n",
    "#amount100 = (amount % loonie)\n",
    "user_loonie =(amount /loonie)\n",
    "\n",
    "#amount200 = (amount % twoonie)\n",
    "user_twoonie =(amount / twoonie)\n",
    "\n",
    "\n",
    "print(\" twoonies:  \", math.floor(user_twoonie) )\n",
    "print(\" loonies:   \", math.floor(user_loonie) )\n",
    "print( \" quarters:  \", math.floor(user_quarter) )\n",
    "print( \" dimes:     \", math.floor(user_dime) ) \n",
    "print( \" nickels:   \", math.floor(user_nickels) ) \n",
    "print( \" pennies:   \", math.floor(user_pennies) ) \n"
   ]
  },
  {
   "cell_type": "code",
   "execution_count": null,
   "metadata": {},
   "outputs": [],
   "source": []
  }
 ],
 "metadata": {
  "kernelspec": {
   "display_name": "Python 3",
   "language": "python",
   "name": "python3"
  },
  "language_info": {
   "codemirror_mode": {
    "name": "ipython",
    "version": 3
   },
   "file_extension": ".py",
   "mimetype": "text/x-python",
   "name": "python",
   "nbconvert_exporter": "python",
   "pygments_lexer": "ipython3",
   "version": "3.8.3"
  }
 },
 "nbformat": 4,
 "nbformat_minor": 4
}
