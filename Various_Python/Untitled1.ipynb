{
 "cells": [
  {
   "cell_type": "code",
   "execution_count": null,
   "metadata": {},
   "outputs": [],
   "source": []
  },
  {
   "cell_type": "code",
   "execution_count": 1,
   "metadata": {},
   "outputs": [],
   "source": []
  },
  {
   "cell_type": "code",
   "execution_count": 12,
   "metadata": {},
   "outputs": [
    {
     "name": "stdout",
     "output_type": "stream",
     "text": [
      "\n",
      " --------- Major Depression Iventory ----------\n",
      "\n",
      "1. have you felt low in spirits or sad? \n",
      " 0. at no time\n",
      " 1. some of the time\n",
      " 2. slightly less than half the time\n",
      " 3. slightly more than half the time\n",
      " 4. most of the time\n",
      " 5. all the time \n",
      " Enter the #: 2\n"
     ]
    },
    {
     "ename": "UnboundLocalError",
     "evalue": "local variable 'total_score' referenced before assignment",
     "output_type": "error",
     "traceback": [
      "\u001b[0;31m---------------------------------------------------------------------------\u001b[0m",
      "\u001b[0;31mUnboundLocalError\u001b[0m                         Traceback (most recent call last)",
      "\u001b[0;32m<ipython-input-12-f9a753e24154>\u001b[0m in \u001b[0;36m<module>\u001b[0;34m\u001b[0m\n\u001b[1;32m     80\u001b[0m         \u001b[0mq1\u001b[0m \u001b[0;34m=\u001b[0m \u001b[0mtotal_score\u001b[0m \u001b[0;34m+\u001b[0m \u001b[0musr\u001b[0m\u001b[0;34m\u001b[0m\u001b[0;34m\u001b[0m\u001b[0m\n\u001b[1;32m     81\u001b[0m \u001b[0;34m\u001b[0m\u001b[0m\n\u001b[0;32m---> 82\u001b[0;31m \u001b[0mq1\u001b[0m\u001b[0;34m(\u001b[0m\u001b[0;34m)\u001b[0m\u001b[0;34m\u001b[0m\u001b[0;34m\u001b[0m\u001b[0m\n\u001b[0m",
      "\u001b[0;32m<ipython-input-12-f9a753e24154>\u001b[0m in \u001b[0;36mq1\u001b[0;34m()\u001b[0m\n\u001b[1;32m     21\u001b[0m                         \u001b[0mtotal_score\u001b[0m \u001b[0;34m+=\u001b[0m \u001b[0;36m1\u001b[0m\u001b[0;34m\u001b[0m\u001b[0;34m\u001b[0m\u001b[0m\n\u001b[1;32m     22\u001b[0m                 \u001b[0;32mif\u001b[0m \u001b[0musr\u001b[0m \u001b[0;34m==\u001b[0m\u001b[0;34m(\u001b[0m\u001b[0;36m2\u001b[0m\u001b[0;34m)\u001b[0m\u001b[0;34m:\u001b[0m\u001b[0;34m\u001b[0m\u001b[0;34m\u001b[0m\u001b[0m\n\u001b[0;32m---> 23\u001b[0;31m                         \u001b[0mtotal_score\u001b[0m \u001b[0;34m+=\u001b[0m \u001b[0;36m2\u001b[0m\u001b[0;34m\u001b[0m\u001b[0;34m\u001b[0m\u001b[0m\n\u001b[0m\u001b[1;32m     24\u001b[0m                 \u001b[0;32mif\u001b[0m \u001b[0musr\u001b[0m \u001b[0;34m==\u001b[0m\u001b[0;34m(\u001b[0m\u001b[0;36m3\u001b[0m\u001b[0;34m)\u001b[0m\u001b[0;34m:\u001b[0m\u001b[0;34m\u001b[0m\u001b[0;34m\u001b[0m\u001b[0m\n\u001b[1;32m     25\u001b[0m                         \u001b[0mtotal_score\u001b[0m \u001b[0;34m+=\u001b[0m \u001b[0;36m3\u001b[0m\u001b[0;34m\u001b[0m\u001b[0;34m\u001b[0m\u001b[0m\n",
      "\u001b[0;31mUnboundLocalError\u001b[0m: local variable 'total_score' referenced before assignment"
     ]
    }
   ],
   "source": [
    "# def depressionQuiz():\n",
    "\n",
    "print('\\n --------- Major Depression Iventory ----------\\n')\n",
    "\n",
    "\t#1. \n",
    "def q1():\n",
    "\t\tprint(\"1. have you felt low in spirits or sad? \")\n",
    "\t\tprint(\" 0. at no time\")\n",
    "\t\tprint(\" 1. some of the time\")\n",
    "\t\tprint(\" 2. slightly less than half the time\")\n",
    "\t\tprint(\" 3. slightly more than half the time\")\n",
    "\t\tprint(\" 4. most of the time\" ) #<-------------\n",
    "\t\tprint(\" 5. all the time \")\t\n",
    "\n",
    "\t\t# usr = int(input(\" Enter the #: \"))\n",
    "\t\t# return score_card()\n",
    "\t\tusr = int(input(\" Enter the #: \"))\n",
    "\t\tif usr ==(0):\n",
    "\t\t\ttotal_score += 0\n",
    "\t\tif usr ==(1):\n",
    "\t\t\ttotal_score += 1\n",
    "\t\tif usr ==(2):\n",
    "\t\t\ttotal_score += 2\n",
    "\t\tif usr ==(3):\n",
    "\t\t\ttotal_score += 3\n",
    "\t\tif usr ==(4):\n",
    "\t\t\ttotal_score += 4\n",
    "\t\tif usr ==(5):\n",
    "\t\t\ttotal_score += 5\n",
    "\n",
    "\t\treturn q2()\n",
    "\n",
    "\n",
    "def q2():\n",
    "\t\t#2. \n",
    "\t\tprint(\"2. have you lost interest in your daily activities? \")\n",
    "\t\tprint(\" have you felt low in spirits or sad? \")\n",
    "\t\tprint(\" 0. at no time\")\n",
    "\t\tprint(\" 1. some of the time\")\n",
    "\t\tprint(\" 2. slightly less than half the time\")\n",
    "\t\tprint(\" 3. slightly more than half the time\")\n",
    "\t\tprint(\" 4. most of the time\" ) #<-------------\n",
    "\t\tprint(\" 5. all the time\")\t\n",
    "\t\tusr = int(input(\" Enter the #: \"))\n",
    "\t\tif usr ==(0):\n",
    "\t\t\ttotal_score += 0\n",
    "\t\tif usr ==(1):\n",
    "\t\t\ttotal_score += 1\n",
    "\t\tif usr ==(2):\n",
    "\t\t\ttotal_score += 2\n",
    "\t\tif usr ==(3):\n",
    "\t\t\ttotal_score += 3\n",
    "\t\tif usr ==(4):\n",
    "\t\t\ttotal_score += 4\n",
    "\t\tif usr ==(5):\n",
    "\t\t\ttotal_score += 5\n",
    "\t\t\n",
    "\t\t# return q10()\n",
    "\t\texit()\n",
    "\t\tprint('\\n')\n",
    "        \n",
    "def score_card():\n",
    "\ttotal_score = 0\t\n",
    "\tusr = int(input(\" Enter the #: \"))\n",
    "\tif usr ==(0):\n",
    "\t\ttotal_score += 0\n",
    "\tif usr ==(1):\n",
    "\t\ttotal_score += 1\n",
    "\tif usr ==(2):\n",
    "\t\ttotal_score += 2\n",
    "\tif usr ==(3):\n",
    "\t\ttotal_score += 3\n",
    "\tif usr ==(4):\n",
    "\t\ttotal_score += 4\n",
    "\tif usr ==(5):\n",
    "\t\ttotal_score += 5\n",
    "\n",
    "\tprint(f'total score = {total_score}')\n",
    "\tprint('\\n')\n",
    "\tq1 = total_score + usr\n",
    "        \n",
    "q1()"
   ]
  },
  {
   "cell_type": "code",
   "execution_count": 11,
   "metadata": {},
   "outputs": [
    {
     "name": "stdout",
     "output_type": "stream",
     "text": [
      "\n",
      " --------- Major Depression Iventory ----------\n",
      "\n"
     ]
    }
   ],
   "source": [
    "depressionQuiz()"
   ]
  },
  {
   "cell_type": "code",
   "execution_count": null,
   "metadata": {},
   "outputs": [],
   "source": []
  }
 ],
 "metadata": {
  "kernelspec": {
   "display_name": "Python 3",
   "language": "python",
   "name": "python3"
  },
  "language_info": {
   "codemirror_mode": {
    "name": "ipython",
    "version": 3
   },
   "file_extension": ".py",
   "mimetype": "text/x-python",
   "name": "python",
   "nbconvert_exporter": "python",
   "pygments_lexer": "ipython3",
   "version": "3.8.10"
  }
 },
 "nbformat": 4,
 "nbformat_minor": 4
}
