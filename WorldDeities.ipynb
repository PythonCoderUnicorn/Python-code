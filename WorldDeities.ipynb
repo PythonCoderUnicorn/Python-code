{
 "cells": [
  {
   "cell_type": "markdown",
   "metadata": {},
   "source": [
    "# Deities of the world"
   ]
  },
  {
   "cell_type": "code",
   "execution_count": 1,
   "metadata": {},
   "outputs": [],
   "source": [
    "import pandas as pd"
   ]
  },
  {
   "cell_type": "code",
   "execution_count": 2,
   "metadata": {},
   "outputs": [
    {
     "data": {
      "text/html": [
       "<div>\n",
       "<style scoped>\n",
       "    .dataframe tbody tr th:only-of-type {\n",
       "        vertical-align: middle;\n",
       "    }\n",
       "\n",
       "    .dataframe tbody tr th {\n",
       "        vertical-align: top;\n",
       "    }\n",
       "\n",
       "    .dataframe thead th {\n",
       "        text-align: right;\n",
       "    }\n",
       "</style>\n",
       "<table border=\"1\" class=\"dataframe\">\n",
       "  <thead>\n",
       "    <tr style=\"text-align: right;\">\n",
       "      <th></th>\n",
       "      <th>deity_name</th>\n",
       "      <th>deity_of</th>\n",
       "      <th>region_origin</th>\n",
       "    </tr>\n",
       "  </thead>\n",
       "  <tbody>\n",
       "    <tr>\n",
       "      <th>0</th>\n",
       "      <td>Bugid Y Aiba</td>\n",
       "      <td>war</td>\n",
       "      <td>haiti</td>\n",
       "    </tr>\n",
       "    <tr>\n",
       "      <th>1</th>\n",
       "      <td>Ogoun</td>\n",
       "      <td>war</td>\n",
       "      <td>haiti</td>\n",
       "    </tr>\n",
       "    <tr>\n",
       "      <th>2</th>\n",
       "      <td>Ometeotl</td>\n",
       "      <td>fertility</td>\n",
       "      <td>Central, S. America</td>\n",
       "    </tr>\n",
       "    <tr>\n",
       "      <th>3</th>\n",
       "      <td>Ehecatl</td>\n",
       "      <td>wind</td>\n",
       "      <td>Central, S. America</td>\n",
       "    </tr>\n",
       "    <tr>\n",
       "      <th>4</th>\n",
       "      <td>huitzilopochtli</td>\n",
       "      <td>war and sacrifice</td>\n",
       "      <td>Central, S. America</td>\n",
       "    </tr>\n",
       "  </tbody>\n",
       "</table>\n",
       "</div>"
      ],
      "text/plain": [
       "        deity_name           deity_of        region_origin\n",
       "0     Bugid Y Aiba                war                haiti\n",
       "1            Ogoun                war                haiti\n",
       "2        Ometeotl           fertility  Central, S. America\n",
       "3          Ehecatl               wind  Central, S. America\n",
       "4  huitzilopochtli  war and sacrifice  Central, S. America"
      ]
     },
     "execution_count": 2,
     "metadata": {},
     "output_type": "execute_result"
    }
   ],
   "source": [
    "gods = pd.read_csv('deities.csv')\n",
    "gods.head() "
   ]
  },
  {
   "cell_type": "code",
   "execution_count": 3,
   "metadata": {},
   "outputs": [
    {
     "data": {
      "text/plain": [
       "(487, 3)"
      ]
     },
     "execution_count": 3,
     "metadata": {},
     "output_type": "execute_result"
    }
   ],
   "source": [
    "gods.shape"
   ]
  },
  {
   "cell_type": "code",
   "execution_count": 5,
   "metadata": {
    "scrolled": true
   },
   "outputs": [
    {
     "data": {
      "text/plain": [
       "0                                           war\n",
       "1                                           war\n",
       "2                                     fertility\n",
       "3                                          wind\n",
       "4                             war and sacrifice\n",
       "                         ...                   \n",
       "482                   dreams/visions and health\n",
       "483               health, the moon, and rebirth\n",
       "484    mystery and martial skills, the javelin.\n",
       "485                           war, supreme  god\n",
       "486                           fertility and art\n",
       "Name: deity_of, Length: 487, dtype: object"
      ]
     },
     "execution_count": 5,
     "metadata": {},
     "output_type": "execute_result"
    }
   ],
   "source": [
    "gods.deity_of"
   ]
  },
  {
   "cell_type": "code",
   "execution_count": 6,
   "metadata": {},
   "outputs": [
    {
     "data": {
      "text/plain": [
       "deity_name                         Cailleach \n",
       "deity_of           wisdom, disease and plague\n",
       "region_origin                          Celtic\n",
       "Name: 67, dtype: object"
      ]
     },
     "execution_count": 6,
     "metadata": {},
     "output_type": "execute_result"
    }
   ],
   "source": [
    "gods.loc[67]"
   ]
  },
  {
   "cell_type": "code",
   "execution_count": 8,
   "metadata": {},
   "outputs": [
    {
     "data": {
      "text/html": [
       "<div>\n",
       "<style scoped>\n",
       "    .dataframe tbody tr th:only-of-type {\n",
       "        vertical-align: middle;\n",
       "    }\n",
       "\n",
       "    .dataframe tbody tr th {\n",
       "        vertical-align: top;\n",
       "    }\n",
       "\n",
       "    .dataframe thead th {\n",
       "        text-align: right;\n",
       "    }\n",
       "</style>\n",
       "<table border=\"1\" class=\"dataframe\">\n",
       "  <thead>\n",
       "    <tr style=\"text-align: right;\">\n",
       "      <th></th>\n",
       "      <th>deity_name</th>\n",
       "      <th>deity_of</th>\n",
       "      <th>region_origin</th>\n",
       "    </tr>\n",
       "  </thead>\n",
       "  <tbody>\n",
       "    <tr>\n",
       "      <th>185</th>\n",
       "      <td>Palioxis</td>\n",
       "      <td>spirit  retreat from battle</td>\n",
       "      <td>Greek</td>\n",
       "    </tr>\n",
       "    <tr>\n",
       "      <th>240</th>\n",
       "      <td>Vor</td>\n",
       "      <td>hidden knowledge</td>\n",
       "      <td>Norse</td>\n",
       "    </tr>\n",
       "  </tbody>\n",
       "</table>\n",
       "</div>"
      ],
      "text/plain": [
       "    deity_name                     deity_of region_origin\n",
       "185  Palioxis   spirit  retreat from battle         Greek\n",
       "240       Vor              hidden knowledge         Norse"
      ]
     },
     "execution_count": 8,
     "metadata": {},
     "output_type": "execute_result"
    }
   ],
   "source": [
    "gods.loc[[185,240]]"
   ]
  },
  {
   "cell_type": "code",
   "execution_count": 9,
   "metadata": {},
   "outputs": [
    {
     "data": {
      "text/plain": [
       "deity_name            Geb\n",
       "deity_of            earth\n",
       "region_origin    Egyptian\n",
       "Name: 300, dtype: object"
      ]
     },
     "execution_count": 9,
     "metadata": {},
     "output_type": "execute_result"
    }
   ],
   "source": [
    "gods.iloc[300]"
   ]
  },
  {
   "cell_type": "code",
   "execution_count": 10,
   "metadata": {
    "scrolled": true
   },
   "outputs": [
    {
     "data": {
      "text/html": [
       "<div>\n",
       "<style scoped>\n",
       "    .dataframe tbody tr th:only-of-type {\n",
       "        vertical-align: middle;\n",
       "    }\n",
       "\n",
       "    .dataframe tbody tr th {\n",
       "        vertical-align: top;\n",
       "    }\n",
       "\n",
       "    .dataframe thead th {\n",
       "        text-align: right;\n",
       "    }\n",
       "</style>\n",
       "<table border=\"1\" class=\"dataframe\">\n",
       "  <thead>\n",
       "    <tr style=\"text-align: right;\">\n",
       "      <th></th>\n",
       "      <th>deity_name</th>\n",
       "      <th>deity_of</th>\n",
       "      <th>region_origin</th>\n",
       "    </tr>\n",
       "  </thead>\n",
       "  <tbody>\n",
       "    <tr>\n",
       "      <th>0</th>\n",
       "      <td>Bugid Y Aiba</td>\n",
       "      <td>war</td>\n",
       "      <td>haiti</td>\n",
       "    </tr>\n",
       "    <tr>\n",
       "      <th>1</th>\n",
       "      <td>Ogoun</td>\n",
       "      <td>war</td>\n",
       "      <td>haiti</td>\n",
       "    </tr>\n",
       "    <tr>\n",
       "      <th>13</th>\n",
       "      <td>Buluc Chabtan</td>\n",
       "      <td>war</td>\n",
       "      <td>Mayan, Mexico</td>\n",
       "    </tr>\n",
       "    <tr>\n",
       "      <th>15</th>\n",
       "      <td>Ekchuah</td>\n",
       "      <td>war</td>\n",
       "      <td>Mayan, Mexico</td>\n",
       "    </tr>\n",
       "    <tr>\n",
       "      <th>21</th>\n",
       "      <td>Nacon</td>\n",
       "      <td>war</td>\n",
       "      <td>Mayan, Mexico</td>\n",
       "    </tr>\n",
       "    <tr>\n",
       "      <th>32</th>\n",
       "      <td>Tir</td>\n",
       "      <td>war</td>\n",
       "      <td>Europe: Anglo-Saxon</td>\n",
       "    </tr>\n",
       "    <tr>\n",
       "      <th>38</th>\n",
       "      <td>Aray</td>\n",
       "      <td>war</td>\n",
       "      <td>Armenian</td>\n",
       "    </tr>\n",
       "    <tr>\n",
       "      <th>40</th>\n",
       "      <td>Nane</td>\n",
       "      <td>war</td>\n",
       "      <td>Armenian</td>\n",
       "    </tr>\n",
       "    <tr>\n",
       "      <th>57</th>\n",
       "      <td>Bandua</td>\n",
       "      <td>war</td>\n",
       "      <td>Celtic</td>\n",
       "    </tr>\n",
       "    <tr>\n",
       "      <th>58</th>\n",
       "      <td>Belatucadros</td>\n",
       "      <td>war</td>\n",
       "      <td>Celtic</td>\n",
       "    </tr>\n",
       "    <tr>\n",
       "      <th>68</th>\n",
       "      <td>Camulus</td>\n",
       "      <td>war</td>\n",
       "      <td>Celtic</td>\n",
       "    </tr>\n",
       "    <tr>\n",
       "      <th>69</th>\n",
       "      <td>Caswallawn</td>\n",
       "      <td>war</td>\n",
       "      <td>Celtic</td>\n",
       "    </tr>\n",
       "    <tr>\n",
       "      <th>72</th>\n",
       "      <td>Cicolluis</td>\n",
       "      <td>war</td>\n",
       "      <td>Celtic</td>\n",
       "    </tr>\n",
       "    <tr>\n",
       "      <th>118</th>\n",
       "      <td>Rudianos</td>\n",
       "      <td>war</td>\n",
       "      <td>Celtic</td>\n",
       "    </tr>\n",
       "    <tr>\n",
       "      <th>119</th>\n",
       "      <td>Segomo</td>\n",
       "      <td>war</td>\n",
       "      <td>Celtic</td>\n",
       "    </tr>\n",
       "    <tr>\n",
       "      <th>242</th>\n",
       "      <td>Bellona</td>\n",
       "      <td>war</td>\n",
       "      <td>Roman</td>\n",
       "    </tr>\n",
       "    <tr>\n",
       "      <th>255</th>\n",
       "      <td>Mars</td>\n",
       "      <td>war</td>\n",
       "      <td>Roman</td>\n",
       "    </tr>\n",
       "    <tr>\n",
       "      <th>273</th>\n",
       "      <td>Andrasta</td>\n",
       "      <td>war</td>\n",
       "      <td>Romano-Celtic</td>\n",
       "    </tr>\n",
       "    <tr>\n",
       "      <th>284</th>\n",
       "      <td>Jarovit</td>\n",
       "      <td>war</td>\n",
       "      <td>Slavic</td>\n",
       "    </tr>\n",
       "    <tr>\n",
       "      <th>287</th>\n",
       "      <td>Rugiviet</td>\n",
       "      <td>war</td>\n",
       "      <td>Slavic</td>\n",
       "    </tr>\n",
       "    <tr>\n",
       "      <th>288</th>\n",
       "      <td>Svantetit</td>\n",
       "      <td>war</td>\n",
       "      <td>Slavic</td>\n",
       "    </tr>\n",
       "    <tr>\n",
       "      <th>289</th>\n",
       "      <td>Svetovit</td>\n",
       "      <td>war</td>\n",
       "      <td>Slavic</td>\n",
       "    </tr>\n",
       "    <tr>\n",
       "      <th>290</th>\n",
       "      <td>Triglav</td>\n",
       "      <td>war</td>\n",
       "      <td>Slavic</td>\n",
       "    </tr>\n",
       "    <tr>\n",
       "      <th>291</th>\n",
       "      <td>Zroya</td>\n",
       "      <td>war</td>\n",
       "      <td>Slavic</td>\n",
       "    </tr>\n",
       "    <tr>\n",
       "      <th>292</th>\n",
       "      <td>Anhur</td>\n",
       "      <td>war</td>\n",
       "      <td>Egyptian</td>\n",
       "    </tr>\n",
       "    <tr>\n",
       "      <th>293</th>\n",
       "      <td>Ankt</td>\n",
       "      <td>war</td>\n",
       "      <td>Egyptian</td>\n",
       "    </tr>\n",
       "    <tr>\n",
       "      <th>294</th>\n",
       "      <td>Anouke</td>\n",
       "      <td>war</td>\n",
       "      <td>Egyptian</td>\n",
       "    </tr>\n",
       "    <tr>\n",
       "      <th>309</th>\n",
       "      <td>Maahes</td>\n",
       "      <td>war</td>\n",
       "      <td>Egyptian</td>\n",
       "    </tr>\n",
       "    <tr>\n",
       "      <th>311</th>\n",
       "      <td>Menhit</td>\n",
       "      <td>war</td>\n",
       "      <td>Egyptian</td>\n",
       "    </tr>\n",
       "    <tr>\n",
       "      <th>312</th>\n",
       "      <td>Mentu</td>\n",
       "      <td>war</td>\n",
       "      <td>Egyptian</td>\n",
       "    </tr>\n",
       "    <tr>\n",
       "      <th>314</th>\n",
       "      <td>Mont</td>\n",
       "      <td>war</td>\n",
       "      <td>Egyptian</td>\n",
       "    </tr>\n",
       "    <tr>\n",
       "      <th>316</th>\n",
       "      <td>Neith</td>\n",
       "      <td>war</td>\n",
       "      <td>Egyptian</td>\n",
       "    </tr>\n",
       "    <tr>\n",
       "      <th>319</th>\n",
       "      <td>Pakhet</td>\n",
       "      <td>war</td>\n",
       "      <td>Egyptian</td>\n",
       "    </tr>\n",
       "    <tr>\n",
       "      <th>365</th>\n",
       "      <td>Futsu-Nushi-no-Kami</td>\n",
       "      <td>war</td>\n",
       "      <td>Japan/Shinto</td>\n",
       "    </tr>\n",
       "    <tr>\n",
       "      <th>367</th>\n",
       "      <td>hachiman</td>\n",
       "      <td>war</td>\n",
       "      <td>Japan/Shinto</td>\n",
       "    </tr>\n",
       "    <tr>\n",
       "      <th>383</th>\n",
       "      <td>Beg-tse</td>\n",
       "      <td>war</td>\n",
       "      <td>Tibetan</td>\n",
       "    </tr>\n",
       "    <tr>\n",
       "      <th>388</th>\n",
       "      <td>Indra</td>\n",
       "      <td>war</td>\n",
       "      <td>hindu</td>\n",
       "    </tr>\n",
       "    <tr>\n",
       "      <th>390</th>\n",
       "      <td>Karttikeya</td>\n",
       "      <td>war</td>\n",
       "      <td>hindu</td>\n",
       "    </tr>\n",
       "    <tr>\n",
       "      <th>409</th>\n",
       "      <td>Ashtart</td>\n",
       "      <td>war</td>\n",
       "      <td>Mesopotamian</td>\n",
       "    </tr>\n",
       "    <tr>\n",
       "      <th>410</th>\n",
       "      <td>Ashur</td>\n",
       "      <td>war</td>\n",
       "      <td>Mesopotamian</td>\n",
       "    </tr>\n",
       "    <tr>\n",
       "      <th>417</th>\n",
       "      <td>Ninurta</td>\n",
       "      <td>war</td>\n",
       "      <td>Mesopotamian</td>\n",
       "    </tr>\n",
       "    <tr>\n",
       "      <th>427</th>\n",
       "      <td>Nanaja</td>\n",
       "      <td>war</td>\n",
       "      <td>Mesopotamian</td>\n",
       "    </tr>\n",
       "    <tr>\n",
       "      <th>430</th>\n",
       "      <td>Pap-nigin-gara</td>\n",
       "      <td>war</td>\n",
       "      <td>Mesopotamian</td>\n",
       "    </tr>\n",
       "    <tr>\n",
       "      <th>434</th>\n",
       "      <td>Shara</td>\n",
       "      <td>war</td>\n",
       "      <td>Mesopotamian</td>\n",
       "    </tr>\n",
       "    <tr>\n",
       "      <th>439</th>\n",
       "      <td>Zababa</td>\n",
       "      <td>war</td>\n",
       "      <td>Mesopotamian</td>\n",
       "    </tr>\n",
       "  </tbody>\n",
       "</table>\n",
       "</div>"
      ],
      "text/plain": [
       "               deity_name deity_of        region_origin\n",
       "0            Bugid Y Aiba      war                haiti\n",
       "1                   Ogoun      war                haiti\n",
       "13          Buluc Chabtan      war        Mayan, Mexico\n",
       "15               Ekchuah       war        Mayan, Mexico\n",
       "21                  Nacon      war        Mayan, Mexico\n",
       "32                    Tir      war  Europe: Anglo-Saxon\n",
       "38                  Aray       war             Armenian\n",
       "40                  Nane       war             Armenian\n",
       "57                Bandua       war               Celtic\n",
       "58          Belatucadros       war               Celtic\n",
       "68               Camulus       war               Celtic\n",
       "69            Caswallawn       war               Celtic\n",
       "72             Cicolluis       war               Celtic\n",
       "118             Rudianos       war               Celtic\n",
       "119               Segomo       war               Celtic\n",
       "242              Bellona       war                Roman\n",
       "255                 Mars       war                Roman\n",
       "273             Andrasta       war        Romano-Celtic\n",
       "284              Jarovit       war               Slavic\n",
       "287             Rugiviet       war               Slavic\n",
       "288            Svantetit       war               Slavic\n",
       "289             Svetovit       war               Slavic\n",
       "290              Triglav       war               Slavic\n",
       "291                Zroya       war               Slavic\n",
       "292                 Anhur      war             Egyptian\n",
       "293                 Ankt       war             Egyptian\n",
       "294               Anouke       war             Egyptian\n",
       "309               Maahes       war             Egyptian\n",
       "311               Menhit       war             Egyptian\n",
       "312                Mentu       war             Egyptian\n",
       "314                  Mont      war             Egyptian\n",
       "316                 Neith      war             Egyptian\n",
       "319               Pakhet       war             Egyptian\n",
       "365  Futsu-Nushi-no-Kami       war         Japan/Shinto\n",
       "367             hachiman       war         Japan/Shinto\n",
       "383              Beg-tse       war             Tibetan \n",
       "388                Indra       war                hindu\n",
       "390           Karttikeya       war                hindu\n",
       "409              Ashtart       war         Mesopotamian\n",
       "410                Ashur       war         Mesopotamian\n",
       "417              Ninurta       war         Mesopotamian\n",
       "427               Nanaja       war         Mesopotamian\n",
       "430       Pap-nigin-gara       war         Mesopotamian\n",
       "434                Shara       war         Mesopotamian\n",
       "439               Zababa       war         Mesopotamian"
      ]
     },
     "execution_count": 10,
     "metadata": {},
     "output_type": "execute_result"
    }
   ],
   "source": [
    "gods.loc[ gods['deity_of']=='war']"
   ]
  },
  {
   "cell_type": "code",
   "execution_count": 26,
   "metadata": {},
   "outputs": [
    {
     "data": {
      "text/html": [
       "<div>\n",
       "<style scoped>\n",
       "    .dataframe tbody tr th:only-of-type {\n",
       "        vertical-align: middle;\n",
       "    }\n",
       "\n",
       "    .dataframe tbody tr th {\n",
       "        vertical-align: top;\n",
       "    }\n",
       "\n",
       "    .dataframe thead th {\n",
       "        text-align: right;\n",
       "    }\n",
       "</style>\n",
       "<table border=\"1\" class=\"dataframe\">\n",
       "  <thead>\n",
       "    <tr style=\"text-align: right;\">\n",
       "      <th></th>\n",
       "      <th>deity_name</th>\n",
       "      <th>deity_of</th>\n",
       "      <th>region_origin</th>\n",
       "    </tr>\n",
       "    <tr>\n",
       "      <th>deity_of</th>\n",
       "      <th></th>\n",
       "      <th></th>\n",
       "      <th></th>\n",
       "    </tr>\n",
       "  </thead>\n",
       "  <tbody>\n",
       "    <tr>\n",
       "      <th>False</th>\n",
       "      <td>442</td>\n",
       "      <td>442</td>\n",
       "      <td>442</td>\n",
       "    </tr>\n",
       "    <tr>\n",
       "      <th>True</th>\n",
       "      <td>45</td>\n",
       "      <td>45</td>\n",
       "      <td>45</td>\n",
       "    </tr>\n",
       "  </tbody>\n",
       "</table>\n",
       "</div>"
      ],
      "text/plain": [
       "          deity_name  deity_of  region_origin\n",
       "deity_of                                     \n",
       "False            442       442            442\n",
       "True              45        45             45"
      ]
     },
     "execution_count": 26,
     "metadata": {},
     "output_type": "execute_result"
    }
   ],
   "source": [
    "godsOfwar = gods.groupby(gods['deity_of']=='war').count()\n",
    "godsOfwar"
   ]
  },
  {
   "cell_type": "code",
   "execution_count": 29,
   "metadata": {},
   "outputs": [
    {
     "data": {
      "text/html": [
       "<div>\n",
       "<style scoped>\n",
       "    .dataframe tbody tr th:only-of-type {\n",
       "        vertical-align: middle;\n",
       "    }\n",
       "\n",
       "    .dataframe tbody tr th {\n",
       "        vertical-align: top;\n",
       "    }\n",
       "\n",
       "    .dataframe thead th {\n",
       "        text-align: right;\n",
       "    }\n",
       "</style>\n",
       "<table border=\"1\" class=\"dataframe\">\n",
       "  <thead>\n",
       "    <tr style=\"text-align: right;\">\n",
       "      <th></th>\n",
       "      <th>deity_name</th>\n",
       "      <th>region_origin</th>\n",
       "    </tr>\n",
       "    <tr>\n",
       "      <th>deity_of</th>\n",
       "      <th></th>\n",
       "      <th></th>\n",
       "    </tr>\n",
       "  </thead>\n",
       "  <tbody>\n",
       "    <tr>\n",
       "      <th>blessed death</th>\n",
       "      <td>1</td>\n",
       "      <td>1</td>\n",
       "    </tr>\n",
       "    <tr>\n",
       "      <th>earth</th>\n",
       "      <td>1</td>\n",
       "      <td>1</td>\n",
       "    </tr>\n",
       "    <tr>\n",
       "      <th>horses</th>\n",
       "      <td>1</td>\n",
       "      <td>1</td>\n",
       "    </tr>\n",
       "    <tr>\n",
       "      <th>kings, justice, and rulership</th>\n",
       "      <td>1</td>\n",
       "      <td>1</td>\n",
       "    </tr>\n",
       "    <tr>\n",
       "      <th>\"Lord wisdom\".</th>\n",
       "      <td>1</td>\n",
       "      <td>1</td>\n",
       "    </tr>\n",
       "    <tr>\n",
       "      <th>...</th>\n",
       "      <td>...</td>\n",
       "      <td>...</td>\n",
       "    </tr>\n",
       "    <tr>\n",
       "      <th>wisdom, medicine and magic</th>\n",
       "      <td>1</td>\n",
       "      <td>1</td>\n",
       "    </tr>\n",
       "    <tr>\n",
       "      <th>woman</th>\n",
       "      <td>1</td>\n",
       "      <td>1</td>\n",
       "    </tr>\n",
       "    <tr>\n",
       "      <th>women domestic skills and wisdom</th>\n",
       "      <td>1</td>\n",
       "      <td>1</td>\n",
       "    </tr>\n",
       "    <tr>\n",
       "      <th>writing, and interpreter  dreams</th>\n",
       "      <td>1</td>\n",
       "      <td>1</td>\n",
       "    </tr>\n",
       "    <tr>\n",
       "      <th>youth, love and beauty.</th>\n",
       "      <td>1</td>\n",
       "      <td>1</td>\n",
       "    </tr>\n",
       "  </tbody>\n",
       "</table>\n",
       "<p>391 rows × 2 columns</p>\n",
       "</div>"
      ],
      "text/plain": [
       "                                  deity_name  region_origin\n",
       "deity_of                                                   \n",
       "   blessed death                           1              1\n",
       "   earth                                   1              1\n",
       "   horses                                  1              1\n",
       "   kings, justice, and rulership           1              1\n",
       "  \"Lord wisdom\".                           1              1\n",
       "...                                      ...            ...\n",
       "wisdom, medicine and magic                 1              1\n",
       "woman                                      1              1\n",
       "women domestic skills and wisdom           1              1\n",
       "writing, and interpreter  dreams           1              1\n",
       "youth, love and beauty.                    1              1\n",
       "\n",
       "[391 rows x 2 columns]"
      ]
     },
     "execution_count": 29,
     "metadata": {},
     "output_type": "execute_result"
    }
   ],
   "source": [
    "wargods = gods.groupby('deity_of').count()\n",
    "wargods"
   ]
  },
  {
   "cell_type": "code",
   "execution_count": 32,
   "metadata": {},
   "outputs": [
    {
     "data": {
      "text/plain": [
       "war                                                        45\n",
       "wind                                                        6\n",
       "storms                                                      5\n",
       "thunder                                                     5\n",
       "underworld                                                  5\n",
       "                                                           ..\n",
       "love, beauty, the moon, and medicine                        1\n",
       "  love and beauty.                                          1\n",
       "volcanoes and earthquakes                                   1\n",
       "judge the dead and preside over the afterlife (samsara)     1\n",
       "  the English.                                              1\n",
       "Name: deity_of, Length: 391, dtype: int64"
      ]
     },
     "execution_count": 32,
     "metadata": {},
     "output_type": "execute_result"
    }
   ],
   "source": [
    "gods.deity_of.value_counts()"
   ]
  },
  {
   "cell_type": "code",
   "execution_count": 35,
   "metadata": {},
   "outputs": [
    {
     "data": {
      "text/html": [
       "<div>\n",
       "<style scoped>\n",
       "    .dataframe tbody tr th:only-of-type {\n",
       "        vertical-align: middle;\n",
       "    }\n",
       "\n",
       "    .dataframe tbody tr th {\n",
       "        vertical-align: top;\n",
       "    }\n",
       "\n",
       "    .dataframe thead th {\n",
       "        text-align: right;\n",
       "    }\n",
       "</style>\n",
       "<table border=\"1\" class=\"dataframe\">\n",
       "  <thead>\n",
       "    <tr style=\"text-align: right;\">\n",
       "      <th></th>\n",
       "      <th>deity_name</th>\n",
       "      <th>deity_of</th>\n",
       "      <th>region_origin</th>\n",
       "    </tr>\n",
       "  </thead>\n",
       "  <tbody>\n",
       "    <tr>\n",
       "      <th>0</th>\n",
       "      <td>Bugid Y Aiba</td>\n",
       "      <td>1</td>\n",
       "      <td>haiti</td>\n",
       "    </tr>\n",
       "    <tr>\n",
       "      <th>1</th>\n",
       "      <td>Ogoun</td>\n",
       "      <td>1</td>\n",
       "      <td>haiti</td>\n",
       "    </tr>\n",
       "    <tr>\n",
       "      <th>2</th>\n",
       "      <td>Ometeotl</td>\n",
       "      <td>5</td>\n",
       "      <td>Central, S America</td>\n",
       "    </tr>\n",
       "    <tr>\n",
       "      <th>3</th>\n",
       "      <td>Ehecatl</td>\n",
       "      <td>2</td>\n",
       "      <td>Central, S America</td>\n",
       "    </tr>\n",
       "    <tr>\n",
       "      <th>4</th>\n",
       "      <td>huitzilopochtli</td>\n",
       "      <td>1</td>\n",
       "      <td>Central, S America</td>\n",
       "    </tr>\n",
       "  </tbody>\n",
       "</table>\n",
       "</div>"
      ],
      "text/plain": [
       "        deity_name deity_of       region_origin\n",
       "0     Bugid Y Aiba        1               haiti\n",
       "1            Ogoun        1               haiti\n",
       "2        Ometeotl         5  Central, S America\n",
       "3          Ehecatl        2  Central, S America\n",
       "4  huitzilopochtli        1  Central, S America"
      ]
     },
     "execution_count": 35,
     "metadata": {},
     "output_type": "execute_result"
    }
   ],
   "source": [
    "df = pd.read_csv('deities - numeric.csv')\n",
    "df.head()"
   ]
  },
  {
   "cell_type": "code",
   "execution_count": 36,
   "metadata": {},
   "outputs": [
    {
     "data": {
      "text/plain": [
       "(482, 3)"
      ]
     },
     "execution_count": 36,
     "metadata": {},
     "output_type": "execute_result"
    }
   ],
   "source": [
    "df.shape"
   ]
  },
  {
   "cell_type": "code",
   "execution_count": 37,
   "metadata": {},
   "outputs": [
    {
     "data": {
      "text/plain": [
       "1446"
      ]
     },
     "execution_count": 37,
     "metadata": {},
     "output_type": "execute_result"
    }
   ],
   "source": [
    "df.size"
   ]
  },
  {
   "cell_type": "code",
   "execution_count": 40,
   "metadata": {},
   "outputs": [
    {
     "data": {
      "text/plain": [
       "0    1\n",
       "1    1\n",
       "2    5\n",
       "3    2\n",
       "4    1\n",
       "Name: deity_of, dtype: object"
      ]
     },
     "execution_count": 40,
     "metadata": {},
     "output_type": "execute_result"
    }
   ],
   "source": [
    "deity = df.deity_of\n",
    "deity.head()"
   ]
  },
  {
   "cell_type": "code",
   "execution_count": 41,
   "metadata": {},
   "outputs": [],
   "source": [
    "deity_ = df.deity_of.to_numpy()"
   ]
  },
  {
   "cell_type": "code",
   "execution_count": 42,
   "metadata": {},
   "outputs": [
    {
     "data": {
      "text/plain": [
       "'   11 ,  8'"
      ]
     },
     "execution_count": 42,
     "metadata": {},
     "output_type": "execute_result"
    }
   ],
   "source": [
    "deity_.min()"
   ]
  },
  {
   "cell_type": "code",
   "execution_count": 43,
   "metadata": {},
   "outputs": [
    {
     "data": {
      "text/plain": [
       "'9'"
      ]
     },
     "execution_count": 43,
     "metadata": {},
     "output_type": "execute_result"
    }
   ],
   "source": [
    "deity.max()"
   ]
  },
  {
   "cell_type": "code",
   "execution_count": 44,
   "metadata": {},
   "outputs": [
    {
     "data": {
      "text/plain": [
       "deity_name       Taranis \n",
       "deity_of                3\n",
       "region_origin      Celtic\n",
       "Name: 122, dtype: object"
      ]
     },
     "execution_count": 44,
     "metadata": {},
     "output_type": "execute_result"
    }
   ],
   "source": [
    "df.iloc[122]"
   ]
  },
  {
   "cell_type": "code",
   "execution_count": 46,
   "metadata": {},
   "outputs": [
    {
     "data": {
      "text/html": [
       "<div>\n",
       "<style scoped>\n",
       "    .dataframe tbody tr th:only-of-type {\n",
       "        vertical-align: middle;\n",
       "    }\n",
       "\n",
       "    .dataframe tbody tr th {\n",
       "        vertical-align: top;\n",
       "    }\n",
       "\n",
       "    .dataframe thead th {\n",
       "        text-align: right;\n",
       "    }\n",
       "</style>\n",
       "<table border=\"1\" class=\"dataframe\">\n",
       "  <thead>\n",
       "    <tr style=\"text-align: right;\">\n",
       "      <th></th>\n",
       "      <th>deity_name</th>\n",
       "      <th>deity_of</th>\n",
       "      <th>region_origin</th>\n",
       "    </tr>\n",
       "  </thead>\n",
       "  <tbody>\n",
       "    <tr>\n",
       "      <th>110</th>\n",
       "      <td>Niamh</td>\n",
       "      <td>15</td>\n",
       "      <td>Celtic</td>\n",
       "    </tr>\n",
       "    <tr>\n",
       "      <th>120</th>\n",
       "      <td>Sucellus</td>\n",
       "      <td>18 ,  22</td>\n",
       "      <td>Celtic</td>\n",
       "    </tr>\n",
       "    <tr>\n",
       "      <th>130</th>\n",
       "      <td>Mielikki</td>\n",
       "      <td>22 , 6</td>\n",
       "      <td>Finnish</td>\n",
       "    </tr>\n",
       "  </tbody>\n",
       "</table>\n",
       "</div>"
      ],
      "text/plain": [
       "    deity_name    deity_of region_origin\n",
       "110     Niamh           15        Celtic\n",
       "120  Sucellus     18 ,  22        Celtic\n",
       "130  Mielikki       22 , 6       Finnish"
      ]
     },
     "execution_count": 46,
     "metadata": {},
     "output_type": "execute_result"
    }
   ],
   "source": [
    "df.iloc[[110,120,130]]"
   ]
  },
  {
   "cell_type": "code",
   "execution_count": 47,
   "metadata": {},
   "outputs": [
    {
     "data": {
      "text/html": [
       "<div>\n",
       "<style scoped>\n",
       "    .dataframe tbody tr th:only-of-type {\n",
       "        vertical-align: middle;\n",
       "    }\n",
       "\n",
       "    .dataframe tbody tr th {\n",
       "        vertical-align: top;\n",
       "    }\n",
       "\n",
       "    .dataframe thead th {\n",
       "        text-align: right;\n",
       "    }\n",
       "</style>\n",
       "<table border=\"1\" class=\"dataframe\">\n",
       "  <thead>\n",
       "    <tr style=\"text-align: right;\">\n",
       "      <th></th>\n",
       "      <th>deity_name</th>\n",
       "      <th>deity_of</th>\n",
       "      <th>region_origin</th>\n",
       "    </tr>\n",
       "  </thead>\n",
       "  <tbody>\n",
       "    <tr>\n",
       "      <th>390</th>\n",
       "      <td>Maruts</td>\n",
       "      <td>3</td>\n",
       "      <td>hindu</td>\n",
       "    </tr>\n",
       "    <tr>\n",
       "      <th>391</th>\n",
       "      <td>Parvati</td>\n",
       "      <td>5, 10, 15</td>\n",
       "      <td>hindu</td>\n",
       "    </tr>\n",
       "    <tr>\n",
       "      <th>392</th>\n",
       "      <td>Saranyu</td>\n",
       "      <td>7</td>\n",
       "      <td>hindu</td>\n",
       "    </tr>\n",
       "    <tr>\n",
       "      <th>393</th>\n",
       "      <td>Saraswati</td>\n",
       "      <td>10</td>\n",
       "      <td>hindu</td>\n",
       "    </tr>\n",
       "    <tr>\n",
       "      <th>394</th>\n",
       "      <td>Shiva</td>\n",
       "      <td>25</td>\n",
       "      <td>hindu</td>\n",
       "    </tr>\n",
       "    <tr>\n",
       "      <th>395</th>\n",
       "      <td>Vayu</td>\n",
       "      <td>2</td>\n",
       "      <td>hindu</td>\n",
       "    </tr>\n",
       "    <tr>\n",
       "      <th>396</th>\n",
       "      <td>Vishnu</td>\n",
       "      <td>28</td>\n",
       "      <td>hindu</td>\n",
       "    </tr>\n",
       "    <tr>\n",
       "      <th>397</th>\n",
       "      <td>Krishna</td>\n",
       "      <td>28</td>\n",
       "      <td>hindu</td>\n",
       "    </tr>\n",
       "    <tr>\n",
       "      <th>398</th>\n",
       "      <td>Yama</td>\n",
       "      <td>28</td>\n",
       "      <td>hindu</td>\n",
       "    </tr>\n",
       "    <tr>\n",
       "      <th>399</th>\n",
       "      <td>Ahura Mazda (Ormazd)</td>\n",
       "      <td>10</td>\n",
       "      <td>Persian / Zoroastrianism</td>\n",
       "    </tr>\n",
       "  </tbody>\n",
       "</table>\n",
       "</div>"
      ],
      "text/plain": [
       "                deity_name   deity_of             region_origin\n",
       "390                 Maruts          3                     hindu\n",
       "391               Parvati   5, 10, 15                     hindu\n",
       "392               Saranyu           7                     hindu\n",
       "393              Saraswati         10                     hindu\n",
       "394                  Shiva         25                     hindu\n",
       "395                  Vayu           2                     hindu\n",
       "396                Vishnu          28                     hindu\n",
       "397               Krishna          28                     hindu\n",
       "398                   Yama         28                     hindu\n",
       "399  Ahura Mazda (Ormazd)          10  Persian / Zoroastrianism"
      ]
     },
     "execution_count": 47,
     "metadata": {},
     "output_type": "execute_result"
    }
   ],
   "source": [
    "df.iloc[390:400]"
   ]
  },
  {
   "cell_type": "code",
   "execution_count": 48,
   "metadata": {},
   "outputs": [
    {
     "data": {
      "text/html": [
       "<div>\n",
       "<style scoped>\n",
       "    .dataframe tbody tr th:only-of-type {\n",
       "        vertical-align: middle;\n",
       "    }\n",
       "\n",
       "    .dataframe tbody tr th {\n",
       "        vertical-align: top;\n",
       "    }\n",
       "\n",
       "    .dataframe thead th {\n",
       "        text-align: right;\n",
       "    }\n",
       "</style>\n",
       "<table border=\"1\" class=\"dataframe\">\n",
       "  <thead>\n",
       "    <tr style=\"text-align: right;\">\n",
       "      <th></th>\n",
       "      <th>deity_name</th>\n",
       "      <th>deity_of</th>\n",
       "    </tr>\n",
       "  </thead>\n",
       "  <tbody>\n",
       "    <tr>\n",
       "      <th>340</th>\n",
       "      <td>Ne Zha</td>\n",
       "      <td>28</td>\n",
       "    </tr>\n",
       "    <tr>\n",
       "      <th>341</th>\n",
       "      <td>Tsai Shen Yeh</td>\n",
       "      <td>27</td>\n",
       "    </tr>\n",
       "    <tr>\n",
       "      <th>342</th>\n",
       "      <td>Wen Zhong</td>\n",
       "      <td>3</td>\n",
       "    </tr>\n",
       "    <tr>\n",
       "      <th>343</th>\n",
       "      <td>Yunzhongzi</td>\n",
       "      <td>7</td>\n",
       "    </tr>\n",
       "    <tr>\n",
       "      <th>344</th>\n",
       "      <td>Yu Shi</td>\n",
       "      <td>13</td>\n",
       "    </tr>\n",
       "    <tr>\n",
       "      <th>345</th>\n",
       "      <td>Àganjù</td>\n",
       "      <td>28</td>\n",
       "    </tr>\n",
       "    <tr>\n",
       "      <th>346</th>\n",
       "      <td>Ajá (Aje)</td>\n",
       "      <td>27</td>\n",
       "    </tr>\n",
       "    <tr>\n",
       "      <th>347</th>\n",
       "      <td>Ayao</td>\n",
       "      <td>2, 3</td>\n",
       "    </tr>\n",
       "    <tr>\n",
       "      <th>348</th>\n",
       "      <td>Eleguá</td>\n",
       "      <td>28</td>\n",
       "    </tr>\n",
       "    <tr>\n",
       "      <th>349</th>\n",
       "      <td>Èṣhù</td>\n",
       "      <td>28</td>\n",
       "    </tr>\n",
       "    <tr>\n",
       "      <th>350</th>\n",
       "      <td>hara Ké</td>\n",
       "      <td>28</td>\n",
       "    </tr>\n",
       "  </tbody>\n",
       "</table>\n",
       "</div>"
      ],
      "text/plain": [
       "         deity_name deity_of\n",
       "340         Ne Zha        28\n",
       "341  Tsai Shen Yeh        27\n",
       "342      Wen Zhong         3\n",
       "343     Yunzhongzi         7\n",
       "344         Yu Shi        13\n",
       "345         Àganjù        28\n",
       "346      Ajá (Aje)        27\n",
       "347           Ayao      2, 3\n",
       "348         Eleguá        28\n",
       "349           Èṣhù        28\n",
       "350        hara Ké        28"
      ]
     },
     "execution_count": 48,
     "metadata": {},
     "output_type": "execute_result"
    }
   ],
   "source": [
    "df.loc[340:350, ['deity_name','deity_of']]"
   ]
  },
  {
   "cell_type": "code",
   "execution_count": 49,
   "metadata": {},
   "outputs": [
    {
     "data": {
      "text/plain": [
       "array(['1', '5', '2', '6', '2, 13, , 7', '7', '13, 3, , 11',\n",
       "       '1, 18, 20, 6', '14', '5, 15, , 28', '4', '13', '16 , 1',\n",
       "       '10, 15,  17, , 8', '28', '25', '3', '24,  7,  7', '13, 7, , 14',\n",
       "       '12', '18', ' 8 , 9 ', '  7, 12, , 7', '10', '5, 8, 10, , 11',\n",
       "       '10, 15, , 11 ', '19, 28', '11, 11, , 13', '1, 3', '1, 25 , 5',\n",
       "       '10 , 15', '12, 17', '4, 1', '  25, 1', '10, 28', '11', '5, 8',\n",
       "       '8', '  10 , 15', '5 , 18', '19', '10, 20', '16, 9, 17, 10',\n",
       "       '11, 25', '5, 22 ,  4', '1, 6, , 22s', '5, 22, 28', '28, 12 , 11',\n",
       "       '25, 4', '21', '   22, 28', '9', '8, 11', '  12, 5 , 1',\n",
       "       '  25, 5, 17, 1', '1, 21', '  1 , 25, 26 ', '15', '6, 11',\n",
       "       '  10 , 26', '8, 9', '  21, 17, 25, 5 ', '   11 ,  8',\n",
       "       '  18 ,  22', '1, 5 , 27', '26', '20', '   22 , 6', '   7 , 3',\n",
       "       '11, 5', '11, 4', '  28, 7 ', '6, , 7', '19, 7', '10, 1', '23',\n",
       "       '17', '  7 , 12', ' 10 , 9 ', '5 , 10', '27', '6, 9, 10', '6, 1',\n",
       "       '22, 11', '6, 22', '16', '8, 25', '25, 28', '24', '10, 8 , 9',\n",
       "       '28 ,  7', '6 , 5', ' 2 , 12', '16 , 5', ' 17, 10, 8, 9', '1 , 25',\n",
       "       ' 17, 28', '2, 3', ' 22, 28', '6, 22, 28', '11, 27, , 8',\n",
       "       ' 11, 27, 15 , 10', ' 11, 5 , 8', ' 25, 4', '5, 10, 15',\n",
       "       '24, 11, 5', '10, 15, 5, 1', '11, 9, , 28', '1 , 18', '4, 5, , 1',\n",
       "       '25 , 4', '10 , 1', '5, 26 , 11', '13 , 5', '5, 28', '7, 13',\n",
       "       '19, 8', '8,  17, , 26'], dtype=object)"
      ]
     },
     "execution_count": 49,
     "metadata": {},
     "output_type": "execute_result"
    }
   ],
   "source": [
    "df.deity_of.unique()"
   ]
  },
  {
   "cell_type": "code",
   "execution_count": 53,
   "metadata": {
    "scrolled": true
   },
   "outputs": [
    {
     "data": {
      "text/plain": [
       "array([['Bugid Y Aiba', '1', 'haiti'],\n",
       "       ['Ogoun', '1', 'haiti'],\n",
       "       ['huitzilopochtli', '1', 'Central, S America'],\n",
       "       ['Buluc Chabtan', '1', 'Mayan, Mexico'],\n",
       "       ['Ekchuah ', '1', 'Mayan, Mexico'],\n",
       "       ['Nacon', '1', 'Mayan, Mexico'],\n",
       "       ['Tir', '1', 'Europe: Anglo-Saxon'],\n",
       "       ['Aray ', '1', 'Armenian'],\n",
       "       ['Nane ', '1', 'Armenian'],\n",
       "       ['B,ua ', '1', 'Celtic'],\n",
       "       ['Belatucadros ', '1', 'Celtic'],\n",
       "       ['Camulus ', '1', 'Celtic'],\n",
       "       ['Caswallawn ', '1', 'Celtic'],\n",
       "       ['Cicolluis ', '1', 'Celtic'],\n",
       "       ['Nemain ', '1', 'Celtic'],\n",
       "       ['Nemain ', '1', 'Celtic'],\n",
       "       ['Rudianos ', '1', 'Celtic'],\n",
       "       ['Segomo ', '1', 'Celtic'],\n",
       "       ['Ares ', '1', 'Greek'],\n",
       "       ['Enyalius ', '1', 'Greek'],\n",
       "       ['Enyo ', '1', 'Greek'],\n",
       "       ['Pallas  ', '1', 'Greek'],\n",
       "       ['Polemos ', '1', 'Greek'],\n",
       "       ['Tyr ', '1', 'Norse'],\n",
       "       ['Bellona ', '1', 'Roman'],\n",
       "       ['Mars ', '1', 'Roman'],\n",
       "       ['Nerio ', '1', 'Roman'],\n",
       "       [',rasta ', '1', 'Romano-Celtic'],\n",
       "       ['Jarovit ', '1', 'Slavic'],\n",
       "       ['Rugiviet ', '1', 'Slavic'],\n",
       "       ['Svantetit ', '1', 'Slavic'],\n",
       "       ['Svetovit ', '1', 'Slavic'],\n",
       "       ['Triglav ', '1', 'Slavic'],\n",
       "       ['Zroya ', '1', 'Slavic'],\n",
       "       ['Anhur', '1', 'Egyptian'],\n",
       "       ['Ankt ', '1', 'Egyptian'],\n",
       "       ['Anouke ', '1', 'Egyptian'],\n",
       "       ['Maahes ', '1', 'Egyptian'],\n",
       "       ['Menhit ', '1', 'Egyptian'],\n",
       "       ['Mentu ', '1', 'Egyptian'],\n",
       "       ['Mont', '1', 'Egyptian'],\n",
       "       ['Neith', '1', 'Egyptian'],\n",
       "       ['Pakhet ', '1', 'Egyptian'],\n",
       "       ['Sekhmnet', '1', 'Egyptian'],\n",
       "       ['Futsu-Nushi-no-Kami ', '1', 'Japan/Shinto'],\n",
       "       ['hachiman ', '1', 'Japan/Shinto'],\n",
       "       ['Bishamonten', '1', 'Japan/Shinto'],\n",
       "       ['Beg-tse ', '1', 'Tibetan '],\n",
       "       ['Indra ', '1', 'hindu'],\n",
       "       ['Karttikeya ', '1', 'hindu'],\n",
       "       ['Ashtart ', '1', 'Mesopotamian'],\n",
       "       ['Ashur ', '1', 'Mesopotamian'],\n",
       "       ['Ninurta ', '1', 'Mesopotamian'],\n",
       "       ['Nanaja ', '1', 'Mesopotamian'],\n",
       "       ['Pap-nigin-gara ', '1', 'Mesopotamian'],\n",
       "       ['Sebitti', '1', 'Mesopotamian'],\n",
       "       ['Shara ', '1', 'Mesopotamian'],\n",
       "       ['Zababa ', '1', 'Mesopotamian'],\n",
       "       ['haldi ', '1', 'Urartian/ Turkey']], dtype=object)"
      ]
     },
     "execution_count": 53,
     "metadata": {},
     "output_type": "execute_result"
    }
   ],
   "source": [
    "deity_war = df[df.deity_of == '1'].to_numpy()\n",
    "deity_war "
   ]
  },
  {
   "cell_type": "code",
   "execution_count": 57,
   "metadata": {},
   "outputs": [
    {
     "ename": "ValueError",
     "evalue": "invalid literal for int() with base 10: '2, 13, , 7'",
     "output_type": "error",
     "traceback": [
      "\u001b[0;31m---------------------------------------------------------------------------\u001b[0m",
      "\u001b[0;31mValueError\u001b[0m                                Traceback (most recent call last)",
      "\u001b[0;32m<ipython-input-57-0750299a08e4>\u001b[0m in \u001b[0;36m<module>\u001b[0;34m\u001b[0m\n\u001b[0;32m----> 1\u001b[0;31m \u001b[0mdf\u001b[0m\u001b[0;34m[\u001b[0m\u001b[0;34m'deity_of'\u001b[0m\u001b[0;34m]\u001b[0m\u001b[0;34m.\u001b[0m\u001b[0mastype\u001b[0m\u001b[0;34m(\u001b[0m\u001b[0mstr\u001b[0m\u001b[0;34m)\u001b[0m\u001b[0;34m.\u001b[0m\u001b[0mastype\u001b[0m\u001b[0;34m(\u001b[0m\u001b[0mint\u001b[0m\u001b[0;34m)\u001b[0m\u001b[0;34m\u001b[0m\u001b[0;34m\u001b[0m\u001b[0m\n\u001b[0m",
      "\u001b[0;32m/usr/local/lib/python3.7/site-packages/pandas/core/generic.py\u001b[0m in \u001b[0;36mastype\u001b[0;34m(self, dtype, copy, errors)\u001b[0m\n\u001b[1;32m   5544\u001b[0m         \u001b[0;32melse\u001b[0m\u001b[0;34m:\u001b[0m\u001b[0;34m\u001b[0m\u001b[0;34m\u001b[0m\u001b[0m\n\u001b[1;32m   5545\u001b[0m             \u001b[0;31m# else, only a single dtype is given\u001b[0m\u001b[0;34m\u001b[0m\u001b[0;34m\u001b[0m\u001b[0;34m\u001b[0m\u001b[0m\n\u001b[0;32m-> 5546\u001b[0;31m             \u001b[0mnew_data\u001b[0m \u001b[0;34m=\u001b[0m \u001b[0mself\u001b[0m\u001b[0;34m.\u001b[0m\u001b[0m_mgr\u001b[0m\u001b[0;34m.\u001b[0m\u001b[0mastype\u001b[0m\u001b[0;34m(\u001b[0m\u001b[0mdtype\u001b[0m\u001b[0;34m=\u001b[0m\u001b[0mdtype\u001b[0m\u001b[0;34m,\u001b[0m \u001b[0mcopy\u001b[0m\u001b[0;34m=\u001b[0m\u001b[0mcopy\u001b[0m\u001b[0;34m,\u001b[0m \u001b[0merrors\u001b[0m\u001b[0;34m=\u001b[0m\u001b[0merrors\u001b[0m\u001b[0;34m,\u001b[0m\u001b[0;34m)\u001b[0m\u001b[0;34m\u001b[0m\u001b[0;34m\u001b[0m\u001b[0m\n\u001b[0m\u001b[1;32m   5547\u001b[0m             \u001b[0;32mreturn\u001b[0m \u001b[0mself\u001b[0m\u001b[0;34m.\u001b[0m\u001b[0m_constructor\u001b[0m\u001b[0;34m(\u001b[0m\u001b[0mnew_data\u001b[0m\u001b[0;34m)\u001b[0m\u001b[0;34m.\u001b[0m\u001b[0m__finalize__\u001b[0m\u001b[0;34m(\u001b[0m\u001b[0mself\u001b[0m\u001b[0;34m,\u001b[0m \u001b[0mmethod\u001b[0m\u001b[0;34m=\u001b[0m\u001b[0;34m\"astype\"\u001b[0m\u001b[0;34m)\u001b[0m\u001b[0;34m\u001b[0m\u001b[0;34m\u001b[0m\u001b[0m\n\u001b[1;32m   5548\u001b[0m \u001b[0;34m\u001b[0m\u001b[0m\n",
      "\u001b[0;32m/usr/local/lib/python3.7/site-packages/pandas/core/internals/managers.py\u001b[0m in \u001b[0;36mastype\u001b[0;34m(self, dtype, copy, errors)\u001b[0m\n\u001b[1;32m    593\u001b[0m         \u001b[0mself\u001b[0m\u001b[0;34m,\u001b[0m \u001b[0mdtype\u001b[0m\u001b[0;34m,\u001b[0m \u001b[0mcopy\u001b[0m\u001b[0;34m:\u001b[0m \u001b[0mbool\u001b[0m \u001b[0;34m=\u001b[0m \u001b[0;32mFalse\u001b[0m\u001b[0;34m,\u001b[0m \u001b[0merrors\u001b[0m\u001b[0;34m:\u001b[0m \u001b[0mstr\u001b[0m \u001b[0;34m=\u001b[0m \u001b[0;34m\"raise\"\u001b[0m\u001b[0;34m\u001b[0m\u001b[0;34m\u001b[0m\u001b[0m\n\u001b[1;32m    594\u001b[0m     ) -> \"BlockManager\":\n\u001b[0;32m--> 595\u001b[0;31m         \u001b[0;32mreturn\u001b[0m \u001b[0mself\u001b[0m\u001b[0;34m.\u001b[0m\u001b[0mapply\u001b[0m\u001b[0;34m(\u001b[0m\u001b[0;34m\"astype\"\u001b[0m\u001b[0;34m,\u001b[0m \u001b[0mdtype\u001b[0m\u001b[0;34m=\u001b[0m\u001b[0mdtype\u001b[0m\u001b[0;34m,\u001b[0m \u001b[0mcopy\u001b[0m\u001b[0;34m=\u001b[0m\u001b[0mcopy\u001b[0m\u001b[0;34m,\u001b[0m \u001b[0merrors\u001b[0m\u001b[0;34m=\u001b[0m\u001b[0merrors\u001b[0m\u001b[0;34m)\u001b[0m\u001b[0;34m\u001b[0m\u001b[0;34m\u001b[0m\u001b[0m\n\u001b[0m\u001b[1;32m    596\u001b[0m \u001b[0;34m\u001b[0m\u001b[0m\n\u001b[1;32m    597\u001b[0m     def convert(\n",
      "\u001b[0;32m/usr/local/lib/python3.7/site-packages/pandas/core/internals/managers.py\u001b[0m in \u001b[0;36mapply\u001b[0;34m(self, f, align_keys, **kwargs)\u001b[0m\n\u001b[1;32m    404\u001b[0m                 \u001b[0mapplied\u001b[0m \u001b[0;34m=\u001b[0m \u001b[0mb\u001b[0m\u001b[0;34m.\u001b[0m\u001b[0mapply\u001b[0m\u001b[0;34m(\u001b[0m\u001b[0mf\u001b[0m\u001b[0;34m,\u001b[0m \u001b[0;34m**\u001b[0m\u001b[0mkwargs\u001b[0m\u001b[0;34m)\u001b[0m\u001b[0;34m\u001b[0m\u001b[0;34m\u001b[0m\u001b[0m\n\u001b[1;32m    405\u001b[0m             \u001b[0;32melse\u001b[0m\u001b[0;34m:\u001b[0m\u001b[0;34m\u001b[0m\u001b[0;34m\u001b[0m\u001b[0m\n\u001b[0;32m--> 406\u001b[0;31m                 \u001b[0mapplied\u001b[0m \u001b[0;34m=\u001b[0m \u001b[0mgetattr\u001b[0m\u001b[0;34m(\u001b[0m\u001b[0mb\u001b[0m\u001b[0;34m,\u001b[0m \u001b[0mf\u001b[0m\u001b[0;34m)\u001b[0m\u001b[0;34m(\u001b[0m\u001b[0;34m**\u001b[0m\u001b[0mkwargs\u001b[0m\u001b[0;34m)\u001b[0m\u001b[0;34m\u001b[0m\u001b[0;34m\u001b[0m\u001b[0m\n\u001b[0m\u001b[1;32m    407\u001b[0m             \u001b[0mresult_blocks\u001b[0m \u001b[0;34m=\u001b[0m \u001b[0m_extend_blocks\u001b[0m\u001b[0;34m(\u001b[0m\u001b[0mapplied\u001b[0m\u001b[0;34m,\u001b[0m \u001b[0mresult_blocks\u001b[0m\u001b[0;34m)\u001b[0m\u001b[0;34m\u001b[0m\u001b[0;34m\u001b[0m\u001b[0m\n\u001b[1;32m    408\u001b[0m \u001b[0;34m\u001b[0m\u001b[0m\n",
      "\u001b[0;32m/usr/local/lib/python3.7/site-packages/pandas/core/internals/blocks.py\u001b[0m in \u001b[0;36mastype\u001b[0;34m(self, dtype, copy, errors)\u001b[0m\n\u001b[1;32m    593\u001b[0m             \u001b[0mvals1d\u001b[0m \u001b[0;34m=\u001b[0m \u001b[0mvalues\u001b[0m\u001b[0;34m.\u001b[0m\u001b[0mravel\u001b[0m\u001b[0;34m(\u001b[0m\u001b[0;34m)\u001b[0m\u001b[0;34m\u001b[0m\u001b[0;34m\u001b[0m\u001b[0m\n\u001b[1;32m    594\u001b[0m             \u001b[0;32mtry\u001b[0m\u001b[0;34m:\u001b[0m\u001b[0;34m\u001b[0m\u001b[0;34m\u001b[0m\u001b[0m\n\u001b[0;32m--> 595\u001b[0;31m                 \u001b[0mvalues\u001b[0m \u001b[0;34m=\u001b[0m \u001b[0mastype_nansafe\u001b[0m\u001b[0;34m(\u001b[0m\u001b[0mvals1d\u001b[0m\u001b[0;34m,\u001b[0m \u001b[0mdtype\u001b[0m\u001b[0;34m,\u001b[0m \u001b[0mcopy\u001b[0m\u001b[0;34m=\u001b[0m\u001b[0;32mTrue\u001b[0m\u001b[0;34m)\u001b[0m\u001b[0;34m\u001b[0m\u001b[0;34m\u001b[0m\u001b[0m\n\u001b[0m\u001b[1;32m    596\u001b[0m             \u001b[0;32mexcept\u001b[0m \u001b[0;34m(\u001b[0m\u001b[0mValueError\u001b[0m\u001b[0;34m,\u001b[0m \u001b[0mTypeError\u001b[0m\u001b[0;34m)\u001b[0m\u001b[0;34m:\u001b[0m\u001b[0;34m\u001b[0m\u001b[0;34m\u001b[0m\u001b[0m\n\u001b[1;32m    597\u001b[0m                 \u001b[0;31m# e.g. astype_nansafe can fail on object-dtype of strings\u001b[0m\u001b[0;34m\u001b[0m\u001b[0;34m\u001b[0m\u001b[0;34m\u001b[0m\u001b[0m\n",
      "\u001b[0;32m/usr/local/lib/python3.7/site-packages/pandas/core/dtypes/cast.py\u001b[0m in \u001b[0;36mastype_nansafe\u001b[0;34m(arr, dtype, copy, skipna)\u001b[0m\n\u001b[1;32m    970\u001b[0m         \u001b[0;31m# work around NumPy brokenness, #1987\u001b[0m\u001b[0;34m\u001b[0m\u001b[0;34m\u001b[0m\u001b[0;34m\u001b[0m\u001b[0m\n\u001b[1;32m    971\u001b[0m         \u001b[0;32mif\u001b[0m \u001b[0mnp\u001b[0m\u001b[0;34m.\u001b[0m\u001b[0missubdtype\u001b[0m\u001b[0;34m(\u001b[0m\u001b[0mdtype\u001b[0m\u001b[0;34m.\u001b[0m\u001b[0mtype\u001b[0m\u001b[0;34m,\u001b[0m \u001b[0mnp\u001b[0m\u001b[0;34m.\u001b[0m\u001b[0minteger\u001b[0m\u001b[0;34m)\u001b[0m\u001b[0;34m:\u001b[0m\u001b[0;34m\u001b[0m\u001b[0;34m\u001b[0m\u001b[0m\n\u001b[0;32m--> 972\u001b[0;31m             \u001b[0;32mreturn\u001b[0m \u001b[0mlib\u001b[0m\u001b[0;34m.\u001b[0m\u001b[0mastype_intsafe\u001b[0m\u001b[0;34m(\u001b[0m\u001b[0marr\u001b[0m\u001b[0;34m.\u001b[0m\u001b[0mravel\u001b[0m\u001b[0;34m(\u001b[0m\u001b[0;34m)\u001b[0m\u001b[0;34m,\u001b[0m \u001b[0mdtype\u001b[0m\u001b[0;34m)\u001b[0m\u001b[0;34m.\u001b[0m\u001b[0mreshape\u001b[0m\u001b[0;34m(\u001b[0m\u001b[0marr\u001b[0m\u001b[0;34m.\u001b[0m\u001b[0mshape\u001b[0m\u001b[0;34m)\u001b[0m\u001b[0;34m\u001b[0m\u001b[0;34m\u001b[0m\u001b[0m\n\u001b[0m\u001b[1;32m    973\u001b[0m \u001b[0;34m\u001b[0m\u001b[0m\n\u001b[1;32m    974\u001b[0m         \u001b[0;31m# if we have a datetime/timedelta array of objects\u001b[0m\u001b[0;34m\u001b[0m\u001b[0;34m\u001b[0m\u001b[0;34m\u001b[0m\u001b[0m\n",
      "\u001b[0;32mpandas/_libs/lib.pyx\u001b[0m in \u001b[0;36mpandas._libs.lib.astype_intsafe\u001b[0;34m()\u001b[0m\n",
      "\u001b[0;31mValueError\u001b[0m: invalid literal for int() with base 10: '2, 13, , 7'"
     ]
    }
   ],
   "source": [
    "df['deity_of'].astype(str).astype(int)"
   ]
  },
  {
   "cell_type": "code",
   "execution_count": null,
   "metadata": {},
   "outputs": [],
   "source": []
  }
 ],
 "metadata": {
  "kernelspec": {
   "display_name": "Python 3",
   "language": "python",
   "name": "python3"
  },
  "language_info": {
   "codemirror_mode": {
    "name": "ipython",
    "version": 3
   },
   "file_extension": ".py",
   "mimetype": "text/x-python",
   "name": "python",
   "nbconvert_exporter": "python",
   "pygments_lexer": "ipython3",
   "version": "3.7.4"
  }
 },
 "nbformat": 4,
 "nbformat_minor": 2
}
