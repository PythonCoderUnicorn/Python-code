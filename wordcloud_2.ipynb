{
 "cells": [
  {
   "cell_type": "markdown",
   "metadata": {},
   "source": [
    "# 7of9 wordcloud"
   ]
  },
  {
   "cell_type": "code",
   "execution_count": 4,
   "metadata": {},
   "outputs": [
    {
     "data": {
      "text/plain": [
       "<wordcloud.wordcloud.WordCloud at 0x112e33ed0>"
      ]
     },
     "execution_count": 4,
     "metadata": {},
     "output_type": "execute_result"
    },
    {
     "data": {
      "image/png": "[encoded data removed]",
      "text/plain": [
       "<Figure size 432x288 with 1 Axes>"
      ]
     },
     "metadata": {
      "needs_background": "light"
     },
     "output_type": "display_data"
    }
   ],
   "source": [
    "# wordcloud\n",
    "\n",
    "from wordcloud import WordCloud \n",
    "import matplotlib.pyplot as plt \n",
    "\n",
    "\n",
    "# read the whole text\n",
    "text = open('VOY7of9.txt').read() \n",
    "\n",
    "# generate a wordcloud and plot it\n",
    "wordcloud = WordCloud(width=2000, height=2000, \n",
    "                      background_color='black', \n",
    "                      colormap='Greens', \n",
    "                      repeat=False, \n",
    "                      max_font_size=400, \n",
    "                      min_font_size=20).generate(text)\n",
    "\n",
    "\n",
    "\n",
    "# plt.imshow(wordcloud)\n",
    "# turn off axis - avoid numbers around cloud\n",
    "plt.axis('off')\n",
    "\n",
    "# show\n",
    "# plt.show()\n",
    "\n",
    "wordcloud.to_file(\"7of9-2.png\")"
   ]
  },
  {
   "cell_type": "code",
   "execution_count": null,
   "metadata": {},
   "outputs": [],
   "source": []
  }
 ],
 "metadata": {
  "kernelspec": {
   "display_name": "Python 3",
   "language": "python",
   "name": "python3"
  },
  "language_info": {
   "codemirror_mode": {
    "name": "ipython",
    "version": 3
   },
   "file_extension": ".py",
   "mimetype": "text/x-python",
   "name": "python",
   "nbconvert_exporter": "python",
   "pygments_lexer": "ipython3",
   "version": "3.7.4"
  }
 },
 "nbformat": 4,
 "nbformat_minor": 2
}
