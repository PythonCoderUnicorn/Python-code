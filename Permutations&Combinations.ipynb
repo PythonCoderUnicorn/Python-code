{
 "cells": [
  {
   "cell_type": "markdown",
   "metadata": {},
   "source": [
    "# Permutations & Combinations\n",
    "- https://www.geeksforgeeks.org/permutation-and-combination-in-python/"
   ]
  },
  {
   "cell_type": "code",
   "execution_count": 1,
   "metadata": {},
   "outputs": [],
   "source": [
    "# A Python program to print all  \n",
    "# permutations using library function \n",
    "from itertools import permutations "
   ]
  },
  {
   "cell_type": "code",
   "execution_count": 11,
   "metadata": {},
   "outputs": [
    {
     "name": "stdout",
     "output_type": "stream",
     "text": [
      "(1, 2, 3)\n",
      "(1, 3, 2)\n",
      "(2, 1, 3)\n",
      "(2, 3, 1)\n",
      "(3, 1, 2)\n",
      "(3, 2, 1)\n"
     ]
    }
   ],
   "source": [
    "# Get all permutations of [1, 2, 3] \n",
    "perm = permutations([1, 2, 3]) \n",
    "\n",
    "# Print the obtained permutations \n",
    "for i in list(perm): \n",
    "    print(i) \n",
    "    \n",
    "# It generates n! permutations if length of input sequence is n.\n",
    "# If want want to get permutations of length L then implement it in this way."
   ]
  },
  {
   "cell_type": "code",
   "execution_count": 10,
   "metadata": {},
   "outputs": [
    {
     "name": "stdout",
     "output_type": "stream",
     "text": [
      "(1, 2)\n",
      "(1, 3)\n",
      "(2, 1)\n",
      "(2, 3)\n",
      "(3, 1)\n",
      "(3, 2)\n"
     ]
    }
   ],
   "source": [
    "# Get all permutations of length 2 \n",
    "# and length 2 \n",
    "perm2 = permutations([1, 2, 3], 2) \n",
    "\n",
    "# Print the obtained permutations \n",
    "for i in list(perm2): \n",
    "    print(i)\n",
    "\n",
    "# It generate nCr * r! permutations \n",
    "# if length of input sequence is n and input parameter is r."
   ]
  },
  {
   "cell_type": "markdown",
   "metadata": {},
   "source": [
    "Comination\n",
    "\n",
    "This method takes a list and a input r as a input and return a object list of tuples which contain all possible combination of length r in a list form."
   ]
  },
  {
   "cell_type": "code",
   "execution_count": 12,
   "metadata": {},
   "outputs": [
    {
     "name": "stdout",
     "output_type": "stream",
     "text": [
      "(1, 2)\n",
      "(1, 3)\n",
      "(2, 3)\n"
     ]
    }
   ],
   "source": [
    "# A Python program to print all  \n",
    "# combinations of given length \n",
    "from itertools import combinations \n",
    "  \n",
    "# Get all combinations of [1, 2, 3] \n",
    "# and length 2 \n",
    "comb = combinations([1, 2, 3], 2) \n",
    "  \n",
    "# Print the obtained combinations \n",
    "for c in list(comb): \n",
    "    print(c) "
   ]
  },
  {
   "cell_type": "code",
   "execution_count": 13,
   "metadata": {},
   "outputs": [
    {
     "name": "stdout",
     "output_type": "stream",
     "text": [
      "(2, 1)\n",
      "(2, 3)\n",
      "(1, 3)\n"
     ]
    }
   ],
   "source": [
    "# Get all combinations of [2, 1, 3] \n",
    "# and length 2 \n",
    "comb = combinations([2, 1, 3], 2) \n",
    "  \n",
    "# Print the obtained combinations \n",
    "for i in list(comb): \n",
    "    print(i) "
   ]
  },
  {
   "cell_type": "markdown",
   "metadata": {},
   "source": [
    "Elements are treated as unique based on their position, not on their value. \n",
    "So if the input elements are unique, there will be no repeat values in each combination."
   ]
  },
  {
   "cell_type": "code",
   "execution_count": 14,
   "metadata": {},
   "outputs": [
    {
     "name": "stdout",
     "output_type": "stream",
     "text": [
      "(1, 1)\n",
      "(1, 3)\n",
      "(1, 3)\n"
     ]
    }
   ],
   "source": [
    "# Get all combinations of [1, 1, 3] \n",
    "# and length 2 \n",
    "comb = combinations([1, 1, 3], 2) \n",
    "  \n",
    "# Print the obtained combinations \n",
    "for i in list(comb): \n",
    "    print(i) "
   ]
  },
  {
   "cell_type": "markdown",
   "metadata": {},
   "source": [
    "If we want to make combination of same element to same element then we use combinations_with_replacement."
   ]
  },
  {
   "cell_type": "code",
   "execution_count": 15,
   "metadata": {},
   "outputs": [
    {
     "name": "stdout",
     "output_type": "stream",
     "text": [
      "(1, 1)\n",
      "(1, 2)\n",
      "(1, 3)\n",
      "(2, 2)\n",
      "(2, 3)\n",
      "(3, 3)\n"
     ]
    }
   ],
   "source": [
    "# A Python program to print all combinations \n",
    "# with an element-to-itself combination is  \n",
    "# also included \n",
    "from itertools import combinations_with_replacement \n",
    "  \n",
    "# Get all combinations of [1, 2, 3] and length 2 \n",
    "comb = combinations_with_replacement([1, 2, 3], 2) \n",
    "  \n",
    "# Print the obtained combinations \n",
    "for i in list(comb): \n",
    "    print(i) "
   ]
  },
  {
   "cell_type": "markdown",
   "metadata": {},
   "source": [
    "https://www.askpython.com/python/permutations-and-combinations-using-python\n",
    "\n",
    "## Permutations of a Python string\n",
    "- If we are given a Python string and asked to find out all the ways its letters can be arranged, then the task can easily be achieved by the permutations() function."
   ]
  },
  {
   "cell_type": "code",
   "execution_count": 16,
   "metadata": {},
   "outputs": [
    {
     "name": "stdout",
     "output_type": "stream",
     "text": [
      "A B C\n",
      "A C B\n",
      "B A C\n",
      "B C A\n",
      "C A B\n",
      "C B A\n"
     ]
    }
   ],
   "source": [
    "import itertools\n",
    " \n",
    "st = \"ABC\"\n",
    " \n",
    "per = itertools.permutations(st)\n",
    " \n",
    "for val in per:\n",
    "    print(*val)"
   ]
  },
  {
   "cell_type": "markdown",
   "metadata": {},
   "source": [
    "## Permutations of multiple numbers\n",
    "- The permuatations() function takes an iterable argument, therefore in order to find out permutations of numbers, we need to pass the numbers as a list, set, or tuple."
   ]
  },
  {
   "cell_type": "code",
   "execution_count": 21,
   "metadata": {},
   "outputs": [
    {
     "name": "stdout",
     "output_type": "stream",
     "text": [
      "1 2 3\n",
      "1 3 2\n",
      "2 1 3\n",
      "2 3 1\n",
      "3 1 2\n",
      "3 2 1\n"
     ]
    }
   ],
   "source": [
    "values = [1, 2, 3]\n",
    "per = itertools.permutations(values)\n",
    " \n",
    "for val in per:\n",
    "    print(*val)"
   ]
  },
  {
   "cell_type": "markdown",
   "metadata": {},
   "source": [
    "## Permutations with certain number of elements\n",
    "- Similar, to the concept of ‘nPr’, which states “Arranging r elements out of n”, this can be achieved by passing an integer after the set of elements."
   ]
  },
  {
   "cell_type": "code",
   "execution_count": 22,
   "metadata": {},
   "outputs": [
    {
     "name": "stdout",
     "output_type": "stream",
     "text": [
      "1 2\n",
      "1 3\n",
      "1 4\n",
      "2 1\n",
      "2 3\n",
      "2 4\n",
      "3 1\n",
      "3 2\n",
      "3 4\n",
      "4 1\n",
      "4 2\n",
      "4 3\n"
     ]
    }
   ],
   "source": [
    "values = [1, 2, 3, 4]\n",
    "per = itertools.permutations(values, 2)\n",
    " \n",
    "for val in per:\n",
    "    print(*val)"
   ]
  },
  {
   "cell_type": "markdown",
   "metadata": {},
   "source": [
    "## Finding Combinations\n",
    "- The term Combinations, refer to the ways of picking up elements from a set of objects. The itertools library provides a method combinations() for exactly this functionality.\n",
    "- One thing to note here is that, picking a set of objects does not involve arranging. The combinations() function takes two arguments:\n",
    "\n",
    "    - the set of values\n",
    "    - an integer denoting the number of values to be picked for a combination."
   ]
  },
  {
   "cell_type": "markdown",
   "metadata": {},
   "source": [
    "## Combinations for letters in a word\n",
    "- Given a word, if we need to find all combinations containing exactly 2 letters from the word, then combinations() is the go-to function."
   ]
  },
  {
   "cell_type": "code",
   "execution_count": 24,
   "metadata": {},
   "outputs": [
    {
     "name": "stdout",
     "output_type": "stream",
     "text": [
      "A B\n",
      "A C\n",
      "A D\n",
      "A E\n",
      "B C\n",
      "B D\n",
      "B E\n",
      "C D\n",
      "C E\n",
      "D E\n"
     ]
    }
   ],
   "source": [
    "import itertools\n",
    " \n",
    "st = \"ABCDE\"\n",
    "com = itertools.combinations(st, 2)\n",
    " \n",
    "for val in com:\n",
    "    print(*val)"
   ]
  },
  {
   "cell_type": "markdown",
   "metadata": {},
   "source": [
    "## Combinations of set of numbers\n",
    "- Similar to the combinations result we got for letters in a word, it can be achieved for numbers in a list."
   ]
  },
  {
   "cell_type": "code",
   "execution_count": 25,
   "metadata": {},
   "outputs": [
    {
     "name": "stdout",
     "output_type": "stream",
     "text": [
      "1 2\n",
      "1 3\n",
      "1 4\n",
      "2 3\n",
      "2 4\n",
      "3 4\n"
     ]
    }
   ],
   "source": [
    "import itertools\n",
    " \n",
    "values = [1, 2, 3, 4]\n",
    "com = itertools.combinations(values, 2)\n",
    " \n",
    "for val in com:\n",
    "    print(*val)"
   ]
  },
  {
   "cell_type": "markdown",
   "metadata": {},
   "source": [
    "Note: The combinations generated are based on the index values of each object, not their actual values, therefore in case any value is repeated, then the function prints similar combinations thinking each value is different."
   ]
  },
  {
   "cell_type": "code",
   "execution_count": 26,
   "metadata": {},
   "outputs": [
    {
     "name": "stdout",
     "output_type": "stream",
     "text": [
      "1 1\n",
      "1 2\n",
      "1 2\n",
      "1 2\n",
      "1 2\n",
      "2 2\n"
     ]
    }
   ],
   "source": [
    "values = [1, 1, 2, 2]\n",
    "com = itertools.combinations(values, 2)\n",
    " \n",
    "for val in com:\n",
    "    print(*val)"
   ]
  },
  {
   "cell_type": "markdown",
   "metadata": {},
   "source": [
    "## Combinations of numbers with itself\n",
    "- There is yet another function related to permutations and combinations in the itertools library called combinations_with_replacement(). This function is a variation of combinations() function, with a slight difference that it includes combinations of elements with themselves."
   ]
  },
  {
   "cell_type": "code",
   "execution_count": 27,
   "metadata": {},
   "outputs": [
    {
     "name": "stdout",
     "output_type": "stream",
     "text": [
      "1 1\n",
      "1 2\n",
      "1 3\n",
      "1 4\n",
      "2 2\n",
      "2 3\n",
      "2 4\n",
      "3 3\n",
      "3 4\n",
      "4 4\n"
     ]
    }
   ],
   "source": [
    "values = [1, 2, 3, 4]\n",
    "com = itertools.combinations_with_replacement(values, 2)\n",
    " \n",
    "for val in com:\n",
    "    print(*val)"
   ]
  },
  {
   "cell_type": "markdown",
   "metadata": {},
   "source": [
    "We can see the clear distinction of the above output from the output with the same parameters when passed to combinations() function.\n",
    "\n",
    "There are combinations of numbers with themselves, like there are multiple instances of them in the list. This basically happens because, when we pick an element from the list, the above function, places the same value again, in order to get combinations with itself."
   ]
  },
  {
   "cell_type": "code",
   "execution_count": null,
   "metadata": {},
   "outputs": [],
   "source": []
  },
  {
   "cell_type": "code",
   "execution_count": 30,
   "metadata": {},
   "outputs": [
    {
     "name": "stdout",
     "output_type": "stream",
     "text": [
      "[(1, 2, 3), (1, 3, 2), (2, 1, 3), (2, 3, 1), (3, 1, 2), (3, 2, 1)]\n"
     ]
    }
   ],
   "source": [
    "from itertools import permutations \n",
    "l = list(permutations(range(1, 4))) \n",
    "print(l) "
   ]
  },
  {
   "cell_type": "code",
   "execution_count": null,
   "metadata": {},
   "outputs": [],
   "source": []
  },
  {
   "cell_type": "code",
   "execution_count": 54,
   "metadata": {},
   "outputs": [
    {
     "name": "stdout",
     "output_type": "stream",
     "text": [
      "Initial string HT\n",
      "Initial string TTH\n",
      "Initial string THH\n",
      "Initial string HTTH\n",
      "\n",
      "Resultant List ['HT', 'TH']\n",
      "Result List    ['TTH', 'THT', 'TTH', 'THT', 'HTT', 'HTT']\n",
      "Result List    ['THH', 'THH', 'HTH', 'HHT', 'HTH', 'HHT']\n",
      "\n",
      "4 flips Result List    ['HTTH', 'HTHT', 'HTTH', 'HTHT', 'HHTT', 'HHTT', 'THTH', 'THHT', 'TTHH', 'TTHH', 'THHT', 'THTH', 'THTH', 'THHT', 'TTHH', 'TTHH', 'THHT', 'THTH', 'HHTT', 'HHTT', 'HTHT', 'HTTH', 'HTHT', 'HTTH']\n"
     ]
    }
   ],
   "source": [
    "# Python code to demonstrate \n",
    "# to find all permutation of \n",
    "# a given string \n",
    "\n",
    "from itertools import permutations \n",
    "\n",
    "# Initialising string \n",
    "ini_str = \"HT\" #\"abc\"\n",
    "init_str = \"TTH\"\n",
    "init_str2 = \"THH\"\n",
    "flips4 =\"HTTH\" \n",
    "\n",
    "# Printing initial string \n",
    "print(\"Initial string\", ini_str) \n",
    "print(\"Initial string\", init_str) \n",
    "print(\"Initial string\", init_str2) \n",
    "print(\"Initial string\", flips4) \n",
    "\n",
    "# Finding all permuatation \n",
    "permutation = [''.join(p) for p in permutations(ini_str)] \n",
    "perm = [''.join(p) for p in permutations(init_str)] \n",
    "perm2 = [''.join(p) for p in permutations(init_str2)] \n",
    "perm4 = [''.join(p) for p in permutations(flips4)] \n",
    "# Printing result \n",
    "print(\"\\nResultant List\", list(permutation)) \n",
    "print(\"Result List   \", list(perm)) \n",
    "print(\"Result List   \", list(perm2)) \n",
    "print(\"\\n4 flips Result List   \", list(perm4)) \n",
    "\n",
    "# HTT [HTT,HTT]\n",
    "# TTH [TTH,TTH] \n",
    "# HHT [HHT,HHT]\n",
    "# THH [THH,THH]  \n",
    "# HTH, \n",
    "# TTT,  \n",
    "# THT,         \n",
    "# HHH, "
   ]
  },
  {
   "cell_type": "code",
   "execution_count": 49,
   "metadata": {},
   "outputs": [
    {
     "data": {
      "text/plain": [
       "24"
      ]
     },
     "execution_count": 49,
     "metadata": {},
     "output_type": "execute_result"
    }
   ],
   "source": [
    "len(perm4)"
   ]
  },
  {
   "cell_type": "code",
   "execution_count": null,
   "metadata": {},
   "outputs": [],
   "source": []
  }
 ],
 "metadata": {
  "kernelspec": {
   "display_name": "Python 3.7.3 64-bit",
   "language": "python",
   "name": "python37364bit9b69bff851564135a651bd7c5cb19a68"
  },
  "language_info": {
   "codemirror_mode": {
    "name": "ipython",
    "version": 3
   },
   "file_extension": ".py",
   "mimetype": "text/x-python",
   "name": "python",
   "nbconvert_exporter": "python",
   "pygments_lexer": "ipython3",
   "version": "3.7.3"
  }
 },
 "nbformat": 4,
 "nbformat_minor": 4
}
